{
  "nbformat": 4,
  "nbformat_minor": 0,
  "metadata": {
    "colab": {
      "provenance": [],
      "collapsed_sections": [
        "0g0QhLEFV1OQ",
        "hMllNyv1k-Ol"
      ],
      "mount_file_id": "1yr4J4ge_kP8AlA4sGwW455wRn9jYPcYx",
      "authorship_tag": "ABX9TyP4SQHR+yoUntCUGUrB+LOS",
      "include_colab_link": true
    },
    "kernelspec": {
      "name": "python3",
      "display_name": "Python 3"
    },
    "language_info": {
      "name": "python"
    }
  },
  "cells": [
    {
      "cell_type": "markdown",
      "metadata": {
        "id": "view-in-github",
        "colab_type": "text"
      },
      "source": [
        "<a href=\"https://colab.research.google.com/github/NabilahSharfina/TELCO-CUSTOMER-CHURN/blob/main/TA_Churn_Prediction.ipynb\" target=\"_parent\"><img src=\"https://colab.research.google.com/assets/colab-badge.svg\" alt=\"Open In Colab\"/></a>"
      ]
    },
    {
      "cell_type": "markdown",
      "source": [
        "<a id=\"1\"></a>\n",
        "# A. Problem Statement\n",
        "\n",
        "<p>\n",
        "    <quote>\n",
        "    \n",
        "    Churn data for a fictional Telecommunications company that\n",
        "    provides phone and internet services to 7,043 customers in\n",
        "    California, and includes details about customer demographics,\n",
        "    location, services, and current status.\n",
        "\n",
        "    Recommended Analysis:\n",
        "    * How many customers joined the company during the last quarter?\n",
        "    * How many customers joined?\n",
        "    * What is the customer profile for a customer that churned, joined, and stayed? Are they different?\n",
        "    * What seem to be the key drivers of customer churn?\n",
        "    * Is the company losing high value customers? If so, how can they retain them?\n",
        "</p>\n",
        "<p>Background Source: <a href=\"https://www.mavenanalytics.io/data-playground\">Latar Belakang Telco Churn</a></p>\n",
        "<br/>\n",
        "<p><strong>There is a big competition between Internet providers. If a providers want to increase its revenue they needs more subscriber but keep existing customer is more important than having new ones. So providers want to know which customer should cancel his service. we call this as churn. if the know who will go, maybe they can catch them with promotions.</strong></p>\n",
        "<p>Dataset Source: <a href=\"https://www.mavenanalytics.io/data-playground\">Maven Analytics</a></p>"
      ],
      "metadata": {
        "id": "0g0QhLEFV1OQ"
      }
    },
    {
      "cell_type": "markdown",
      "metadata": {
        "id": "hMllNyv1k-Ol"
      },
      "source": [
        "# B. Connect Google Drive"
      ]
    },
    {
      "cell_type": "code",
      "execution_count": 1,
      "metadata": {
        "id": "oxgQKZQM5v2a",
        "colab": {
          "base_uri": "https://localhost:8080/"
        },
        "outputId": "778ce313-e6f1-4113-87d2-d82140061c22"
      },
      "outputs": [
        {
          "output_type": "stream",
          "name": "stdout",
          "text": [
            "Drive already mounted at /content/drive; to attempt to forcibly remount, call drive.mount(\"/content/drive\", force_remount=True).\n"
          ]
        }
      ],
      "source": [
        "# Load data from google drive\n",
        "from google.colab import drive\n",
        "drive.mount('/content/drive')"
      ]
    },
    {
      "cell_type": "markdown",
      "metadata": {
        "id": "xrQRQBkPk1sg"
      },
      "source": [
        "# C. Import Library"
      ]
    },
    {
      "cell_type": "code",
      "execution_count": 2,
      "metadata": {
        "id": "2OlweU5Q7MT8"
      },
      "outputs": [],
      "source": [
        "import math\n",
        "from collections import Counter\n",
        "from pprint import pprint\n",
        "\n",
        "import pandas as pd # for handling and cleaning the dataset\n",
        "import numpy as np # for performing mathematical calculations behind ML algorithms\n",
        "import matplotlib.pyplot as plt # for visualization\n",
        "import seaborn as sns # for visualization\n",
        "\n",
        "# Label Encoding: digunakan untuk tipe data ordinal\n",
        "from sklearn.preprocessing import LabelEncoder\n",
        "# One Hot Encoding: digunakan untuk bukan tipe data ordinal, misal nominal, interval, dan ratio\n",
        "from sklearn.preprocessing import OneHotEncoder\n",
        "\n",
        "# Scalling Data\n",
        "from sklearn.preprocessing import MinMaxScaler\n",
        "from sklearn.preprocessing import StandardScaler\n",
        "\n",
        "# Handle imbalance dataset\n",
        "from imblearn.over_sampling import SMOTE\n",
        "\n",
        "# Splitting Data\n",
        "from sklearn.model_selection import train_test_split\n",
        "\n",
        "# Modelling\n",
        "from sklearn.ensemble import RandomForestClassifier\n",
        "from sklearn.naive_bayes import GaussianNB\n",
        "\n",
        "# For feature importance\n",
        "from sklearn.datasets import make_classification\n",
        "\n",
        "import sklearn.metrics as metrics\n",
        "from sklearn.metrics import accuracy_score\n",
        "from sklearn.metrics import confusion_matrix\n",
        "from sklearn.metrics import classification_report"
      ]
    },
    {
      "cell_type": "markdown",
      "source": [
        "# 1. EDA"
      ],
      "metadata": {
        "id": "8V0eENVmVxqq"
      }
    },
    {
      "cell_type": "markdown",
      "source": [
        "## 1.1 Data Loading"
      ],
      "metadata": {
        "id": "LqvDfInWTUu4"
      }
    },
    {
      "cell_type": "code",
      "source": [
        "df = pd.read_csv(\"/content/drive/MyDrive/ITTP/KULIAH/SEMESTER 7/TUGAS AKHIR 2/IBM Dataset/IBM-Telco-Customer-Churn.csv\")\n",
        "df.drop('customerID', axis=1, inplace=True)\n",
        "df.head()"
      ],
      "metadata": {
        "colab": {
          "base_uri": "https://localhost:8080/",
          "height": 339
        },
        "id": "mBYNbUhQVus2",
        "outputId": "dba17165-7eab-438e-904b-23973849779e"
      },
      "execution_count": 3,
      "outputs": [
        {
          "output_type": "execute_result",
          "data": {
            "text/plain": [
              "   gender  SeniorCitizen Partner Dependents  tenure PhoneService  \\\n",
              "0  Female              0     Yes         No       1           No   \n",
              "1    Male              0      No         No      34          Yes   \n",
              "2    Male              0      No         No       2          Yes   \n",
              "3    Male              0      No         No      45           No   \n",
              "4  Female              0      No         No       2          Yes   \n",
              "\n",
              "      MultipleLines InternetService OnlineSecurity OnlineBackup  \\\n",
              "0  No phone service             DSL             No          Yes   \n",
              "1                No             DSL            Yes           No   \n",
              "2                No             DSL            Yes          Yes   \n",
              "3  No phone service             DSL            Yes           No   \n",
              "4                No     Fiber optic             No           No   \n",
              "\n",
              "  DeviceProtection TechSupport StreamingTV StreamingMovies        Contract  \\\n",
              "0               No          No          No              No  Month-to-month   \n",
              "1              Yes          No          No              No        One year   \n",
              "2               No          No          No              No  Month-to-month   \n",
              "3              Yes         Yes          No              No        One year   \n",
              "4               No          No          No              No  Month-to-month   \n",
              "\n",
              "  PaperlessBilling              PaymentMethod  MonthlyCharges TotalCharges  \\\n",
              "0              Yes           Electronic check           29.85        29.85   \n",
              "1               No               Mailed check           56.95       1889.5   \n",
              "2              Yes               Mailed check           53.85       108.15   \n",
              "3               No  Bank transfer (automatic)           42.30      1840.75   \n",
              "4              Yes           Electronic check           70.70       151.65   \n",
              "\n",
              "  Churn  \n",
              "0    No  \n",
              "1    No  \n",
              "2   Yes  \n",
              "3    No  \n",
              "4   Yes  "
            ],
            "text/html": [
              "\n",
              "  <div id=\"df-a2abbf6c-718f-4ce7-b5dc-59c2dcac8117\">\n",
              "    <div class=\"colab-df-container\">\n",
              "      <div>\n",
              "<style scoped>\n",
              "    .dataframe tbody tr th:only-of-type {\n",
              "        vertical-align: middle;\n",
              "    }\n",
              "\n",
              "    .dataframe tbody tr th {\n",
              "        vertical-align: top;\n",
              "    }\n",
              "\n",
              "    .dataframe thead th {\n",
              "        text-align: right;\n",
              "    }\n",
              "</style>\n",
              "<table border=\"1\" class=\"dataframe\">\n",
              "  <thead>\n",
              "    <tr style=\"text-align: right;\">\n",
              "      <th></th>\n",
              "      <th>gender</th>\n",
              "      <th>SeniorCitizen</th>\n",
              "      <th>Partner</th>\n",
              "      <th>Dependents</th>\n",
              "      <th>tenure</th>\n",
              "      <th>PhoneService</th>\n",
              "      <th>MultipleLines</th>\n",
              "      <th>InternetService</th>\n",
              "      <th>OnlineSecurity</th>\n",
              "      <th>OnlineBackup</th>\n",
              "      <th>DeviceProtection</th>\n",
              "      <th>TechSupport</th>\n",
              "      <th>StreamingTV</th>\n",
              "      <th>StreamingMovies</th>\n",
              "      <th>Contract</th>\n",
              "      <th>PaperlessBilling</th>\n",
              "      <th>PaymentMethod</th>\n",
              "      <th>MonthlyCharges</th>\n",
              "      <th>TotalCharges</th>\n",
              "      <th>Churn</th>\n",
              "    </tr>\n",
              "  </thead>\n",
              "  <tbody>\n",
              "    <tr>\n",
              "      <th>0</th>\n",
              "      <td>Female</td>\n",
              "      <td>0</td>\n",
              "      <td>Yes</td>\n",
              "      <td>No</td>\n",
              "      <td>1</td>\n",
              "      <td>No</td>\n",
              "      <td>No phone service</td>\n",
              "      <td>DSL</td>\n",
              "      <td>No</td>\n",
              "      <td>Yes</td>\n",
              "      <td>No</td>\n",
              "      <td>No</td>\n",
              "      <td>No</td>\n",
              "      <td>No</td>\n",
              "      <td>Month-to-month</td>\n",
              "      <td>Yes</td>\n",
              "      <td>Electronic check</td>\n",
              "      <td>29.85</td>\n",
              "      <td>29.85</td>\n",
              "      <td>No</td>\n",
              "    </tr>\n",
              "    <tr>\n",
              "      <th>1</th>\n",
              "      <td>Male</td>\n",
              "      <td>0</td>\n",
              "      <td>No</td>\n",
              "      <td>No</td>\n",
              "      <td>34</td>\n",
              "      <td>Yes</td>\n",
              "      <td>No</td>\n",
              "      <td>DSL</td>\n",
              "      <td>Yes</td>\n",
              "      <td>No</td>\n",
              "      <td>Yes</td>\n",
              "      <td>No</td>\n",
              "      <td>No</td>\n",
              "      <td>No</td>\n",
              "      <td>One year</td>\n",
              "      <td>No</td>\n",
              "      <td>Mailed check</td>\n",
              "      <td>56.95</td>\n",
              "      <td>1889.5</td>\n",
              "      <td>No</td>\n",
              "    </tr>\n",
              "    <tr>\n",
              "      <th>2</th>\n",
              "      <td>Male</td>\n",
              "      <td>0</td>\n",
              "      <td>No</td>\n",
              "      <td>No</td>\n",
              "      <td>2</td>\n",
              "      <td>Yes</td>\n",
              "      <td>No</td>\n",
              "      <td>DSL</td>\n",
              "      <td>Yes</td>\n",
              "      <td>Yes</td>\n",
              "      <td>No</td>\n",
              "      <td>No</td>\n",
              "      <td>No</td>\n",
              "      <td>No</td>\n",
              "      <td>Month-to-month</td>\n",
              "      <td>Yes</td>\n",
              "      <td>Mailed check</td>\n",
              "      <td>53.85</td>\n",
              "      <td>108.15</td>\n",
              "      <td>Yes</td>\n",
              "    </tr>\n",
              "    <tr>\n",
              "      <th>3</th>\n",
              "      <td>Male</td>\n",
              "      <td>0</td>\n",
              "      <td>No</td>\n",
              "      <td>No</td>\n",
              "      <td>45</td>\n",
              "      <td>No</td>\n",
              "      <td>No phone service</td>\n",
              "      <td>DSL</td>\n",
              "      <td>Yes</td>\n",
              "      <td>No</td>\n",
              "      <td>Yes</td>\n",
              "      <td>Yes</td>\n",
              "      <td>No</td>\n",
              "      <td>No</td>\n",
              "      <td>One year</td>\n",
              "      <td>No</td>\n",
              "      <td>Bank transfer (automatic)</td>\n",
              "      <td>42.30</td>\n",
              "      <td>1840.75</td>\n",
              "      <td>No</td>\n",
              "    </tr>\n",
              "    <tr>\n",
              "      <th>4</th>\n",
              "      <td>Female</td>\n",
              "      <td>0</td>\n",
              "      <td>No</td>\n",
              "      <td>No</td>\n",
              "      <td>2</td>\n",
              "      <td>Yes</td>\n",
              "      <td>No</td>\n",
              "      <td>Fiber optic</td>\n",
              "      <td>No</td>\n",
              "      <td>No</td>\n",
              "      <td>No</td>\n",
              "      <td>No</td>\n",
              "      <td>No</td>\n",
              "      <td>No</td>\n",
              "      <td>Month-to-month</td>\n",
              "      <td>Yes</td>\n",
              "      <td>Electronic check</td>\n",
              "      <td>70.70</td>\n",
              "      <td>151.65</td>\n",
              "      <td>Yes</td>\n",
              "    </tr>\n",
              "  </tbody>\n",
              "</table>\n",
              "</div>\n",
              "      <button class=\"colab-df-convert\" onclick=\"convertToInteractive('df-a2abbf6c-718f-4ce7-b5dc-59c2dcac8117')\"\n",
              "              title=\"Convert this dataframe to an interactive table.\"\n",
              "              style=\"display:none;\">\n",
              "        \n",
              "  <svg xmlns=\"http://www.w3.org/2000/svg\" height=\"24px\"viewBox=\"0 0 24 24\"\n",
              "       width=\"24px\">\n",
              "    <path d=\"M0 0h24v24H0V0z\" fill=\"none\"/>\n",
              "    <path d=\"M18.56 5.44l.94 2.06.94-2.06 2.06-.94-2.06-.94-.94-2.06-.94 2.06-2.06.94zm-11 1L8.5 8.5l.94-2.06 2.06-.94-2.06-.94L8.5 2.5l-.94 2.06-2.06.94zm10 10l.94 2.06.94-2.06 2.06-.94-2.06-.94-.94-2.06-.94 2.06-2.06.94z\"/><path d=\"M17.41 7.96l-1.37-1.37c-.4-.4-.92-.59-1.43-.59-.52 0-1.04.2-1.43.59L10.3 9.45l-7.72 7.72c-.78.78-.78 2.05 0 2.83L4 21.41c.39.39.9.59 1.41.59.51 0 1.02-.2 1.41-.59l7.78-7.78 2.81-2.81c.8-.78.8-2.07 0-2.86zM5.41 20L4 18.59l7.72-7.72 1.47 1.35L5.41 20z\"/>\n",
              "  </svg>\n",
              "      </button>\n",
              "      \n",
              "  <style>\n",
              "    .colab-df-container {\n",
              "      display:flex;\n",
              "      flex-wrap:wrap;\n",
              "      gap: 12px;\n",
              "    }\n",
              "\n",
              "    .colab-df-convert {\n",
              "      background-color: #E8F0FE;\n",
              "      border: none;\n",
              "      border-radius: 50%;\n",
              "      cursor: pointer;\n",
              "      display: none;\n",
              "      fill: #1967D2;\n",
              "      height: 32px;\n",
              "      padding: 0 0 0 0;\n",
              "      width: 32px;\n",
              "    }\n",
              "\n",
              "    .colab-df-convert:hover {\n",
              "      background-color: #E2EBFA;\n",
              "      box-shadow: 0px 1px 2px rgba(60, 64, 67, 0.3), 0px 1px 3px 1px rgba(60, 64, 67, 0.15);\n",
              "      fill: #174EA6;\n",
              "    }\n",
              "\n",
              "    [theme=dark] .colab-df-convert {\n",
              "      background-color: #3B4455;\n",
              "      fill: #D2E3FC;\n",
              "    }\n",
              "\n",
              "    [theme=dark] .colab-df-convert:hover {\n",
              "      background-color: #434B5C;\n",
              "      box-shadow: 0px 1px 3px 1px rgba(0, 0, 0, 0.15);\n",
              "      filter: drop-shadow(0px 1px 2px rgba(0, 0, 0, 0.3));\n",
              "      fill: #FFFFFF;\n",
              "    }\n",
              "  </style>\n",
              "\n",
              "      <script>\n",
              "        const buttonEl =\n",
              "          document.querySelector('#df-a2abbf6c-718f-4ce7-b5dc-59c2dcac8117 button.colab-df-convert');\n",
              "        buttonEl.style.display =\n",
              "          google.colab.kernel.accessAllowed ? 'block' : 'none';\n",
              "\n",
              "        async function convertToInteractive(key) {\n",
              "          const element = document.querySelector('#df-a2abbf6c-718f-4ce7-b5dc-59c2dcac8117');\n",
              "          const dataTable =\n",
              "            await google.colab.kernel.invokeFunction('convertToInteractive',\n",
              "                                                     [key], {});\n",
              "          if (!dataTable) return;\n",
              "\n",
              "          const docLinkHtml = 'Like what you see? Visit the ' +\n",
              "            '<a target=\"_blank\" href=https://colab.research.google.com/notebooks/data_table.ipynb>data table notebook</a>'\n",
              "            + ' to learn more about interactive tables.';\n",
              "          element.innerHTML = '';\n",
              "          dataTable['output_type'] = 'display_data';\n",
              "          await google.colab.output.renderOutput(dataTable, element);\n",
              "          const docLink = document.createElement('div');\n",
              "          docLink.innerHTML = docLinkHtml;\n",
              "          element.appendChild(docLink);\n",
              "        }\n",
              "      </script>\n",
              "    </div>\n",
              "  </div>\n",
              "  "
            ]
          },
          "metadata": {},
          "execution_count": 3
        }
      ]
    },
    {
      "cell_type": "markdown",
      "source": [
        "> In the context of customer churn, tenure refers to the length of time that a customer has been a subscriber or a customer of a company. It is typically measured in months.\n",
        "Tenure is an important feature to consider when analyzing customer churn as it can provide insights into how long customers have been engaged with the company and how loyal they are likely to be. Customers with longer tenure may be less likely to leave the company compared to newer customers."
      ],
      "metadata": {
        "id": "Y7m510CL6fQO"
      }
    },
    {
      "cell_type": "code",
      "source": [
        "df.info()"
      ],
      "metadata": {
        "colab": {
          "base_uri": "https://localhost:8080/"
        },
        "id": "PUZKhqFmVzoQ",
        "outputId": "5b08750b-f37e-4d4b-f9a8-7c44788411fc"
      },
      "execution_count": 4,
      "outputs": [
        {
          "output_type": "stream",
          "name": "stdout",
          "text": [
            "<class 'pandas.core.frame.DataFrame'>\n",
            "RangeIndex: 7043 entries, 0 to 7042\n",
            "Data columns (total 20 columns):\n",
            " #   Column            Non-Null Count  Dtype  \n",
            "---  ------            --------------  -----  \n",
            " 0   gender            7043 non-null   object \n",
            " 1   SeniorCitizen     7043 non-null   int64  \n",
            " 2   Partner           7043 non-null   object \n",
            " 3   Dependents        7043 non-null   object \n",
            " 4   tenure            7043 non-null   int64  \n",
            " 5   PhoneService      7043 non-null   object \n",
            " 6   MultipleLines     7043 non-null   object \n",
            " 7   InternetService   7043 non-null   object \n",
            " 8   OnlineSecurity    7043 non-null   object \n",
            " 9   OnlineBackup      7043 non-null   object \n",
            " 10  DeviceProtection  7043 non-null   object \n",
            " 11  TechSupport       7043 non-null   object \n",
            " 12  StreamingTV       7043 non-null   object \n",
            " 13  StreamingMovies   7043 non-null   object \n",
            " 14  Contract          7043 non-null   object \n",
            " 15  PaperlessBilling  7043 non-null   object \n",
            " 16  PaymentMethod     7043 non-null   object \n",
            " 17  MonthlyCharges    7043 non-null   float64\n",
            " 18  TotalCharges      7043 non-null   object \n",
            " 19  Churn             7043 non-null   object \n",
            "dtypes: float64(1), int64(2), object(17)\n",
            "memory usage: 1.1+ MB\n"
          ]
        }
      ]
    },
    {
      "cell_type": "code",
      "source": [
        "# This column had missing values represented by ' '\n",
        "# I noticed it when I tried converting it to float \n",
        "# and it gave me an error that it could not convert \"string to float\"\n",
        "df['TotalCharges'] = df['TotalCharges'].replace(' ', np.NaN)\n",
        "df['TotalCharges'] = df['TotalCharges'].astype(float)"
      ],
      "metadata": {
        "id": "2owYMUcY5SoS"
      },
      "execution_count": 5,
      "outputs": []
    },
    {
      "cell_type": "code",
      "source": [
        "df.dtypes.value_counts()"
      ],
      "metadata": {
        "colab": {
          "base_uri": "https://localhost:8080/"
        },
        "id": "kJBIXMb5IHHT",
        "outputId": "fdb2bb3b-2376-435a-b8ac-62112a292217"
      },
      "execution_count": 6,
      "outputs": [
        {
          "output_type": "execute_result",
          "data": {
            "text/plain": [
              "object     16\n",
              "int64       2\n",
              "float64     2\n",
              "dtype: int64"
            ]
          },
          "metadata": {},
          "execution_count": 6
        }
      ]
    },
    {
      "cell_type": "code",
      "source": [
        "# Melihat apakah ada missing value dari dataset\n",
        "df.isna().sum()"
      ],
      "metadata": {
        "colab": {
          "base_uri": "https://localhost:8080/"
        },
        "id": "v-F8aRC9mI8c",
        "outputId": "845620ee-e1bd-4778-ac13-c61b32bf69a8"
      },
      "execution_count": 7,
      "outputs": [
        {
          "output_type": "execute_result",
          "data": {
            "text/plain": [
              "gender               0\n",
              "SeniorCitizen        0\n",
              "Partner              0\n",
              "Dependents           0\n",
              "tenure               0\n",
              "PhoneService         0\n",
              "MultipleLines        0\n",
              "InternetService      0\n",
              "OnlineSecurity       0\n",
              "OnlineBackup         0\n",
              "DeviceProtection     0\n",
              "TechSupport          0\n",
              "StreamingTV          0\n",
              "StreamingMovies      0\n",
              "Contract             0\n",
              "PaperlessBilling     0\n",
              "PaymentMethod        0\n",
              "MonthlyCharges       0\n",
              "TotalCharges        11\n",
              "Churn                0\n",
              "dtype: int64"
            ]
          },
          "metadata": {},
          "execution_count": 7
        }
      ]
    },
    {
      "cell_type": "code",
      "source": [
        "# Mengisi missing value dengan nilai median\n",
        "df['TotalCharges'] = df['TotalCharges'].fillna(df['TotalCharges'].median())\n",
        "\n",
        "# Melihat apakah ada missing value dari dataset\n",
        "df.isna().sum()"
      ],
      "metadata": {
        "colab": {
          "base_uri": "https://localhost:8080/"
        },
        "id": "WF8liraS669N",
        "outputId": "43b186d0-2905-462f-bd02-e1b661ecae94"
      },
      "execution_count": 8,
      "outputs": [
        {
          "output_type": "execute_result",
          "data": {
            "text/plain": [
              "gender              0\n",
              "SeniorCitizen       0\n",
              "Partner             0\n",
              "Dependents          0\n",
              "tenure              0\n",
              "PhoneService        0\n",
              "MultipleLines       0\n",
              "InternetService     0\n",
              "OnlineSecurity      0\n",
              "OnlineBackup        0\n",
              "DeviceProtection    0\n",
              "TechSupport         0\n",
              "StreamingTV         0\n",
              "StreamingMovies     0\n",
              "Contract            0\n",
              "PaperlessBilling    0\n",
              "PaymentMethod       0\n",
              "MonthlyCharges      0\n",
              "TotalCharges        0\n",
              "Churn               0\n",
              "dtype: int64"
            ]
          },
          "metadata": {},
          "execution_count": 8
        }
      ]
    },
    {
      "cell_type": "code",
      "source": [
        "# Mengecek baris yang duplikat\n",
        "df.duplicated()"
      ],
      "metadata": {
        "colab": {
          "base_uri": "https://localhost:8080/"
        },
        "id": "SVWcYYBEmj9C",
        "outputId": "bde523c4-1b9a-43e0-92c6-aa7ffed5b0b3"
      },
      "execution_count": 9,
      "outputs": [
        {
          "output_type": "execute_result",
          "data": {
            "text/plain": [
              "0       False\n",
              "1       False\n",
              "2       False\n",
              "3       False\n",
              "4       False\n",
              "        ...  \n",
              "7038    False\n",
              "7039    False\n",
              "7040    False\n",
              "7041    False\n",
              "7042    False\n",
              "Length: 7043, dtype: bool"
            ]
          },
          "metadata": {},
          "execution_count": 9
        }
      ]
    },
    {
      "cell_type": "markdown",
      "source": [
        "## 1.2 Replace Value"
      ],
      "metadata": {
        "id": "mL_-ClVAVX6Z"
      }
    },
    {
      "cell_type": "code",
      "source": [
        "df['gender'] = df['gender'].map({'Male': 0, 'Female': 1})\n",
        "df['Churn'] = df['Churn'].map({'No': 0, 'Yes': 1})\n",
        "\n",
        "df.head()"
      ],
      "metadata": {
        "colab": {
          "base_uri": "https://localhost:8080/",
          "height": 339
        },
        "id": "zNbPAQiDYeei",
        "outputId": "6dd8815e-781a-4a2c-98c9-885691a2cb1c"
      },
      "execution_count": 10,
      "outputs": [
        {
          "output_type": "execute_result",
          "data": {
            "text/plain": [
              "   gender  SeniorCitizen Partner Dependents  tenure PhoneService  \\\n",
              "0       1              0     Yes         No       1           No   \n",
              "1       0              0      No         No      34          Yes   \n",
              "2       0              0      No         No       2          Yes   \n",
              "3       0              0      No         No      45           No   \n",
              "4       1              0      No         No       2          Yes   \n",
              "\n",
              "      MultipleLines InternetService OnlineSecurity OnlineBackup  \\\n",
              "0  No phone service             DSL             No          Yes   \n",
              "1                No             DSL            Yes           No   \n",
              "2                No             DSL            Yes          Yes   \n",
              "3  No phone service             DSL            Yes           No   \n",
              "4                No     Fiber optic             No           No   \n",
              "\n",
              "  DeviceProtection TechSupport StreamingTV StreamingMovies        Contract  \\\n",
              "0               No          No          No              No  Month-to-month   \n",
              "1              Yes          No          No              No        One year   \n",
              "2               No          No          No              No  Month-to-month   \n",
              "3              Yes         Yes          No              No        One year   \n",
              "4               No          No          No              No  Month-to-month   \n",
              "\n",
              "  PaperlessBilling              PaymentMethod  MonthlyCharges  TotalCharges  \\\n",
              "0              Yes           Electronic check           29.85         29.85   \n",
              "1               No               Mailed check           56.95       1889.50   \n",
              "2              Yes               Mailed check           53.85        108.15   \n",
              "3               No  Bank transfer (automatic)           42.30       1840.75   \n",
              "4              Yes           Electronic check           70.70        151.65   \n",
              "\n",
              "   Churn  \n",
              "0      0  \n",
              "1      0  \n",
              "2      1  \n",
              "3      0  \n",
              "4      1  "
            ],
            "text/html": [
              "\n",
              "  <div id=\"df-73df2206-4020-466c-8b11-eca9c6f04326\">\n",
              "    <div class=\"colab-df-container\">\n",
              "      <div>\n",
              "<style scoped>\n",
              "    .dataframe tbody tr th:only-of-type {\n",
              "        vertical-align: middle;\n",
              "    }\n",
              "\n",
              "    .dataframe tbody tr th {\n",
              "        vertical-align: top;\n",
              "    }\n",
              "\n",
              "    .dataframe thead th {\n",
              "        text-align: right;\n",
              "    }\n",
              "</style>\n",
              "<table border=\"1\" class=\"dataframe\">\n",
              "  <thead>\n",
              "    <tr style=\"text-align: right;\">\n",
              "      <th></th>\n",
              "      <th>gender</th>\n",
              "      <th>SeniorCitizen</th>\n",
              "      <th>Partner</th>\n",
              "      <th>Dependents</th>\n",
              "      <th>tenure</th>\n",
              "      <th>PhoneService</th>\n",
              "      <th>MultipleLines</th>\n",
              "      <th>InternetService</th>\n",
              "      <th>OnlineSecurity</th>\n",
              "      <th>OnlineBackup</th>\n",
              "      <th>DeviceProtection</th>\n",
              "      <th>TechSupport</th>\n",
              "      <th>StreamingTV</th>\n",
              "      <th>StreamingMovies</th>\n",
              "      <th>Contract</th>\n",
              "      <th>PaperlessBilling</th>\n",
              "      <th>PaymentMethod</th>\n",
              "      <th>MonthlyCharges</th>\n",
              "      <th>TotalCharges</th>\n",
              "      <th>Churn</th>\n",
              "    </tr>\n",
              "  </thead>\n",
              "  <tbody>\n",
              "    <tr>\n",
              "      <th>0</th>\n",
              "      <td>1</td>\n",
              "      <td>0</td>\n",
              "      <td>Yes</td>\n",
              "      <td>No</td>\n",
              "      <td>1</td>\n",
              "      <td>No</td>\n",
              "      <td>No phone service</td>\n",
              "      <td>DSL</td>\n",
              "      <td>No</td>\n",
              "      <td>Yes</td>\n",
              "      <td>No</td>\n",
              "      <td>No</td>\n",
              "      <td>No</td>\n",
              "      <td>No</td>\n",
              "      <td>Month-to-month</td>\n",
              "      <td>Yes</td>\n",
              "      <td>Electronic check</td>\n",
              "      <td>29.85</td>\n",
              "      <td>29.85</td>\n",
              "      <td>0</td>\n",
              "    </tr>\n",
              "    <tr>\n",
              "      <th>1</th>\n",
              "      <td>0</td>\n",
              "      <td>0</td>\n",
              "      <td>No</td>\n",
              "      <td>No</td>\n",
              "      <td>34</td>\n",
              "      <td>Yes</td>\n",
              "      <td>No</td>\n",
              "      <td>DSL</td>\n",
              "      <td>Yes</td>\n",
              "      <td>No</td>\n",
              "      <td>Yes</td>\n",
              "      <td>No</td>\n",
              "      <td>No</td>\n",
              "      <td>No</td>\n",
              "      <td>One year</td>\n",
              "      <td>No</td>\n",
              "      <td>Mailed check</td>\n",
              "      <td>56.95</td>\n",
              "      <td>1889.50</td>\n",
              "      <td>0</td>\n",
              "    </tr>\n",
              "    <tr>\n",
              "      <th>2</th>\n",
              "      <td>0</td>\n",
              "      <td>0</td>\n",
              "      <td>No</td>\n",
              "      <td>No</td>\n",
              "      <td>2</td>\n",
              "      <td>Yes</td>\n",
              "      <td>No</td>\n",
              "      <td>DSL</td>\n",
              "      <td>Yes</td>\n",
              "      <td>Yes</td>\n",
              "      <td>No</td>\n",
              "      <td>No</td>\n",
              "      <td>No</td>\n",
              "      <td>No</td>\n",
              "      <td>Month-to-month</td>\n",
              "      <td>Yes</td>\n",
              "      <td>Mailed check</td>\n",
              "      <td>53.85</td>\n",
              "      <td>108.15</td>\n",
              "      <td>1</td>\n",
              "    </tr>\n",
              "    <tr>\n",
              "      <th>3</th>\n",
              "      <td>0</td>\n",
              "      <td>0</td>\n",
              "      <td>No</td>\n",
              "      <td>No</td>\n",
              "      <td>45</td>\n",
              "      <td>No</td>\n",
              "      <td>No phone service</td>\n",
              "      <td>DSL</td>\n",
              "      <td>Yes</td>\n",
              "      <td>No</td>\n",
              "      <td>Yes</td>\n",
              "      <td>Yes</td>\n",
              "      <td>No</td>\n",
              "      <td>No</td>\n",
              "      <td>One year</td>\n",
              "      <td>No</td>\n",
              "      <td>Bank transfer (automatic)</td>\n",
              "      <td>42.30</td>\n",
              "      <td>1840.75</td>\n",
              "      <td>0</td>\n",
              "    </tr>\n",
              "    <tr>\n",
              "      <th>4</th>\n",
              "      <td>1</td>\n",
              "      <td>0</td>\n",
              "      <td>No</td>\n",
              "      <td>No</td>\n",
              "      <td>2</td>\n",
              "      <td>Yes</td>\n",
              "      <td>No</td>\n",
              "      <td>Fiber optic</td>\n",
              "      <td>No</td>\n",
              "      <td>No</td>\n",
              "      <td>No</td>\n",
              "      <td>No</td>\n",
              "      <td>No</td>\n",
              "      <td>No</td>\n",
              "      <td>Month-to-month</td>\n",
              "      <td>Yes</td>\n",
              "      <td>Electronic check</td>\n",
              "      <td>70.70</td>\n",
              "      <td>151.65</td>\n",
              "      <td>1</td>\n",
              "    </tr>\n",
              "  </tbody>\n",
              "</table>\n",
              "</div>\n",
              "      <button class=\"colab-df-convert\" onclick=\"convertToInteractive('df-73df2206-4020-466c-8b11-eca9c6f04326')\"\n",
              "              title=\"Convert this dataframe to an interactive table.\"\n",
              "              style=\"display:none;\">\n",
              "        \n",
              "  <svg xmlns=\"http://www.w3.org/2000/svg\" height=\"24px\"viewBox=\"0 0 24 24\"\n",
              "       width=\"24px\">\n",
              "    <path d=\"M0 0h24v24H0V0z\" fill=\"none\"/>\n",
              "    <path d=\"M18.56 5.44l.94 2.06.94-2.06 2.06-.94-2.06-.94-.94-2.06-.94 2.06-2.06.94zm-11 1L8.5 8.5l.94-2.06 2.06-.94-2.06-.94L8.5 2.5l-.94 2.06-2.06.94zm10 10l.94 2.06.94-2.06 2.06-.94-2.06-.94-.94-2.06-.94 2.06-2.06.94z\"/><path d=\"M17.41 7.96l-1.37-1.37c-.4-.4-.92-.59-1.43-.59-.52 0-1.04.2-1.43.59L10.3 9.45l-7.72 7.72c-.78.78-.78 2.05 0 2.83L4 21.41c.39.39.9.59 1.41.59.51 0 1.02-.2 1.41-.59l7.78-7.78 2.81-2.81c.8-.78.8-2.07 0-2.86zM5.41 20L4 18.59l7.72-7.72 1.47 1.35L5.41 20z\"/>\n",
              "  </svg>\n",
              "      </button>\n",
              "      \n",
              "  <style>\n",
              "    .colab-df-container {\n",
              "      display:flex;\n",
              "      flex-wrap:wrap;\n",
              "      gap: 12px;\n",
              "    }\n",
              "\n",
              "    .colab-df-convert {\n",
              "      background-color: #E8F0FE;\n",
              "      border: none;\n",
              "      border-radius: 50%;\n",
              "      cursor: pointer;\n",
              "      display: none;\n",
              "      fill: #1967D2;\n",
              "      height: 32px;\n",
              "      padding: 0 0 0 0;\n",
              "      width: 32px;\n",
              "    }\n",
              "\n",
              "    .colab-df-convert:hover {\n",
              "      background-color: #E2EBFA;\n",
              "      box-shadow: 0px 1px 2px rgba(60, 64, 67, 0.3), 0px 1px 3px 1px rgba(60, 64, 67, 0.15);\n",
              "      fill: #174EA6;\n",
              "    }\n",
              "\n",
              "    [theme=dark] .colab-df-convert {\n",
              "      background-color: #3B4455;\n",
              "      fill: #D2E3FC;\n",
              "    }\n",
              "\n",
              "    [theme=dark] .colab-df-convert:hover {\n",
              "      background-color: #434B5C;\n",
              "      box-shadow: 0px 1px 3px 1px rgba(0, 0, 0, 0.15);\n",
              "      filter: drop-shadow(0px 1px 2px rgba(0, 0, 0, 0.3));\n",
              "      fill: #FFFFFF;\n",
              "    }\n",
              "  </style>\n",
              "\n",
              "      <script>\n",
              "        const buttonEl =\n",
              "          document.querySelector('#df-73df2206-4020-466c-8b11-eca9c6f04326 button.colab-df-convert');\n",
              "        buttonEl.style.display =\n",
              "          google.colab.kernel.accessAllowed ? 'block' : 'none';\n",
              "\n",
              "        async function convertToInteractive(key) {\n",
              "          const element = document.querySelector('#df-73df2206-4020-466c-8b11-eca9c6f04326');\n",
              "          const dataTable =\n",
              "            await google.colab.kernel.invokeFunction('convertToInteractive',\n",
              "                                                     [key], {});\n",
              "          if (!dataTable) return;\n",
              "\n",
              "          const docLinkHtml = 'Like what you see? Visit the ' +\n",
              "            '<a target=\"_blank\" href=https://colab.research.google.com/notebooks/data_table.ipynb>data table notebook</a>'\n",
              "            + ' to learn more about interactive tables.';\n",
              "          element.innerHTML = '';\n",
              "          dataTable['output_type'] = 'display_data';\n",
              "          await google.colab.output.renderOutput(dataTable, element);\n",
              "          const docLink = document.createElement('div');\n",
              "          docLink.innerHTML = docLinkHtml;\n",
              "          element.appendChild(docLink);\n",
              "        }\n",
              "      </script>\n",
              "    </div>\n",
              "  </div>\n",
              "  "
            ]
          },
          "metadata": {},
          "execution_count": 10
        }
      ]
    },
    {
      "cell_type": "code",
      "source": [
        "df.Churn.value_counts()\n",
        "# 0 = No\n",
        "# 1 = Yes"
      ],
      "metadata": {
        "colab": {
          "base_uri": "https://localhost:8080/"
        },
        "id": "kcCwA9SxHCtG",
        "outputId": "bab920d6-61fc-4ef5-9209-213b72b63eea"
      },
      "execution_count": 11,
      "outputs": [
        {
          "output_type": "execute_result",
          "data": {
            "text/plain": [
              "0    5174\n",
              "1    1869\n",
              "Name: Churn, dtype: int64"
            ]
          },
          "metadata": {},
          "execution_count": 11
        }
      ]
    },
    {
      "cell_type": "code",
      "source": [
        "print ('Total Customer Loyal\\t: {}'.format(df.Churn.value_counts()[0]))\n",
        "print ('Total Customer Churn\\t: {}'.format(df.Churn.value_counts()[1]))"
      ],
      "metadata": {
        "colab": {
          "base_uri": "https://localhost:8080/"
        },
        "id": "SjvI4PGWe6Na",
        "outputId": "7de7679f-2e36-4817-c061-569acd2ce25a"
      },
      "execution_count": 12,
      "outputs": [
        {
          "output_type": "stream",
          "name": "stdout",
          "text": [
            "Total Customer Loyal\t: 5174\n",
            "Total Customer Churn\t: 1869\n"
          ]
        }
      ]
    },
    {
      "cell_type": "code",
      "source": [
        "fig, ax = plt.subplots(figsize=(6, 6))\n",
        "plt.pie(x=df[\"Churn\"].value_counts(),\n",
        "        colors=[\"seagreen\", \"firebrick\"], \n",
        "        labels=[\"Customer Loyal\", \"Customer Churn\"], \n",
        "        shadow = True, \n",
        "        autopct=\"%1.2f%%\",\n",
        "        explode=(0, 0.1)\n",
        "        )\n",
        "\n",
        "plt.show()"
      ],
      "metadata": {
        "colab": {
          "base_uri": "https://localhost:8080/",
          "height": 357
        },
        "id": "U8FvcPCoe6SM",
        "outputId": "6a916164-2f5a-4b15-edbf-554f43563987"
      },
      "execution_count": 13,
      "outputs": [
        {
          "output_type": "display_data",
          "data": {
            "text/plain": [
              "<Figure size 432x432 with 1 Axes>"
            ],
            "image/png": "[encoded data removed]"
          },
          "metadata": {}
        }
      ]
    },
    {
      "cell_type": "code",
      "source": [
        "df.gender.value_counts()\n",
        "# 0 = Laki-laki\n",
        "# 1 = Perempuan"
      ],
      "metadata": {
        "colab": {
          "base_uri": "https://localhost:8080/"
        },
        "id": "08pDEdLNgX4h",
        "outputId": "90905e67-c0eb-494a-eea9-50249d4ad553"
      },
      "execution_count": 14,
      "outputs": [
        {
          "output_type": "execute_result",
          "data": {
            "text/plain": [
              "0    3555\n",
              "1    3488\n",
              "Name: gender, dtype: int64"
            ]
          },
          "metadata": {},
          "execution_count": 14
        }
      ]
    },
    {
      "cell_type": "code",
      "source": [
        "print ('Total Laki-laki\\t: {}'.format(df.gender.value_counts()[0]))\n",
        "print ('Total Perempuan\\t: {}'.format(df.gender.value_counts()[1]))"
      ],
      "metadata": {
        "colab": {
          "base_uri": "https://localhost:8080/"
        },
        "id": "0YgefJnhQ3KD",
        "outputId": "7d197c58-d70f-45b7-da55-8e1f235f55ca"
      },
      "execution_count": 15,
      "outputs": [
        {
          "output_type": "stream",
          "name": "stdout",
          "text": [
            "Total Laki-laki\t: 3555\n",
            "Total Perempuan\t: 3488\n"
          ]
        }
      ]
    },
    {
      "cell_type": "code",
      "source": [
        "fig, ax = plt.subplots(figsize=(6, 6))\n",
        "plt.pie(x=df[\"gender\"].value_counts(), \n",
        "        colors=[\"blue\", \"hotpink\"], \n",
        "        labels=[\"Male\", \"Female\"], \n",
        "        shadow = True, \n",
        "        autopct=\"%1.2f%%\", \n",
        "        explode=(0, 0.1)\n",
        "        )\n",
        "\n",
        "plt.show()"
      ],
      "metadata": {
        "colab": {
          "base_uri": "https://localhost:8080/",
          "height": 357
        },
        "id": "VXccrBY_gX7v",
        "outputId": "b4e32f74-6e0b-4815-f2fa-17856a325cbb"
      },
      "execution_count": 16,
      "outputs": [
        {
          "output_type": "display_data",
          "data": {
            "text/plain": [
              "<Figure size 432x432 with 1 Axes>"
            ],
            "image/png": "[encoded data removed]"
          },
          "metadata": {}
        }
      ]
    },
    {
      "cell_type": "markdown",
      "source": [
        "## 1.3 Feature Category"
      ],
      "metadata": {
        "id": "vgcMgesYTPXc"
      }
    },
    {
      "cell_type": "code",
      "source": [
        "# Mengetahui kolom apa saja yang termasuk fitur (variabel) numerik/kategoris\n",
        "numerical_features = df.select_dtypes(include=\"number\").columns.tolist()\n",
        "categorical_features = df.select_dtypes(include=\"object\").columns.tolist()\n",
        "\n",
        "print(\"Numerical features:\")\n",
        "pprint(numerical_features)\n",
        "print(\"\\nCategorical features:\")\n",
        "pprint(categorical_features, compact=True)"
      ],
      "metadata": {
        "colab": {
          "base_uri": "https://localhost:8080/"
        },
        "id": "mVRTSp64fNU2",
        "outputId": "b9dc451d-8e97-4ac2-d682-4b3d01822c7b"
      },
      "execution_count": 17,
      "outputs": [
        {
          "output_type": "stream",
          "name": "stdout",
          "text": [
            "Numerical features:\n",
            "['gender', 'SeniorCitizen', 'tenure', 'MonthlyCharges', 'TotalCharges', 'Churn']\n",
            "\n",
            "Categorical features:\n",
            "['Partner', 'Dependents', 'PhoneService', 'MultipleLines', 'InternetService',\n",
            " 'OnlineSecurity', 'OnlineBackup', 'DeviceProtection', 'TechSupport',\n",
            " 'StreamingTV', 'StreamingMovies', 'Contract', 'PaperlessBilling',\n",
            " 'PaymentMethod']\n"
          ]
        }
      ]
    },
    {
      "cell_type": "code",
      "source": [
        "columns = df.columns\n",
        "print(\"********** Numeric field **********n\")\n",
        "for i in range(len(columns)):\n",
        "    if df[columns[i]].dtypes!=object:\n",
        "        print(\"Unique of {} -> {}\".format(columns[i], len(df[columns[i]].unique())))\n",
        "        \n",
        "print(\"\\n********** Categorical field **********n\")\n",
        "for i in range(len(columns)):\n",
        "    if df[columns[i]].dtypes==object:\n",
        "        print(\"Unique of {} -> {}\".format(columns[i], len(df[columns[i]].unique())))"
      ],
      "metadata": {
        "colab": {
          "base_uri": "https://localhost:8080/"
        },
        "id": "g8Cx22lJgRWD",
        "outputId": "a8457c20-2905-4ef2-f910-6e1acd2586af"
      },
      "execution_count": 18,
      "outputs": [
        {
          "output_type": "stream",
          "name": "stdout",
          "text": [
            "********** Numeric field **********n\n",
            "Unique of gender -> 2\n",
            "Unique of SeniorCitizen -> 2\n",
            "Unique of tenure -> 73\n",
            "Unique of MonthlyCharges -> 1585\n",
            "Unique of TotalCharges -> 6531\n",
            "Unique of Churn -> 2\n",
            "\n",
            "********** Categorical field **********n\n",
            "Unique of Partner -> 2\n",
            "Unique of Dependents -> 2\n",
            "Unique of PhoneService -> 2\n",
            "Unique of MultipleLines -> 3\n",
            "Unique of InternetService -> 3\n",
            "Unique of OnlineSecurity -> 3\n",
            "Unique of OnlineBackup -> 3\n",
            "Unique of DeviceProtection -> 3\n",
            "Unique of TechSupport -> 3\n",
            "Unique of StreamingTV -> 3\n",
            "Unique of StreamingMovies -> 3\n",
            "Unique of Contract -> 3\n",
            "Unique of PaperlessBilling -> 2\n",
            "Unique of PaymentMethod -> 4\n"
          ]
        }
      ]
    },
    {
      "cell_type": "code",
      "source": [
        "for i in range(len(categorical_features)):\n",
        "    print(\"********** {} **********\".format(categorical_features[i]))\n",
        "    print(df[categorical_features[i]].unique(), \"\\n\")"
      ],
      "metadata": {
        "colab": {
          "base_uri": "https://localhost:8080/"
        },
        "id": "_Oq-5VD_hpU_",
        "outputId": "c446d904-d8db-4c55-8087-283973f14c6c"
      },
      "execution_count": 19,
      "outputs": [
        {
          "output_type": "stream",
          "name": "stdout",
          "text": [
            "********** Partner **********\n",
            "['Yes' 'No'] \n",
            "\n",
            "********** Dependents **********\n",
            "['No' 'Yes'] \n",
            "\n",
            "********** PhoneService **********\n",
            "['No' 'Yes'] \n",
            "\n",
            "********** MultipleLines **********\n",
            "['No phone service' 'No' 'Yes'] \n",
            "\n",
            "********** InternetService **********\n",
            "['DSL' 'Fiber optic' 'No'] \n",
            "\n",
            "********** OnlineSecurity **********\n",
            "['No' 'Yes' 'No internet service'] \n",
            "\n",
            "********** OnlineBackup **********\n",
            "['Yes' 'No' 'No internet service'] \n",
            "\n",
            "********** DeviceProtection **********\n",
            "['No' 'Yes' 'No internet service'] \n",
            "\n",
            "********** TechSupport **********\n",
            "['No' 'Yes' 'No internet service'] \n",
            "\n",
            "********** StreamingTV **********\n",
            "['No' 'Yes' 'No internet service'] \n",
            "\n",
            "********** StreamingMovies **********\n",
            "['No' 'Yes' 'No internet service'] \n",
            "\n",
            "********** Contract **********\n",
            "['Month-to-month' 'One year' 'Two year'] \n",
            "\n",
            "********** PaperlessBilling **********\n",
            "['Yes' 'No'] \n",
            "\n",
            "********** PaymentMethod **********\n",
            "['Electronic check' 'Mailed check' 'Bank transfer (automatic)'\n",
            " 'Credit card (automatic)'] \n",
            "\n"
          ]
        }
      ]
    },
    {
      "cell_type": "code",
      "source": [
        "for i in range(len(numerical_features)):\n",
        "    print(\"********** {} **********\".format(numerical_features[i]))\n",
        "    print(df[numerical_features[i]].unique(), \"\\n\")"
      ],
      "metadata": {
        "colab": {
          "base_uri": "https://localhost:8080/"
        },
        "id": "r8bhdpkyiSID",
        "outputId": "e4618ee4-07c5-4a02-c865-797d7dca56a7"
      },
      "execution_count": 20,
      "outputs": [
        {
          "output_type": "stream",
          "name": "stdout",
          "text": [
            "********** gender **********\n",
            "[1 0] \n",
            "\n",
            "********** SeniorCitizen **********\n",
            "[0 1] \n",
            "\n",
            "********** tenure **********\n",
            "[ 1 34  2 45  8 22 10 28 62 13 16 58 49 25 69 52 71 21 12 30 47 72 17 27\n",
            "  5 46 11 70 63 43 15 60 18 66  9  3 31 50 64 56  7 42 35 48 29 65 38 68\n",
            " 32 55 37 36 41  6  4 33 67 23 57 61 14 20 53 40 59 24 44 19 54 51 26  0\n",
            " 39] \n",
            "\n",
            "********** MonthlyCharges **********\n",
            "[29.85 56.95 53.85 ... 63.1  44.2  78.7 ] \n",
            "\n",
            "********** TotalCharges **********\n",
            "[  29.85 1889.5   108.15 ...  346.45  306.6  6844.5 ] \n",
            "\n",
            "********** Churn **********\n",
            "[0 1] \n",
            "\n"
          ]
        }
      ]
    },
    {
      "cell_type": "markdown",
      "source": [
        "## 1.4 Correlation Data"
      ],
      "metadata": {
        "id": "bhsn7L1OTZVd"
      }
    },
    {
      "cell_type": "code",
      "source": [
        "# Having a look at the correlation matrix\n",
        "fig, ax = plt.subplots(figsize=(10, 8))\n",
        "heatmap = sns.heatmap(df.corr(), annot=True, fmt='.1g', cmap=plt.cm.Blues, cbar=False, linewidths=0.5, linecolor='grey')\n",
        "heatmap.set_title('Correlation Heatmap', fontdict={'fontsize':20}, pad=12);"
      ],
      "metadata": {
        "colab": {
          "base_uri": "https://localhost:8080/",
          "height": 493
        },
        "id": "nQ2juPU1dXiu",
        "outputId": "45766d39-0262-41c4-df05-3d2d306fc995"
      },
      "execution_count": 21,
      "outputs": [
        {
          "output_type": "display_data",
          "data": {
            "text/plain": [
              "<Figure size 720x576 with 1 Axes>"
            ],
            "image/png": "[encoded data removed]"
          },
          "metadata": {
            "needs_background": "light"
          }
        }
      ]
    },
    {
      "cell_type": "code",
      "source": [
        "plt.figure(figsize=(12, 8))\n",
        "heatmap = sns.heatmap(df.corr(), annot = True)\n",
        "heatmap.set_title('Correlation Heatmap', fontdict={'fontsize':20}, pad=12);"
      ],
      "metadata": {
        "colab": {
          "base_uri": "https://localhost:8080/",
          "height": 451
        },
        "id": "Yzex993Mf1La",
        "outputId": "d6d3fcc4-a5ee-4fd8-d751-ffc2bf2a3b80"
      },
      "execution_count": 22,
      "outputs": [
        {
          "output_type": "display_data",
          "data": {
            "text/plain": [
              "<Figure size 864x576 with 2 Axes>"
            ],
            "image/png": "[encoded data removed]"
          },
          "metadata": {
            "needs_background": "light"
          }
        }
      ]
    },
    {
      "cell_type": "code",
      "execution_count": 23,
      "metadata": {
        "execution": {
          "iopub.execute_input": "2022-08-28T11:18:53.332091Z",
          "iopub.status.busy": "2022-08-28T11:18:53.331311Z",
          "iopub.status.idle": "2022-08-28T11:18:53.856608Z",
          "shell.execute_reply": "2022-08-28T11:18:53.855525Z"
        },
        "papermill": {
          "duration": 0.544945,
          "end_time": "2022-08-28T11:18:53.858809",
          "exception": false,
          "start_time": "2022-08-28T11:18:53.313864",
          "status": "completed"
        },
        "tags": [],
        "id": "4ad2a3f3"
      },
      "outputs": [],
      "source": [
        "# fig, ax = plt.subplots(2, 2, figsize = (15, 10))\n",
        "# plt.suptitle('Count plot for various categorical features', fontsize = 30, color= 'teal')\n",
        "\n",
        "# ax1 = sns.countplot(x ='gender', data= data, hue= 'Churn', ax= ax[0, 0], palette= 'spring')\n",
        "# ax1.set(xlabel = 'Gender')\n",
        "\n",
        "# ax2 = sns.countplot(x ='SeniorCitizen', data= data, hue= 'Churn', ax= ax[0, 1], palette= 'winter')\n",
        "# ax2.set(xlabel = 'Senior Citizen')\n",
        "\n",
        "# ax3 = sns.countplot(x ='Partner', data= data, hue= 'Churn', ax= ax[1, 0], palette= 'summer')\n",
        "# ax3.set(xlabel = 'Partner')\n",
        "\n",
        "# ax4 = sns.countplot(x ='Dependents', data= data, hue= 'Churn', ax= ax[1, 1], palette= 'viridis')\n",
        "# ax4.set(xlabel = 'Dependents')\n",
        "\n",
        "# plt.tight_layout()\n",
        "# plt.show()"
      ]
    },
    {
      "cell_type": "code",
      "execution_count": 24,
      "metadata": {
        "execution": {
          "iopub.execute_input": "2022-08-28T11:18:53.930563Z",
          "iopub.status.busy": "2022-08-28T11:18:53.929914Z",
          "iopub.status.idle": "2022-08-28T11:18:55.049485Z",
          "shell.execute_reply": "2022-08-28T11:18:55.048360Z"
        },
        "papermill": {
          "duration": 1.140239,
          "end_time": "2022-08-28T11:18:55.051393",
          "exception": false,
          "start_time": "2022-08-28T11:18:53.911154",
          "status": "completed"
        },
        "tags": [],
        "id": "7d96e261"
      },
      "outputs": [],
      "source": [
        "# fig, ax = plt.subplots(3, 3, figsize = (20, 15))\n",
        "\n",
        "# plt.suptitle('Count plot for various categorical features', fontsize = 30, color= 'teal')\n",
        "\n",
        "# ax1 = sns.countplot(x ='PhoneService', data= data, hue= 'Churn', ax= ax[0, 0], palette= 'spring')\n",
        "# ax1.set(xlabel = 'Phone Service')\n",
        "\n",
        "# ax2 = sns.countplot(x ='MultipleLines', data= data, hue= 'Churn', ax= ax[0, 1], palette= 'winter')\n",
        "# ax2.set(xlabel = 'MultipleLines')\n",
        "\n",
        "# ax3 = sns.countplot(x ='InternetService', data= data, hue= 'Churn', ax= ax[0, 2], palette= 'summer')\n",
        "# ax3.set(xlabel = 'Internet Service')\n",
        "\n",
        "# ax4 = sns.countplot(x ='OnlineSecurity', data= data, hue= 'Churn', ax= ax[1, 0], palette= 'ocean')\n",
        "# ax4.set(xlabel = 'Online Security')\n",
        "\n",
        "# ax5 = sns.countplot(x ='OnlineBackup', data= data, hue= 'Churn', ax= ax[1, 1], palette= 'autumn')\n",
        "# ax5.set(xlabel = 'Online Backup')\n",
        "\n",
        "# ax6 = sns.countplot(x ='DeviceProtection', data= data, hue= 'Churn', ax= ax[1, 2], palette= 'YlGnBu')\n",
        "# ax6.set(xlabel = 'Device Protection')\n",
        "\n",
        "# ax7 = sns.countplot(x ='TechSupport', data= data, hue= 'Churn', ax= ax[2, 0], palette= 'copper')\n",
        "# ax7.set(xlabel = 'Tech support')\n",
        "\n",
        "# ax8 = sns.countplot(x ='StreamingTV', data= data, hue= 'Churn', ax= ax[2, 1], palette= 'plasma')\n",
        "# ax8.set(xlabel = 'Streaming TV')\n",
        "\n",
        "# ax9 = sns.countplot(x ='StreamingMovies', data= data, hue= 'Churn', ax= ax[2, 2], palette= 'bone')\n",
        "# ax9.set(xlabel = 'Streaming Movies')\n",
        "\n",
        "# plt.tight_layout()\n",
        "# plt.show()"
      ]
    },
    {
      "cell_type": "code",
      "source": [
        "fig, ax=plt.subplots(3, 2, figsize=(20, 15)) \n",
        "plt.style.use(\"classic\")\n",
        "\n",
        "sns.histplot(x=df[\"gender\"], hue = df[\"Churn\"], palette=\"viridis\", kde=True, ax=ax[0,0]);\n",
        "ax[0,0].set_xlabel(\"gender\", fontsize=15)\n",
        "\n",
        "sns.histplot(x=df[\"SeniorCitizen\"], hue = df[\"Churn\"], palette=\"dark\", kde=True, ax=ax[0,1]);\n",
        "ax[0,1].set_xlabel(\"SeniorCitizen\", fontsize=15)\n",
        "\n",
        "sns.histplot(x=df[\"tenure\"], hue = df[\"Churn\"], palette=\"viridis\", kde=True, ax=ax[1,0]);\n",
        "ax[1,0].set_xlabel(\"tenure\", fontsize=15)\n",
        "\n",
        "sns.histplot(x=df[\"MonthlyCharges\"], hue = df[\"Churn\"], palette=\"dark\", kde=True, ax=ax[1,1]);\n",
        "ax[1,1].set_xlabel(\"MonthlyCharges\", fontsize=15)\n",
        "\n",
        "sns.histplot(x=df[\"TotalCharges\"], hue = df[\"Churn\"], palette=\"viridis\", kde=True, ax=ax[2,0]);\n",
        "ax[2,0].set_xlabel(\"TotalCharges\", fontsize=15)"
      ],
      "metadata": {
        "colab": {
          "base_uri": "https://localhost:8080/",
          "height": 502
        },
        "id": "zDzL9VNOQiAS",
        "outputId": "f86a0574-f62d-4f4f-a441-4475f65cb018"
      },
      "execution_count": 25,
      "outputs": [
        {
          "output_type": "execute_result",
          "data": {
            "text/plain": [
              "Text(0.5, 0, 'TotalCharges')"
            ]
          },
          "metadata": {},
          "execution_count": 25
        },
        {
          "output_type": "display_data",
          "data": {
            "text/plain": [
              "<Figure size 1440x1080 with 6 Axes>"
            ],
            "image/png": "[encoded data removed]"
          },
          "metadata": {
            "needs_background": "light"
          }
        }
      ]
    },
    {
      "cell_type": "markdown",
      "source": [
        "## 1.5 Handling Outlier"
      ],
      "metadata": {
        "id": "rjWNjKHO-i8g"
      }
    },
    {
      "cell_type": "code",
      "source": [
        "# Numerical Features\n",
        "plt.figure(figsize=(16, 8), facecolor='white')\n",
        "plotnumber = 1\n",
        "    \n",
        "for feature in numerical_features:\n",
        "    ax = plt.subplot(4, 4, plotnumber)\n",
        "    sns.boxplot(x=feature, data=df);\n",
        "    plt.title(feature, fontsize=12)\n",
        "    plt.xlabel(None)\n",
        "    plt.tight_layout()\n",
        "    plotnumber += 1"
      ],
      "metadata": {
        "colab": {
          "base_uri": "https://localhost:8080/",
          "height": 179
        },
        "id": "B7BqNNGfRhgM",
        "outputId": "37c67b63-6499-421b-ad92-34bffceb65c1"
      },
      "execution_count": 26,
      "outputs": [
        {
          "output_type": "display_data",
          "data": {
            "text/plain": [
              "<Figure size 1280x640 with 6 Axes>"
            ],
            "image/png": "[encoded data removed]"
          },
          "metadata": {}
        }
      ]
    },
    {
      "cell_type": "markdown",
      "source": [
        "> Ada beberapa cara untuk menghilangkan outliers.\n",
        "* Mengganti nilai outliers menggunakan nilai lower bound dan upper bound.\n",
        "* Capping menggunakan nilai median\n",
        "* Capping menggunakan nilai mean\n",
        "* Capping menggunakan nilai modus\n",
        "\n",
        "> **Referensi:** [handling outlier](https://blog.sanbercode.com/docs/materi-eda/data-type-missing-value-outlier/)"
      ],
      "metadata": {
        "id": "RJOA9h7sgX3G"
      }
    },
    {
      "cell_type": "code",
      "source": [
        "# Membuat function IQR Detection\n",
        "def outlier(data):\n",
        "    q1 = data.quantile(0.25)\n",
        "    q3 = data.quantile(0.75)\n",
        "    iqr = q3 - q1\n",
        "    limit = iqr * 1.5\n",
        "    print(f'IQR: {iqr}')\n",
        "    upperlimit = q3 + limit\n",
        "    lowerlimit = q1 - limit\n",
        "    print(f'Upper Limit: {upperlimit}')\n",
        "    print(f'Lower Limit: {lowerlimit}')\n",
        "\n",
        "# Buang Outlier\n",
        "outlier_feature = [\n",
        "                   'tenure',\n",
        "                   'MonthlyCharges',\n",
        "                   'TotalCharges'\n",
        "                    ]\n",
        "\n",
        "for i in outlier_feature:\n",
        "    print(i)\n",
        "    outlier(df[i])\n",
        "    print()\n",
        "\n",
        "df = df[\n",
        "        (df['tenure'] < 124.0) & \n",
        "        (df['MonthlyCharges'] < 171.375) &\n",
        "        (df['TotalCharges'] < 8887.525)\n",
        "        ]"
      ],
      "metadata": {
        "colab": {
          "base_uri": "https://localhost:8080/"
        },
        "id": "KEDfYGTVRr5Y",
        "outputId": "36cbbecd-fbfd-417c-9bf6-ab7fab409e88"
      },
      "execution_count": 27,
      "outputs": [
        {
          "output_type": "stream",
          "name": "stdout",
          "text": [
            "tenure\n",
            "IQR: 46.0\n",
            "Upper Limit: 124.0\n",
            "Lower Limit: -60.0\n",
            "\n",
            "MonthlyCharges\n",
            "IQR: 54.349999999999994\n",
            "Upper Limit: 171.375\n",
            "Lower Limit: -46.02499999999999\n",
            "\n",
            "TotalCharges\n",
            "IQR: 3384.375\n",
            "Upper Limit: 8863.1625\n",
            "Lower Limit: -4674.3375\n",
            "\n"
          ]
        }
      ]
    },
    {
      "cell_type": "code",
      "source": [
        "# Clean dataframe from outlier\n",
        "df = df.drop_duplicates()\n",
        "df.info()"
      ],
      "metadata": {
        "id": "2xigv_paTdp9",
        "colab": {
          "base_uri": "https://localhost:8080/"
        },
        "outputId": "b0a8ef06-bf4d-46a0-b679-3c9b751d4db3"
      },
      "execution_count": 28,
      "outputs": [
        {
          "output_type": "stream",
          "name": "stdout",
          "text": [
            "<class 'pandas.core.frame.DataFrame'>\n",
            "Int64Index: 7021 entries, 0 to 7042\n",
            "Data columns (total 20 columns):\n",
            " #   Column            Non-Null Count  Dtype  \n",
            "---  ------            --------------  -----  \n",
            " 0   gender            7021 non-null   int64  \n",
            " 1   SeniorCitizen     7021 non-null   int64  \n",
            " 2   Partner           7021 non-null   object \n",
            " 3   Dependents        7021 non-null   object \n",
            " 4   tenure            7021 non-null   int64  \n",
            " 5   PhoneService      7021 non-null   object \n",
            " 6   MultipleLines     7021 non-null   object \n",
            " 7   InternetService   7021 non-null   object \n",
            " 8   OnlineSecurity    7021 non-null   object \n",
            " 9   OnlineBackup      7021 non-null   object \n",
            " 10  DeviceProtection  7021 non-null   object \n",
            " 11  TechSupport       7021 non-null   object \n",
            " 12  StreamingTV       7021 non-null   object \n",
            " 13  StreamingMovies   7021 non-null   object \n",
            " 14  Contract          7021 non-null   object \n",
            " 15  PaperlessBilling  7021 non-null   object \n",
            " 16  PaymentMethod     7021 non-null   object \n",
            " 17  MonthlyCharges    7021 non-null   float64\n",
            " 18  TotalCharges      7021 non-null   float64\n",
            " 19  Churn             7021 non-null   int64  \n",
            "dtypes: float64(2), int64(4), object(14)\n",
            "memory usage: 1.1+ MB\n"
          ]
        }
      ]
    },
    {
      "cell_type": "markdown",
      "source": [
        "# 2. Encoding"
      ],
      "metadata": {
        "id": "vECQaGP7AEc3"
      }
    },
    {
      "cell_type": "markdown",
      "source": [
        "> **Note:** Jenis-Jenis Tipe Data\n",
        "![Data Types.png](data:image/png;base64,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)"
      ],
      "metadata": {
        "id": "O-OTATefXibJ"
      }
    },
    {
      "cell_type": "markdown",
      "source": [
        "1. Data Nominal: Data nominal adalah data yang dapat diklasifikasikan ke dalam kategori atau label tanpa urutan tertentu. Contoh: jenis kelamin (Pria/Wanita), warna (Merah/Biru/Hijau), dll.\n",
        "2. Data Ordinal: Data ordinal adalah data yang dapat diklasifikasikan ke dalam kategori atau label dengan urutan tertentu. Contoh: tingkat pendidikan (SD/SMP/SMA/Perguruan Tinggi), tingkat kesukaan (Sangat Tidak Suka/Tidak Suka/Netral/Suka/Sangat Suka), dll.\n",
        "3. Data Interval: Data interval adalah data yang dapat diukur dalam skala yang tidak terbatas namun tidak memiliki nilai nol absolut. Contoh: suhu dalam derajat Fahrenheit, skala IQ, dll.\n",
        "4. Data Rasio: Data rasio adalah data yang dapat diukur dalam skala yang tidak terbatas dan memiliki nilai nol absolut. Contoh: berat badan, tinggi badan, dll.\n",
        "\n",
        "> **NOTE:**\n",
        "> Perbedaan utama antara tipe data tersebut terletak pada cara data diukur dan diinterpretasikan. Data nominal hanya dapat di klasifikasikan, data ordinal memiliki urutan, data interval tidak memiliki nilai nol absolut, sementara data rasio memiliki nilai nol absolut sehingga dapat diukur perbandingannya.\n",
        "\n",
        "1. Data kontinu: Data kontinu adalah data yang dapat diukur dalam skala yang tidak terbatas, seperti suhu, berat, tinggi, dll. Data ini dapat dinyatakan dalam bentuk angka decimal. Contoh : suhu tubuh, berat badan, tinggi badan, dll.\n",
        "2. Data diskrit: Data diskrit adalah data yang dapat dihitung dan dinyatakan dalam bentuk angka bulat. Data diskrit dapat diklasifikasikan ke dalam kategori atau label. Contoh : jumlah anak, jenis kelamin, jenis pekerjaan, dll.\n",
        "3. Data binari: Data binari adalah data yang hanya dapat memiliki dua nilai, yaitu 0 atau 1. Data ini sering digunakan dalam klasifikasi biner (binary classification), dimana setiap sampel diklasifikasikan sebagai kategori positif atau negatif. Contoh : status menikah (Menikah/Belum Menikah), status memiliki kartu kredit (ya/tidak), dll.\n",
        "\n",
        "> **NOTE:**\n",
        "> Perbedaan utama antara data kontinu, diskrit dan binari terletak pada cara data diukur dan diinterpretasikan. Data kontinu diukur dalam skala yang tidak terbatas, data diskrit diukur dalam skala yang terbatas dan dapat dihitung, sementara data binari hanya memiliki dua nilai yang mungkin."
      ],
      "metadata": {
        "id": "uei7j3yZXlwo"
      }
    },
    {
      "cell_type": "markdown",
      "source": [
        "* Dilihat dari isi value masing-masing fitur, maka encoding akan terbagi menjadi 2 yaitu: \n",
        "> 1. ***Label Encoding*** untuk fitur kategorik tipe data ordinal seperti `Contract`, `MultipleLines`, dll.\n",
        "> 2. ***One Hot Encoding*** untuk fitur kategorik tipe data nominal, interval, dan rasio seperti `InternetService` dan `PaymentMethod`."
      ],
      "metadata": {
        "id": "NxrbEp6702AI"
      }
    },
    {
      "cell_type": "code",
      "source": [
        "df.head()"
      ],
      "metadata": {
        "colab": {
          "base_uri": "https://localhost:8080/",
          "height": 339
        },
        "id": "vY_jK8txa3dt",
        "outputId": "516db6d3-b9b7-4717-d803-808040ae26f3"
      },
      "execution_count": 29,
      "outputs": [
        {
          "output_type": "execute_result",
          "data": {
            "text/plain": [
              "   gender  SeniorCitizen Partner Dependents  tenure PhoneService  \\\n",
              "0       1              0     Yes         No       1           No   \n",
              "1       0              0      No         No      34          Yes   \n",
              "2       0              0      No         No       2          Yes   \n",
              "3       0              0      No         No      45           No   \n",
              "4       1              0      No         No       2          Yes   \n",
              "\n",
              "      MultipleLines InternetService OnlineSecurity OnlineBackup  \\\n",
              "0  No phone service             DSL             No          Yes   \n",
              "1                No             DSL            Yes           No   \n",
              "2                No             DSL            Yes          Yes   \n",
              "3  No phone service             DSL            Yes           No   \n",
              "4                No     Fiber optic             No           No   \n",
              "\n",
              "  DeviceProtection TechSupport StreamingTV StreamingMovies        Contract  \\\n",
              "0               No          No          No              No  Month-to-month   \n",
              "1              Yes          No          No              No        One year   \n",
              "2               No          No          No              No  Month-to-month   \n",
              "3              Yes         Yes          No              No        One year   \n",
              "4               No          No          No              No  Month-to-month   \n",
              "\n",
              "  PaperlessBilling              PaymentMethod  MonthlyCharges  TotalCharges  \\\n",
              "0              Yes           Electronic check           29.85         29.85   \n",
              "1               No               Mailed check           56.95       1889.50   \n",
              "2              Yes               Mailed check           53.85        108.15   \n",
              "3               No  Bank transfer (automatic)           42.30       1840.75   \n",
              "4              Yes           Electronic check           70.70        151.65   \n",
              "\n",
              "   Churn  \n",
              "0      0  \n",
              "1      0  \n",
              "2      1  \n",
              "3      0  \n",
              "4      1  "
            ],
            "text/html": [
              "\n",
              "  <div id=\"df-f3271dce-6220-49ae-a914-512685ddf042\">\n",
              "    <div class=\"colab-df-container\">\n",
              "      <div>\n",
              "<style scoped>\n",
              "    .dataframe tbody tr th:only-of-type {\n",
              "        vertical-align: middle;\n",
              "    }\n",
              "\n",
              "    .dataframe tbody tr th {\n",
              "        vertical-align: top;\n",
              "    }\n",
              "\n",
              "    .dataframe thead th {\n",
              "        text-align: right;\n",
              "    }\n",
              "</style>\n",
              "<table border=\"1\" class=\"dataframe\">\n",
              "  <thead>\n",
              "    <tr style=\"text-align: right;\">\n",
              "      <th></th>\n",
              "      <th>gender</th>\n",
              "      <th>SeniorCitizen</th>\n",
              "      <th>Partner</th>\n",
              "      <th>Dependents</th>\n",
              "      <th>tenure</th>\n",
              "      <th>PhoneService</th>\n",
              "      <th>MultipleLines</th>\n",
              "      <th>InternetService</th>\n",
              "      <th>OnlineSecurity</th>\n",
              "      <th>OnlineBackup</th>\n",
              "      <th>DeviceProtection</th>\n",
              "      <th>TechSupport</th>\n",
              "      <th>StreamingTV</th>\n",
              "      <th>StreamingMovies</th>\n",
              "      <th>Contract</th>\n",
              "      <th>PaperlessBilling</th>\n",
              "      <th>PaymentMethod</th>\n",
              "      <th>MonthlyCharges</th>\n",
              "      <th>TotalCharges</th>\n",
              "      <th>Churn</th>\n",
              "    </tr>\n",
              "  </thead>\n",
              "  <tbody>\n",
              "    <tr>\n",
              "      <th>0</th>\n",
              "      <td>1</td>\n",
              "      <td>0</td>\n",
              "      <td>Yes</td>\n",
              "      <td>No</td>\n",
              "      <td>1</td>\n",
              "      <td>No</td>\n",
              "      <td>No phone service</td>\n",
              "      <td>DSL</td>\n",
              "      <td>No</td>\n",
              "      <td>Yes</td>\n",
              "      <td>No</td>\n",
              "      <td>No</td>\n",
              "      <td>No</td>\n",
              "      <td>No</td>\n",
              "      <td>Month-to-month</td>\n",
              "      <td>Yes</td>\n",
              "      <td>Electronic check</td>\n",
              "      <td>29.85</td>\n",
              "      <td>29.85</td>\n",
              "      <td>0</td>\n",
              "    </tr>\n",
              "    <tr>\n",
              "      <th>1</th>\n",
              "      <td>0</td>\n",
              "      <td>0</td>\n",
              "      <td>No</td>\n",
              "      <td>No</td>\n",
              "      <td>34</td>\n",
              "      <td>Yes</td>\n",
              "      <td>No</td>\n",
              "      <td>DSL</td>\n",
              "      <td>Yes</td>\n",
              "      <td>No</td>\n",
              "      <td>Yes</td>\n",
              "      <td>No</td>\n",
              "      <td>No</td>\n",
              "      <td>No</td>\n",
              "      <td>One year</td>\n",
              "      <td>No</td>\n",
              "      <td>Mailed check</td>\n",
              "      <td>56.95</td>\n",
              "      <td>1889.50</td>\n",
              "      <td>0</td>\n",
              "    </tr>\n",
              "    <tr>\n",
              "      <th>2</th>\n",
              "      <td>0</td>\n",
              "      <td>0</td>\n",
              "      <td>No</td>\n",
              "      <td>No</td>\n",
              "      <td>2</td>\n",
              "      <td>Yes</td>\n",
              "      <td>No</td>\n",
              "      <td>DSL</td>\n",
              "      <td>Yes</td>\n",
              "      <td>Yes</td>\n",
              "      <td>No</td>\n",
              "      <td>No</td>\n",
              "      <td>No</td>\n",
              "      <td>No</td>\n",
              "      <td>Month-to-month</td>\n",
              "      <td>Yes</td>\n",
              "      <td>Mailed check</td>\n",
              "      <td>53.85</td>\n",
              "      <td>108.15</td>\n",
              "      <td>1</td>\n",
              "    </tr>\n",
              "    <tr>\n",
              "      <th>3</th>\n",
              "      <td>0</td>\n",
              "      <td>0</td>\n",
              "      <td>No</td>\n",
              "      <td>No</td>\n",
              "      <td>45</td>\n",
              "      <td>No</td>\n",
              "      <td>No phone service</td>\n",
              "      <td>DSL</td>\n",
              "      <td>Yes</td>\n",
              "      <td>No</td>\n",
              "      <td>Yes</td>\n",
              "      <td>Yes</td>\n",
              "      <td>No</td>\n",
              "      <td>No</td>\n",
              "      <td>One year</td>\n",
              "      <td>No</td>\n",
              "      <td>Bank transfer (automatic)</td>\n",
              "      <td>42.30</td>\n",
              "      <td>1840.75</td>\n",
              "      <td>0</td>\n",
              "    </tr>\n",
              "    <tr>\n",
              "      <th>4</th>\n",
              "      <td>1</td>\n",
              "      <td>0</td>\n",
              "      <td>No</td>\n",
              "      <td>No</td>\n",
              "      <td>2</td>\n",
              "      <td>Yes</td>\n",
              "      <td>No</td>\n",
              "      <td>Fiber optic</td>\n",
              "      <td>No</td>\n",
              "      <td>No</td>\n",
              "      <td>No</td>\n",
              "      <td>No</td>\n",
              "      <td>No</td>\n",
              "      <td>No</td>\n",
              "      <td>Month-to-month</td>\n",
              "      <td>Yes</td>\n",
              "      <td>Electronic check</td>\n",
              "      <td>70.70</td>\n",
              "      <td>151.65</td>\n",
              "      <td>1</td>\n",
              "    </tr>\n",
              "  </tbody>\n",
              "</table>\n",
              "</div>\n",
              "      <button class=\"colab-df-convert\" onclick=\"convertToInteractive('df-f3271dce-6220-49ae-a914-512685ddf042')\"\n",
              "              title=\"Convert this dataframe to an interactive table.\"\n",
              "              style=\"display:none;\">\n",
              "        \n",
              "  <svg xmlns=\"http://www.w3.org/2000/svg\" height=\"24px\"viewBox=\"0 0 24 24\"\n",
              "       width=\"24px\">\n",
              "    <path d=\"M0 0h24v24H0V0z\" fill=\"none\"/>\n",
              "    <path d=\"M18.56 5.44l.94 2.06.94-2.06 2.06-.94-2.06-.94-.94-2.06-.94 2.06-2.06.94zm-11 1L8.5 8.5l.94-2.06 2.06-.94-2.06-.94L8.5 2.5l-.94 2.06-2.06.94zm10 10l.94 2.06.94-2.06 2.06-.94-2.06-.94-.94-2.06-.94 2.06-2.06.94z\"/><path d=\"M17.41 7.96l-1.37-1.37c-.4-.4-.92-.59-1.43-.59-.52 0-1.04.2-1.43.59L10.3 9.45l-7.72 7.72c-.78.78-.78 2.05 0 2.83L4 21.41c.39.39.9.59 1.41.59.51 0 1.02-.2 1.41-.59l7.78-7.78 2.81-2.81c.8-.78.8-2.07 0-2.86zM5.41 20L4 18.59l7.72-7.72 1.47 1.35L5.41 20z\"/>\n",
              "  </svg>\n",
              "      </button>\n",
              "      \n",
              "  <style>\n",
              "    .colab-df-container {\n",
              "      display:flex;\n",
              "      flex-wrap:wrap;\n",
              "      gap: 12px;\n",
              "    }\n",
              "\n",
              "    .colab-df-convert {\n",
              "      background-color: #E8F0FE;\n",
              "      border: none;\n",
              "      border-radius: 50%;\n",
              "      cursor: pointer;\n",
              "      display: none;\n",
              "      fill: #1967D2;\n",
              "      height: 32px;\n",
              "      padding: 0 0 0 0;\n",
              "      width: 32px;\n",
              "    }\n",
              "\n",
              "    .colab-df-convert:hover {\n",
              "      background-color: #E2EBFA;\n",
              "      box-shadow: 0px 1px 2px rgba(60, 64, 67, 0.3), 0px 1px 3px 1px rgba(60, 64, 67, 0.15);\n",
              "      fill: #174EA6;\n",
              "    }\n",
              "\n",
              "    [theme=dark] .colab-df-convert {\n",
              "      background-color: #3B4455;\n",
              "      fill: #D2E3FC;\n",
              "    }\n",
              "\n",
              "    [theme=dark] .colab-df-convert:hover {\n",
              "      background-color: #434B5C;\n",
              "      box-shadow: 0px 1px 3px 1px rgba(0, 0, 0, 0.15);\n",
              "      filter: drop-shadow(0px 1px 2px rgba(0, 0, 0, 0.3));\n",
              "      fill: #FFFFFF;\n",
              "    }\n",
              "  </style>\n",
              "\n",
              "      <script>\n",
              "        const buttonEl =\n",
              "          document.querySelector('#df-f3271dce-6220-49ae-a914-512685ddf042 button.colab-df-convert');\n",
              "        buttonEl.style.display =\n",
              "          google.colab.kernel.accessAllowed ? 'block' : 'none';\n",
              "\n",
              "        async function convertToInteractive(key) {\n",
              "          const element = document.querySelector('#df-f3271dce-6220-49ae-a914-512685ddf042');\n",
              "          const dataTable =\n",
              "            await google.colab.kernel.invokeFunction('convertToInteractive',\n",
              "                                                     [key], {});\n",
              "          if (!dataTable) return;\n",
              "\n",
              "          const docLinkHtml = 'Like what you see? Visit the ' +\n",
              "            '<a target=\"_blank\" href=https://colab.research.google.com/notebooks/data_table.ipynb>data table notebook</a>'\n",
              "            + ' to learn more about interactive tables.';\n",
              "          element.innerHTML = '';\n",
              "          dataTable['output_type'] = 'display_data';\n",
              "          await google.colab.output.renderOutput(dataTable, element);\n",
              "          const docLink = document.createElement('div');\n",
              "          docLink.innerHTML = docLinkHtml;\n",
              "          element.appendChild(docLink);\n",
              "        }\n",
              "      </script>\n",
              "    </div>\n",
              "  </div>\n",
              "  "
            ]
          },
          "metadata": {},
          "execution_count": 29
        }
      ]
    },
    {
      "cell_type": "markdown",
      "source": [
        "### 2.1 Label Encoding"
      ],
      "metadata": {
        "id": "timDyIh6bzu_"
      }
    },
    {
      "cell_type": "code",
      "source": [
        "# ordinal = [\n",
        "#           'Partner', 'Dependents', 'PhoneService', 'MultipleLines', 'OnlineSecurity', 'OnlineBackup', \n",
        "#           'DeviceProtection', 'TechSupport', 'StreamingTV', 'StreamingMovies', 'Contract', 'PaperlessBilling'\n",
        "# ]\n",
        "# # Creating instance of labelencoding\n",
        "# labelencoder = LabelEncoder()\n",
        "\n",
        "# # Assigning numerical values and storing in another column\n",
        "# for columns in ordinal:\n",
        "#     df[columns] = labelencoder.fit_transform(df[columns])\n",
        "\n",
        "# df.head()"
      ],
      "metadata": {
        "id": "NuzWVLYwbl08"
      },
      "execution_count": 30,
      "outputs": []
    },
    {
      "cell_type": "markdown",
      "source": [
        "### 2.2 One Hot Encoding"
      ],
      "metadata": {
        "id": "KXpI6z23cJBr"
      }
    },
    {
      "cell_type": "code",
      "source": [
        "# # Creating one hot encoding with pandas get dummy\n",
        "# one_hot_encoded = pd.get_dummies(df, columns = ['InternetService', 'PaymentMethod'])\n",
        "# one_hot_encoded.head()"
      ],
      "metadata": {
        "id": "N9UBWibcyEZm"
      },
      "execution_count": 31,
      "outputs": []
    },
    {
      "cell_type": "code",
      "source": [
        "# one_hot_encoded.info()"
      ],
      "metadata": {
        "id": "W29YjgLQTXTF"
      },
      "execution_count": 32,
      "outputs": []
    },
    {
      "cell_type": "code",
      "source": [
        "ohe_encoder = OneHotEncoder(drop='first', sparse=False)\n",
        "ohe_encoder.fit(df[categorical_features])"
      ],
      "metadata": {
        "colab": {
          "base_uri": "https://localhost:8080/"
        },
        "id": "4GReu5DRcMzA",
        "outputId": "99837d21-d578-454a-da14-ca1bcf5675f2"
      },
      "execution_count": 33,
      "outputs": [
        {
          "output_type": "execute_result",
          "data": {
            "text/plain": [
              "OneHotEncoder(drop='first', sparse=False)"
            ]
          },
          "metadata": {},
          "execution_count": 33
        }
      ]
    },
    {
      "cell_type": "code",
      "source": [
        "df_dummy = pd.DataFrame(\n",
        "                        ohe_encoder.transform(df[categorical_features]), \n",
        "                        index=df.index, \n",
        "                        columns=ohe_encoder.get_feature_names(df[categorical_features].columns)\n",
        "                      )\n",
        "df_dummy.head()"
      ],
      "metadata": {
        "colab": {
          "base_uri": "https://localhost:8080/",
          "height": 371
        },
        "id": "qNz9q7mOxdIr",
        "outputId": "9fedd0b5-5d17-49c4-c2bb-54529a910a54"
      },
      "execution_count": 34,
      "outputs": [
        {
          "output_type": "stream",
          "name": "stderr",
          "text": [
            "/usr/local/lib/python3.8/dist-packages/sklearn/utils/deprecation.py:87: FutureWarning: Function get_feature_names is deprecated; get_feature_names is deprecated in 1.0 and will be removed in 1.2. Please use get_feature_names_out instead.\n",
            "  warnings.warn(msg, category=FutureWarning)\n"
          ]
        },
        {
          "output_type": "execute_result",
          "data": {
            "text/plain": [
              "   Partner_Yes  Dependents_Yes  PhoneService_Yes  \\\n",
              "0          1.0             0.0               0.0   \n",
              "1          0.0             0.0               1.0   \n",
              "2          0.0             0.0               1.0   \n",
              "3          0.0             0.0               0.0   \n",
              "4          0.0             0.0               1.0   \n",
              "\n",
              "   MultipleLines_No phone service  MultipleLines_Yes  \\\n",
              "0                             1.0                0.0   \n",
              "1                             0.0                0.0   \n",
              "2                             0.0                0.0   \n",
              "3                             1.0                0.0   \n",
              "4                             0.0                0.0   \n",
              "\n",
              "   InternetService_Fiber optic  InternetService_No  \\\n",
              "0                          0.0                 0.0   \n",
              "1                          0.0                 0.0   \n",
              "2                          0.0                 0.0   \n",
              "3                          0.0                 0.0   \n",
              "4                          1.0                 0.0   \n",
              "\n",
              "   OnlineSecurity_No internet service  OnlineSecurity_Yes  \\\n",
              "0                                 0.0                 0.0   \n",
              "1                                 0.0                 1.0   \n",
              "2                                 0.0                 1.0   \n",
              "3                                 0.0                 1.0   \n",
              "4                                 0.0                 0.0   \n",
              "\n",
              "   OnlineBackup_No internet service  ...  StreamingTV_No internet service  \\\n",
              "0                               0.0  ...                              0.0   \n",
              "1                               0.0  ...                              0.0   \n",
              "2                               0.0  ...                              0.0   \n",
              "3                               0.0  ...                              0.0   \n",
              "4                               0.0  ...                              0.0   \n",
              "\n",
              "   StreamingTV_Yes  StreamingMovies_No internet service  StreamingMovies_Yes  \\\n",
              "0              0.0                                  0.0                  0.0   \n",
              "1              0.0                                  0.0                  0.0   \n",
              "2              0.0                                  0.0                  0.0   \n",
              "3              0.0                                  0.0                  0.0   \n",
              "4              0.0                                  0.0                  0.0   \n",
              "\n",
              "   Contract_One year  Contract_Two year  PaperlessBilling_Yes  \\\n",
              "0                0.0                0.0                   1.0   \n",
              "1                1.0                0.0                   0.0   \n",
              "2                0.0                0.0                   1.0   \n",
              "3                1.0                0.0                   0.0   \n",
              "4                0.0                0.0                   1.0   \n",
              "\n",
              "   PaymentMethod_Credit card (automatic)  PaymentMethod_Electronic check  \\\n",
              "0                                    0.0                             1.0   \n",
              "1                                    0.0                             0.0   \n",
              "2                                    0.0                             0.0   \n",
              "3                                    0.0                             0.0   \n",
              "4                                    0.0                             1.0   \n",
              "\n",
              "   PaymentMethod_Mailed check  \n",
              "0                         0.0  \n",
              "1                         1.0  \n",
              "2                         1.0  \n",
              "3                         0.0  \n",
              "4                         0.0  \n",
              "\n",
              "[5 rows x 25 columns]"
            ],
            "text/html": [
              "\n",
              "  <div id=\"df-2752c50a-bec4-4611-99ef-3c406a04a0a8\">\n",
              "    <div class=\"colab-df-container\">\n",
              "      <div>\n",
              "<style scoped>\n",
              "    .dataframe tbody tr th:only-of-type {\n",
              "        vertical-align: middle;\n",
              "    }\n",
              "\n",
              "    .dataframe tbody tr th {\n",
              "        vertical-align: top;\n",
              "    }\n",
              "\n",
              "    .dataframe thead th {\n",
              "        text-align: right;\n",
              "    }\n",
              "</style>\n",
              "<table border=\"1\" class=\"dataframe\">\n",
              "  <thead>\n",
              "    <tr style=\"text-align: right;\">\n",
              "      <th></th>\n",
              "      <th>Partner_Yes</th>\n",
              "      <th>Dependents_Yes</th>\n",
              "      <th>PhoneService_Yes</th>\n",
              "      <th>MultipleLines_No phone service</th>\n",
              "      <th>MultipleLines_Yes</th>\n",
              "      <th>InternetService_Fiber optic</th>\n",
              "      <th>InternetService_No</th>\n",
              "      <th>OnlineSecurity_No internet service</th>\n",
              "      <th>OnlineSecurity_Yes</th>\n",
              "      <th>OnlineBackup_No internet service</th>\n",
              "      <th>...</th>\n",
              "      <th>StreamingTV_No internet service</th>\n",
              "      <th>StreamingTV_Yes</th>\n",
              "      <th>StreamingMovies_No internet service</th>\n",
              "      <th>StreamingMovies_Yes</th>\n",
              "      <th>Contract_One year</th>\n",
              "      <th>Contract_Two year</th>\n",
              "      <th>PaperlessBilling_Yes</th>\n",
              "      <th>PaymentMethod_Credit card (automatic)</th>\n",
              "      <th>PaymentMethod_Electronic check</th>\n",
              "      <th>PaymentMethod_Mailed check</th>\n",
              "    </tr>\n",
              "  </thead>\n",
              "  <tbody>\n",
              "    <tr>\n",
              "      <th>0</th>\n",
              "      <td>1.0</td>\n",
              "      <td>0.0</td>\n",
              "      <td>0.0</td>\n",
              "      <td>1.0</td>\n",
              "      <td>0.0</td>\n",
              "      <td>0.0</td>\n",
              "      <td>0.0</td>\n",
              "      <td>0.0</td>\n",
              "      <td>0.0</td>\n",
              "      <td>0.0</td>\n",
              "      <td>...</td>\n",
              "      <td>0.0</td>\n",
              "      <td>0.0</td>\n",
              "      <td>0.0</td>\n",
              "      <td>0.0</td>\n",
              "      <td>0.0</td>\n",
              "      <td>0.0</td>\n",
              "      <td>1.0</td>\n",
              "      <td>0.0</td>\n",
              "      <td>1.0</td>\n",
              "      <td>0.0</td>\n",
              "    </tr>\n",
              "    <tr>\n",
              "      <th>1</th>\n",
              "      <td>0.0</td>\n",
              "      <td>0.0</td>\n",
              "      <td>1.0</td>\n",
              "      <td>0.0</td>\n",
              "      <td>0.0</td>\n",
              "      <td>0.0</td>\n",
              "      <td>0.0</td>\n",
              "      <td>0.0</td>\n",
              "      <td>1.0</td>\n",
              "      <td>0.0</td>\n",
              "      <td>...</td>\n",
              "      <td>0.0</td>\n",
              "      <td>0.0</td>\n",
              "      <td>0.0</td>\n",
              "      <td>0.0</td>\n",
              "      <td>1.0</td>\n",
              "      <td>0.0</td>\n",
              "      <td>0.0</td>\n",
              "      <td>0.0</td>\n",
              "      <td>0.0</td>\n",
              "      <td>1.0</td>\n",
              "    </tr>\n",
              "    <tr>\n",
              "      <th>2</th>\n",
              "      <td>0.0</td>\n",
              "      <td>0.0</td>\n",
              "      <td>1.0</td>\n",
              "      <td>0.0</td>\n",
              "      <td>0.0</td>\n",
              "      <td>0.0</td>\n",
              "      <td>0.0</td>\n",
              "      <td>0.0</td>\n",
              "      <td>1.0</td>\n",
              "      <td>0.0</td>\n",
              "      <td>...</td>\n",
              "      <td>0.0</td>\n",
              "      <td>0.0</td>\n",
              "      <td>0.0</td>\n",
              "      <td>0.0</td>\n",
              "      <td>0.0</td>\n",
              "      <td>0.0</td>\n",
              "      <td>1.0</td>\n",
              "      <td>0.0</td>\n",
              "      <td>0.0</td>\n",
              "      <td>1.0</td>\n",
              "    </tr>\n",
              "    <tr>\n",
              "      <th>3</th>\n",
              "      <td>0.0</td>\n",
              "      <td>0.0</td>\n",
              "      <td>0.0</td>\n",
              "      <td>1.0</td>\n",
              "      <td>0.0</td>\n",
              "      <td>0.0</td>\n",
              "      <td>0.0</td>\n",
              "      <td>0.0</td>\n",
              "      <td>1.0</td>\n",
              "      <td>0.0</td>\n",
              "      <td>...</td>\n",
              "      <td>0.0</td>\n",
              "      <td>0.0</td>\n",
              "      <td>0.0</td>\n",
              "      <td>0.0</td>\n",
              "      <td>1.0</td>\n",
              "      <td>0.0</td>\n",
              "      <td>0.0</td>\n",
              "      <td>0.0</td>\n",
              "      <td>0.0</td>\n",
              "      <td>0.0</td>\n",
              "    </tr>\n",
              "    <tr>\n",
              "      <th>4</th>\n",
              "      <td>0.0</td>\n",
              "      <td>0.0</td>\n",
              "      <td>1.0</td>\n",
              "      <td>0.0</td>\n",
              "      <td>0.0</td>\n",
              "      <td>1.0</td>\n",
              "      <td>0.0</td>\n",
              "      <td>0.0</td>\n",
              "      <td>0.0</td>\n",
              "      <td>0.0</td>\n",
              "      <td>...</td>\n",
              "      <td>0.0</td>\n",
              "      <td>0.0</td>\n",
              "      <td>0.0</td>\n",
              "      <td>0.0</td>\n",
              "      <td>0.0</td>\n",
              "      <td>0.0</td>\n",
              "      <td>1.0</td>\n",
              "      <td>0.0</td>\n",
              "      <td>1.0</td>\n",
              "      <td>0.0</td>\n",
              "    </tr>\n",
              "  </tbody>\n",
              "</table>\n",
              "<p>5 rows × 25 columns</p>\n",
              "</div>\n",
              "      <button class=\"colab-df-convert\" onclick=\"convertToInteractive('df-2752c50a-bec4-4611-99ef-3c406a04a0a8')\"\n",
              "              title=\"Convert this dataframe to an interactive table.\"\n",
              "              style=\"display:none;\">\n",
              "        \n",
              "  <svg xmlns=\"http://www.w3.org/2000/svg\" height=\"24px\"viewBox=\"0 0 24 24\"\n",
              "       width=\"24px\">\n",
              "    <path d=\"M0 0h24v24H0V0z\" fill=\"none\"/>\n",
              "    <path d=\"M18.56 5.44l.94 2.06.94-2.06 2.06-.94-2.06-.94-.94-2.06-.94 2.06-2.06.94zm-11 1L8.5 8.5l.94-2.06 2.06-.94-2.06-.94L8.5 2.5l-.94 2.06-2.06.94zm10 10l.94 2.06.94-2.06 2.06-.94-2.06-.94-.94-2.06-.94 2.06-2.06.94z\"/><path d=\"M17.41 7.96l-1.37-1.37c-.4-.4-.92-.59-1.43-.59-.52 0-1.04.2-1.43.59L10.3 9.45l-7.72 7.72c-.78.78-.78 2.05 0 2.83L4 21.41c.39.39.9.59 1.41.59.51 0 1.02-.2 1.41-.59l7.78-7.78 2.81-2.81c.8-.78.8-2.07 0-2.86zM5.41 20L4 18.59l7.72-7.72 1.47 1.35L5.41 20z\"/>\n",
              "  </svg>\n",
              "      </button>\n",
              "      \n",
              "  <style>\n",
              "    .colab-df-container {\n",
              "      display:flex;\n",
              "      flex-wrap:wrap;\n",
              "      gap: 12px;\n",
              "    }\n",
              "\n",
              "    .colab-df-convert {\n",
              "      background-color: #E8F0FE;\n",
              "      border: none;\n",
              "      border-radius: 50%;\n",
              "      cursor: pointer;\n",
              "      display: none;\n",
              "      fill: #1967D2;\n",
              "      height: 32px;\n",
              "      padding: 0 0 0 0;\n",
              "      width: 32px;\n",
              "    }\n",
              "\n",
              "    .colab-df-convert:hover {\n",
              "      background-color: #E2EBFA;\n",
              "      box-shadow: 0px 1px 2px rgba(60, 64, 67, 0.3), 0px 1px 3px 1px rgba(60, 64, 67, 0.15);\n",
              "      fill: #174EA6;\n",
              "    }\n",
              "\n",
              "    [theme=dark] .colab-df-convert {\n",
              "      background-color: #3B4455;\n",
              "      fill: #D2E3FC;\n",
              "    }\n",
              "\n",
              "    [theme=dark] .colab-df-convert:hover {\n",
              "      background-color: #434B5C;\n",
              "      box-shadow: 0px 1px 3px 1px rgba(0, 0, 0, 0.15);\n",
              "      filter: drop-shadow(0px 1px 2px rgba(0, 0, 0, 0.3));\n",
              "      fill: #FFFFFF;\n",
              "    }\n",
              "  </style>\n",
              "\n",
              "      <script>\n",
              "        const buttonEl =\n",
              "          document.querySelector('#df-2752c50a-bec4-4611-99ef-3c406a04a0a8 button.colab-df-convert');\n",
              "        buttonEl.style.display =\n",
              "          google.colab.kernel.accessAllowed ? 'block' : 'none';\n",
              "\n",
              "        async function convertToInteractive(key) {\n",
              "          const element = document.querySelector('#df-2752c50a-bec4-4611-99ef-3c406a04a0a8');\n",
              "          const dataTable =\n",
              "            await google.colab.kernel.invokeFunction('convertToInteractive',\n",
              "                                                     [key], {});\n",
              "          if (!dataTable) return;\n",
              "\n",
              "          const docLinkHtml = 'Like what you see? Visit the ' +\n",
              "            '<a target=\"_blank\" href=https://colab.research.google.com/notebooks/data_table.ipynb>data table notebook</a>'\n",
              "            + ' to learn more about interactive tables.';\n",
              "          element.innerHTML = '';\n",
              "          dataTable['output_type'] = 'display_data';\n",
              "          await google.colab.output.renderOutput(dataTable, element);\n",
              "          const docLink = document.createElement('div');\n",
              "          docLink.innerHTML = docLinkHtml;\n",
              "          element.appendChild(docLink);\n",
              "        }\n",
              "      </script>\n",
              "    </div>\n",
              "  </div>\n",
              "  "
            ]
          },
          "metadata": {},
          "execution_count": 34
        }
      ]
    },
    {
      "cell_type": "code",
      "source": [
        "numeric_features = df.select_dtypes(exclude='object')\n",
        "\n",
        "df_dummy = pd.concat([numeric_features, df_dummy], axis=1)\n",
        "df_dummy.head()"
      ],
      "metadata": {
        "colab": {
          "base_uri": "https://localhost:8080/",
          "height": 334
        },
        "id": "kLViJsFZxdPt",
        "outputId": "7f0e49c7-66c3-4c82-b77e-05f83e6da1df"
      },
      "execution_count": 35,
      "outputs": [
        {
          "output_type": "execute_result",
          "data": {
            "text/plain": [
              "   gender  SeniorCitizen  tenure  MonthlyCharges  TotalCharges  Churn  \\\n",
              "0       1              0       1           29.85         29.85      0   \n",
              "1       0              0      34           56.95       1889.50      0   \n",
              "2       0              0       2           53.85        108.15      1   \n",
              "3       0              0      45           42.30       1840.75      0   \n",
              "4       1              0       2           70.70        151.65      1   \n",
              "\n",
              "   Partner_Yes  Dependents_Yes  PhoneService_Yes  \\\n",
              "0          1.0             0.0               0.0   \n",
              "1          0.0             0.0               1.0   \n",
              "2          0.0             0.0               1.0   \n",
              "3          0.0             0.0               0.0   \n",
              "4          0.0             0.0               1.0   \n",
              "\n",
              "   MultipleLines_No phone service  ...  StreamingTV_No internet service  \\\n",
              "0                             1.0  ...                              0.0   \n",
              "1                             0.0  ...                              0.0   \n",
              "2                             0.0  ...                              0.0   \n",
              "3                             1.0  ...                              0.0   \n",
              "4                             0.0  ...                              0.0   \n",
              "\n",
              "   StreamingTV_Yes  StreamingMovies_No internet service  StreamingMovies_Yes  \\\n",
              "0              0.0                                  0.0                  0.0   \n",
              "1              0.0                                  0.0                  0.0   \n",
              "2              0.0                                  0.0                  0.0   \n",
              "3              0.0                                  0.0                  0.0   \n",
              "4              0.0                                  0.0                  0.0   \n",
              "\n",
              "   Contract_One year  Contract_Two year  PaperlessBilling_Yes  \\\n",
              "0                0.0                0.0                   1.0   \n",
              "1                1.0                0.0                   0.0   \n",
              "2                0.0                0.0                   1.0   \n",
              "3                1.0                0.0                   0.0   \n",
              "4                0.0                0.0                   1.0   \n",
              "\n",
              "   PaymentMethod_Credit card (automatic)  PaymentMethod_Electronic check  \\\n",
              "0                                    0.0                             1.0   \n",
              "1                                    0.0                             0.0   \n",
              "2                                    0.0                             0.0   \n",
              "3                                    0.0                             0.0   \n",
              "4                                    0.0                             1.0   \n",
              "\n",
              "   PaymentMethod_Mailed check  \n",
              "0                         0.0  \n",
              "1                         1.0  \n",
              "2                         1.0  \n",
              "3                         0.0  \n",
              "4                         0.0  \n",
              "\n",
              "[5 rows x 31 columns]"
            ],
            "text/html": [
              "\n",
              "  <div id=\"df-d2b74d16-b437-404e-9122-5e99b488d69e\">\n",
              "    <div class=\"colab-df-container\">\n",
              "      <div>\n",
              "<style scoped>\n",
              "    .dataframe tbody tr th:only-of-type {\n",
              "        vertical-align: middle;\n",
              "    }\n",
              "\n",
              "    .dataframe tbody tr th {\n",
              "        vertical-align: top;\n",
              "    }\n",
              "\n",
              "    .dataframe thead th {\n",
              "        text-align: right;\n",
              "    }\n",
              "</style>\n",
              "<table border=\"1\" class=\"dataframe\">\n",
              "  <thead>\n",
              "    <tr style=\"text-align: right;\">\n",
              "      <th></th>\n",
              "      <th>gender</th>\n",
              "      <th>SeniorCitizen</th>\n",
              "      <th>tenure</th>\n",
              "      <th>MonthlyCharges</th>\n",
              "      <th>TotalCharges</th>\n",
              "      <th>Churn</th>\n",
              "      <th>Partner_Yes</th>\n",
              "      <th>Dependents_Yes</th>\n",
              "      <th>PhoneService_Yes</th>\n",
              "      <th>MultipleLines_No phone service</th>\n",
              "      <th>...</th>\n",
              "      <th>StreamingTV_No internet service</th>\n",
              "      <th>StreamingTV_Yes</th>\n",
              "      <th>StreamingMovies_No internet service</th>\n",
              "      <th>StreamingMovies_Yes</th>\n",
              "      <th>Contract_One year</th>\n",
              "      <th>Contract_Two year</th>\n",
              "      <th>PaperlessBilling_Yes</th>\n",
              "      <th>PaymentMethod_Credit card (automatic)</th>\n",
              "      <th>PaymentMethod_Electronic check</th>\n",
              "      <th>PaymentMethod_Mailed check</th>\n",
              "    </tr>\n",
              "  </thead>\n",
              "  <tbody>\n",
              "    <tr>\n",
              "      <th>0</th>\n",
              "      <td>1</td>\n",
              "      <td>0</td>\n",
              "      <td>1</td>\n",
              "      <td>29.85</td>\n",
              "      <td>29.85</td>\n",
              "      <td>0</td>\n",
              "      <td>1.0</td>\n",
              "      <td>0.0</td>\n",
              "      <td>0.0</td>\n",
              "      <td>1.0</td>\n",
              "      <td>...</td>\n",
              "      <td>0.0</td>\n",
              "      <td>0.0</td>\n",
              "      <td>0.0</td>\n",
              "      <td>0.0</td>\n",
              "      <td>0.0</td>\n",
              "      <td>0.0</td>\n",
              "      <td>1.0</td>\n",
              "      <td>0.0</td>\n",
              "      <td>1.0</td>\n",
              "      <td>0.0</td>\n",
              "    </tr>\n",
              "    <tr>\n",
              "      <th>1</th>\n",
              "      <td>0</td>\n",
              "      <td>0</td>\n",
              "      <td>34</td>\n",
              "      <td>56.95</td>\n",
              "      <td>1889.50</td>\n",
              "      <td>0</td>\n",
              "      <td>0.0</td>\n",
              "      <td>0.0</td>\n",
              "      <td>1.0</td>\n",
              "      <td>0.0</td>\n",
              "      <td>...</td>\n",
              "      <td>0.0</td>\n",
              "      <td>0.0</td>\n",
              "      <td>0.0</td>\n",
              "      <td>0.0</td>\n",
              "      <td>1.0</td>\n",
              "      <td>0.0</td>\n",
              "      <td>0.0</td>\n",
              "      <td>0.0</td>\n",
              "      <td>0.0</td>\n",
              "      <td>1.0</td>\n",
              "    </tr>\n",
              "    <tr>\n",
              "      <th>2</th>\n",
              "      <td>0</td>\n",
              "      <td>0</td>\n",
              "      <td>2</td>\n",
              "      <td>53.85</td>\n",
              "      <td>108.15</td>\n",
              "      <td>1</td>\n",
              "      <td>0.0</td>\n",
              "      <td>0.0</td>\n",
              "      <td>1.0</td>\n",
              "      <td>0.0</td>\n",
              "      <td>...</td>\n",
              "      <td>0.0</td>\n",
              "      <td>0.0</td>\n",
              "      <td>0.0</td>\n",
              "      <td>0.0</td>\n",
              "      <td>0.0</td>\n",
              "      <td>0.0</td>\n",
              "      <td>1.0</td>\n",
              "      <td>0.0</td>\n",
              "      <td>0.0</td>\n",
              "      <td>1.0</td>\n",
              "    </tr>\n",
              "    <tr>\n",
              "      <th>3</th>\n",
              "      <td>0</td>\n",
              "      <td>0</td>\n",
              "      <td>45</td>\n",
              "      <td>42.30</td>\n",
              "      <td>1840.75</td>\n",
              "      <td>0</td>\n",
              "      <td>0.0</td>\n",
              "      <td>0.0</td>\n",
              "      <td>0.0</td>\n",
              "      <td>1.0</td>\n",
              "      <td>...</td>\n",
              "      <td>0.0</td>\n",
              "      <td>0.0</td>\n",
              "      <td>0.0</td>\n",
              "      <td>0.0</td>\n",
              "      <td>1.0</td>\n",
              "      <td>0.0</td>\n",
              "      <td>0.0</td>\n",
              "      <td>0.0</td>\n",
              "      <td>0.0</td>\n",
              "      <td>0.0</td>\n",
              "    </tr>\n",
              "    <tr>\n",
              "      <th>4</th>\n",
              "      <td>1</td>\n",
              "      <td>0</td>\n",
              "      <td>2</td>\n",
              "      <td>70.70</td>\n",
              "      <td>151.65</td>\n",
              "      <td>1</td>\n",
              "      <td>0.0</td>\n",
              "      <td>0.0</td>\n",
              "      <td>1.0</td>\n",
              "      <td>0.0</td>\n",
              "      <td>...</td>\n",
              "      <td>0.0</td>\n",
              "      <td>0.0</td>\n",
              "      <td>0.0</td>\n",
              "      <td>0.0</td>\n",
              "      <td>0.0</td>\n",
              "      <td>0.0</td>\n",
              "      <td>1.0</td>\n",
              "      <td>0.0</td>\n",
              "      <td>1.0</td>\n",
              "      <td>0.0</td>\n",
              "    </tr>\n",
              "  </tbody>\n",
              "</table>\n",
              "<p>5 rows × 31 columns</p>\n",
              "</div>\n",
              "      <button class=\"colab-df-convert\" onclick=\"convertToInteractive('df-d2b74d16-b437-404e-9122-5e99b488d69e')\"\n",
              "              title=\"Convert this dataframe to an interactive table.\"\n",
              "              style=\"display:none;\">\n",
              "        \n",
              "  <svg xmlns=\"http://www.w3.org/2000/svg\" height=\"24px\"viewBox=\"0 0 24 24\"\n",
              "       width=\"24px\">\n",
              "    <path d=\"M0 0h24v24H0V0z\" fill=\"none\"/>\n",
              "    <path d=\"M18.56 5.44l.94 2.06.94-2.06 2.06-.94-2.06-.94-.94-2.06-.94 2.06-2.06.94zm-11 1L8.5 8.5l.94-2.06 2.06-.94-2.06-.94L8.5 2.5l-.94 2.06-2.06.94zm10 10l.94 2.06.94-2.06 2.06-.94-2.06-.94-.94-2.06-.94 2.06-2.06.94z\"/><path d=\"M17.41 7.96l-1.37-1.37c-.4-.4-.92-.59-1.43-.59-.52 0-1.04.2-1.43.59L10.3 9.45l-7.72 7.72c-.78.78-.78 2.05 0 2.83L4 21.41c.39.39.9.59 1.41.59.51 0 1.02-.2 1.41-.59l7.78-7.78 2.81-2.81c.8-.78.8-2.07 0-2.86zM5.41 20L4 18.59l7.72-7.72 1.47 1.35L5.41 20z\"/>\n",
              "  </svg>\n",
              "      </button>\n",
              "      \n",
              "  <style>\n",
              "    .colab-df-container {\n",
              "      display:flex;\n",
              "      flex-wrap:wrap;\n",
              "      gap: 12px;\n",
              "    }\n",
              "\n",
              "    .colab-df-convert {\n",
              "      background-color: #E8F0FE;\n",
              "      border: none;\n",
              "      border-radius: 50%;\n",
              "      cursor: pointer;\n",
              "      display: none;\n",
              "      fill: #1967D2;\n",
              "      height: 32px;\n",
              "      padding: 0 0 0 0;\n",
              "      width: 32px;\n",
              "    }\n",
              "\n",
              "    .colab-df-convert:hover {\n",
              "      background-color: #E2EBFA;\n",
              "      box-shadow: 0px 1px 2px rgba(60, 64, 67, 0.3), 0px 1px 3px 1px rgba(60, 64, 67, 0.15);\n",
              "      fill: #174EA6;\n",
              "    }\n",
              "\n",
              "    [theme=dark] .colab-df-convert {\n",
              "      background-color: #3B4455;\n",
              "      fill: #D2E3FC;\n",
              "    }\n",
              "\n",
              "    [theme=dark] .colab-df-convert:hover {\n",
              "      background-color: #434B5C;\n",
              "      box-shadow: 0px 1px 3px 1px rgba(0, 0, 0, 0.15);\n",
              "      filter: drop-shadow(0px 1px 2px rgba(0, 0, 0, 0.3));\n",
              "      fill: #FFFFFF;\n",
              "    }\n",
              "  </style>\n",
              "\n",
              "      <script>\n",
              "        const buttonEl =\n",
              "          document.querySelector('#df-d2b74d16-b437-404e-9122-5e99b488d69e button.colab-df-convert');\n",
              "        buttonEl.style.display =\n",
              "          google.colab.kernel.accessAllowed ? 'block' : 'none';\n",
              "\n",
              "        async function convertToInteractive(key) {\n",
              "          const element = document.querySelector('#df-d2b74d16-b437-404e-9122-5e99b488d69e');\n",
              "          const dataTable =\n",
              "            await google.colab.kernel.invokeFunction('convertToInteractive',\n",
              "                                                     [key], {});\n",
              "          if (!dataTable) return;\n",
              "\n",
              "          const docLinkHtml = 'Like what you see? Visit the ' +\n",
              "            '<a target=\"_blank\" href=https://colab.research.google.com/notebooks/data_table.ipynb>data table notebook</a>'\n",
              "            + ' to learn more about interactive tables.';\n",
              "          element.innerHTML = '';\n",
              "          dataTable['output_type'] = 'display_data';\n",
              "          await google.colab.output.renderOutput(dataTable, element);\n",
              "          const docLink = document.createElement('div');\n",
              "          docLink.innerHTML = docLinkHtml;\n",
              "          element.appendChild(docLink);\n",
              "        }\n",
              "      </script>\n",
              "    </div>\n",
              "  </div>\n",
              "  "
            ]
          },
          "metadata": {},
          "execution_count": 35
        }
      ]
    },
    {
      "cell_type": "markdown",
      "source": [
        "# Normalisasi"
      ],
      "metadata": {
        "id": "HbGwAeK0tBZ0"
      }
    },
    {
      "cell_type": "code",
      "source": [
        "# X data\n",
        "X = df_dummy.drop('Churn', axis=1)\n",
        "\n",
        "# y data\n",
        "Y = df_dummy[\"Churn\"]"
      ],
      "metadata": {
        "id": "OVwKkx-EhYqf"
      },
      "execution_count": 36,
      "outputs": []
    },
    {
      "cell_type": "code",
      "source": [
        "mms = MinMaxScaler()\n",
        "mms_scaled = pd.DataFrame(\n",
        "                        mms.fit_transform(df_dummy), \n",
        "                        columns=df_dummy.columns).set_index(df_dummy.index)\n",
        "\n",
        "mms_scaled.head()"
      ],
      "metadata": {
        "colab": {
          "base_uri": "https://localhost:8080/",
          "height": 334
        },
        "id": "xrvhOcRx3pDU",
        "outputId": "fadf33d7-34ac-404c-aabe-5a8f84e23509"
      },
      "execution_count": 37,
      "outputs": [
        {
          "output_type": "execute_result",
          "data": {
            "text/plain": [
              "   gender  SeniorCitizen    tenure  MonthlyCharges  TotalCharges  Churn  \\\n",
              "0     1.0            0.0  0.013889        0.115423      0.001275    0.0   \n",
              "1     0.0            0.0  0.472222        0.385075      0.215867    0.0   \n",
              "2     0.0            0.0  0.027778        0.354229      0.010310    1.0   \n",
              "3     0.0            0.0  0.625000        0.239303      0.210241    0.0   \n",
              "4     1.0            0.0  0.027778        0.521891      0.015330    1.0   \n",
              "\n",
              "   Partner_Yes  Dependents_Yes  PhoneService_Yes  \\\n",
              "0          1.0             0.0               0.0   \n",
              "1          0.0             0.0               1.0   \n",
              "2          0.0             0.0               1.0   \n",
              "3          0.0             0.0               0.0   \n",
              "4          0.0             0.0               1.0   \n",
              "\n",
              "   MultipleLines_No phone service  ...  StreamingTV_No internet service  \\\n",
              "0                             1.0  ...                              0.0   \n",
              "1                             0.0  ...                              0.0   \n",
              "2                             0.0  ...                              0.0   \n",
              "3                             1.0  ...                              0.0   \n",
              "4                             0.0  ...                              0.0   \n",
              "\n",
              "   StreamingTV_Yes  StreamingMovies_No internet service  StreamingMovies_Yes  \\\n",
              "0              0.0                                  0.0                  0.0   \n",
              "1              0.0                                  0.0                  0.0   \n",
              "2              0.0                                  0.0                  0.0   \n",
              "3              0.0                                  0.0                  0.0   \n",
              "4              0.0                                  0.0                  0.0   \n",
              "\n",
              "   Contract_One year  Contract_Two year  PaperlessBilling_Yes  \\\n",
              "0                0.0                0.0                   1.0   \n",
              "1                1.0                0.0                   0.0   \n",
              "2                0.0                0.0                   1.0   \n",
              "3                1.0                0.0                   0.0   \n",
              "4                0.0                0.0                   1.0   \n",
              "\n",
              "   PaymentMethod_Credit card (automatic)  PaymentMethod_Electronic check  \\\n",
              "0                                    0.0                             1.0   \n",
              "1                                    0.0                             0.0   \n",
              "2                                    0.0                             0.0   \n",
              "3                                    0.0                             0.0   \n",
              "4                                    0.0                             1.0   \n",
              "\n",
              "   PaymentMethod_Mailed check  \n",
              "0                         0.0  \n",
              "1                         1.0  \n",
              "2                         1.0  \n",
              "3                         0.0  \n",
              "4                         0.0  \n",
              "\n",
              "[5 rows x 31 columns]"
            ],
            "text/html": [
              "\n",
              "  <div id=\"df-32704203-7f75-4bab-8fa0-904c0142d52a\">\n",
              "    <div class=\"colab-df-container\">\n",
              "      <div>\n",
              "<style scoped>\n",
              "    .dataframe tbody tr th:only-of-type {\n",
              "        vertical-align: middle;\n",
              "    }\n",
              "\n",
              "    .dataframe tbody tr th {\n",
              "        vertical-align: top;\n",
              "    }\n",
              "\n",
              "    .dataframe thead th {\n",
              "        text-align: right;\n",
              "    }\n",
              "</style>\n",
              "<table border=\"1\" class=\"dataframe\">\n",
              "  <thead>\n",
              "    <tr style=\"text-align: right;\">\n",
              "      <th></th>\n",
              "      <th>gender</th>\n",
              "      <th>SeniorCitizen</th>\n",
              "      <th>tenure</th>\n",
              "      <th>MonthlyCharges</th>\n",
              "      <th>TotalCharges</th>\n",
              "      <th>Churn</th>\n",
              "      <th>Partner_Yes</th>\n",
              "      <th>Dependents_Yes</th>\n",
              "      <th>PhoneService_Yes</th>\n",
              "      <th>MultipleLines_No phone service</th>\n",
              "      <th>...</th>\n",
              "      <th>StreamingTV_No internet service</th>\n",
              "      <th>StreamingTV_Yes</th>\n",
              "      <th>StreamingMovies_No internet service</th>\n",
              "      <th>StreamingMovies_Yes</th>\n",
              "      <th>Contract_One year</th>\n",
              "      <th>Contract_Two year</th>\n",
              "      <th>PaperlessBilling_Yes</th>\n",
              "      <th>PaymentMethod_Credit card (automatic)</th>\n",
              "      <th>PaymentMethod_Electronic check</th>\n",
              "      <th>PaymentMethod_Mailed check</th>\n",
              "    </tr>\n",
              "  </thead>\n",
              "  <tbody>\n",
              "    <tr>\n",
              "      <th>0</th>\n",
              "      <td>1.0</td>\n",
              "      <td>0.0</td>\n",
              "      <td>0.013889</td>\n",
              "      <td>0.115423</td>\n",
              "      <td>0.001275</td>\n",
              "      <td>0.0</td>\n",
              "      <td>1.0</td>\n",
              "      <td>0.0</td>\n",
              "      <td>0.0</td>\n",
              "      <td>1.0</td>\n",
              "      <td>...</td>\n",
              "      <td>0.0</td>\n",
              "      <td>0.0</td>\n",
              "      <td>0.0</td>\n",
              "      <td>0.0</td>\n",
              "      <td>0.0</td>\n",
              "      <td>0.0</td>\n",
              "      <td>1.0</td>\n",
              "      <td>0.0</td>\n",
              "      <td>1.0</td>\n",
              "      <td>0.0</td>\n",
              "    </tr>\n",
              "    <tr>\n",
              "      <th>1</th>\n",
              "      <td>0.0</td>\n",
              "      <td>0.0</td>\n",
              "      <td>0.472222</td>\n",
              "      <td>0.385075</td>\n",
              "      <td>0.215867</td>\n",
              "      <td>0.0</td>\n",
              "      <td>0.0</td>\n",
              "      <td>0.0</td>\n",
              "      <td>1.0</td>\n",
              "      <td>0.0</td>\n",
              "      <td>...</td>\n",
              "      <td>0.0</td>\n",
              "      <td>0.0</td>\n",
              "      <td>0.0</td>\n",
              "      <td>0.0</td>\n",
              "      <td>1.0</td>\n",
              "      <td>0.0</td>\n",
              "      <td>0.0</td>\n",
              "      <td>0.0</td>\n",
              "      <td>0.0</td>\n",
              "      <td>1.0</td>\n",
              "    </tr>\n",
              "    <tr>\n",
              "      <th>2</th>\n",
              "      <td>0.0</td>\n",
              "      <td>0.0</td>\n",
              "      <td>0.027778</td>\n",
              "      <td>0.354229</td>\n",
              "      <td>0.010310</td>\n",
              "      <td>1.0</td>\n",
              "      <td>0.0</td>\n",
              "      <td>0.0</td>\n",
              "      <td>1.0</td>\n",
              "      <td>0.0</td>\n",
              "      <td>...</td>\n",
              "      <td>0.0</td>\n",
              "      <td>0.0</td>\n",
              "      <td>0.0</td>\n",
              "      <td>0.0</td>\n",
              "      <td>0.0</td>\n",
              "      <td>0.0</td>\n",
              "      <td>1.0</td>\n",
              "      <td>0.0</td>\n",
              "      <td>0.0</td>\n",
              "      <td>1.0</td>\n",
              "    </tr>\n",
              "    <tr>\n",
              "      <th>3</th>\n",
              "      <td>0.0</td>\n",
              "      <td>0.0</td>\n",
              "      <td>0.625000</td>\n",
              "      <td>0.239303</td>\n",
              "      <td>0.210241</td>\n",
              "      <td>0.0</td>\n",
              "      <td>0.0</td>\n",
              "      <td>0.0</td>\n",
              "      <td>0.0</td>\n",
              "      <td>1.0</td>\n",
              "      <td>...</td>\n",
              "      <td>0.0</td>\n",
              "      <td>0.0</td>\n",
              "      <td>0.0</td>\n",
              "      <td>0.0</td>\n",
              "      <td>1.0</td>\n",
              "      <td>0.0</td>\n",
              "      <td>0.0</td>\n",
              "      <td>0.0</td>\n",
              "      <td>0.0</td>\n",
              "      <td>0.0</td>\n",
              "    </tr>\n",
              "    <tr>\n",
              "      <th>4</th>\n",
              "      <td>1.0</td>\n",
              "      <td>0.0</td>\n",
              "      <td>0.027778</td>\n",
              "      <td>0.521891</td>\n",
              "      <td>0.015330</td>\n",
              "      <td>1.0</td>\n",
              "      <td>0.0</td>\n",
              "      <td>0.0</td>\n",
              "      <td>1.0</td>\n",
              "      <td>0.0</td>\n",
              "      <td>...</td>\n",
              "      <td>0.0</td>\n",
              "      <td>0.0</td>\n",
              "      <td>0.0</td>\n",
              "      <td>0.0</td>\n",
              "      <td>0.0</td>\n",
              "      <td>0.0</td>\n",
              "      <td>1.0</td>\n",
              "      <td>0.0</td>\n",
              "      <td>1.0</td>\n",
              "      <td>0.0</td>\n",
              "    </tr>\n",
              "  </tbody>\n",
              "</table>\n",
              "<p>5 rows × 31 columns</p>\n",
              "</div>\n",
              "      <button class=\"colab-df-convert\" onclick=\"convertToInteractive('df-32704203-7f75-4bab-8fa0-904c0142d52a')\"\n",
              "              title=\"Convert this dataframe to an interactive table.\"\n",
              "              style=\"display:none;\">\n",
              "        \n",
              "  <svg xmlns=\"http://www.w3.org/2000/svg\" height=\"24px\"viewBox=\"0 0 24 24\"\n",
              "       width=\"24px\">\n",
              "    <path d=\"M0 0h24v24H0V0z\" fill=\"none\"/>\n",
              "    <path d=\"M18.56 5.44l.94 2.06.94-2.06 2.06-.94-2.06-.94-.94-2.06-.94 2.06-2.06.94zm-11 1L8.5 8.5l.94-2.06 2.06-.94-2.06-.94L8.5 2.5l-.94 2.06-2.06.94zm10 10l.94 2.06.94-2.06 2.06-.94-2.06-.94-.94-2.06-.94 2.06-2.06.94z\"/><path d=\"M17.41 7.96l-1.37-1.37c-.4-.4-.92-.59-1.43-.59-.52 0-1.04.2-1.43.59L10.3 9.45l-7.72 7.72c-.78.78-.78 2.05 0 2.83L4 21.41c.39.39.9.59 1.41.59.51 0 1.02-.2 1.41-.59l7.78-7.78 2.81-2.81c.8-.78.8-2.07 0-2.86zM5.41 20L4 18.59l7.72-7.72 1.47 1.35L5.41 20z\"/>\n",
              "  </svg>\n",
              "      </button>\n",
              "      \n",
              "  <style>\n",
              "    .colab-df-container {\n",
              "      display:flex;\n",
              "      flex-wrap:wrap;\n",
              "      gap: 12px;\n",
              "    }\n",
              "\n",
              "    .colab-df-convert {\n",
              "      background-color: #E8F0FE;\n",
              "      border: none;\n",
              "      border-radius: 50%;\n",
              "      cursor: pointer;\n",
              "      display: none;\n",
              "      fill: #1967D2;\n",
              "      height: 32px;\n",
              "      padding: 0 0 0 0;\n",
              "      width: 32px;\n",
              "    }\n",
              "\n",
              "    .colab-df-convert:hover {\n",
              "      background-color: #E2EBFA;\n",
              "      box-shadow: 0px 1px 2px rgba(60, 64, 67, 0.3), 0px 1px 3px 1px rgba(60, 64, 67, 0.15);\n",
              "      fill: #174EA6;\n",
              "    }\n",
              "\n",
              "    [theme=dark] .colab-df-convert {\n",
              "      background-color: #3B4455;\n",
              "      fill: #D2E3FC;\n",
              "    }\n",
              "\n",
              "    [theme=dark] .colab-df-convert:hover {\n",
              "      background-color: #434B5C;\n",
              "      box-shadow: 0px 1px 3px 1px rgba(0, 0, 0, 0.15);\n",
              "      filter: drop-shadow(0px 1px 2px rgba(0, 0, 0, 0.3));\n",
              "      fill: #FFFFFF;\n",
              "    }\n",
              "  </style>\n",
              "\n",
              "      <script>\n",
              "        const buttonEl =\n",
              "          document.querySelector('#df-32704203-7f75-4bab-8fa0-904c0142d52a button.colab-df-convert');\n",
              "        buttonEl.style.display =\n",
              "          google.colab.kernel.accessAllowed ? 'block' : 'none';\n",
              "\n",
              "        async function convertToInteractive(key) {\n",
              "          const element = document.querySelector('#df-32704203-7f75-4bab-8fa0-904c0142d52a');\n",
              "          const dataTable =\n",
              "            await google.colab.kernel.invokeFunction('convertToInteractive',\n",
              "                                                     [key], {});\n",
              "          if (!dataTable) return;\n",
              "\n",
              "          const docLinkHtml = 'Like what you see? Visit the ' +\n",
              "            '<a target=\"_blank\" href=https://colab.research.google.com/notebooks/data_table.ipynb>data table notebook</a>'\n",
              "            + ' to learn more about interactive tables.';\n",
              "          element.innerHTML = '';\n",
              "          dataTable['output_type'] = 'display_data';\n",
              "          await google.colab.output.renderOutput(dataTable, element);\n",
              "          const docLink = document.createElement('div');\n",
              "          docLink.innerHTML = docLinkHtml;\n",
              "          element.appendChild(docLink);\n",
              "        }\n",
              "      </script>\n",
              "    </div>\n",
              "  </div>\n",
              "  "
            ]
          },
          "metadata": {},
          "execution_count": 37
        }
      ]
    },
    {
      "cell_type": "markdown",
      "source": [
        "# Split Dataset"
      ],
      "metadata": {
        "id": "tshTLwWMsFo2"
      }
    },
    {
      "cell_type": "code",
      "source": [
        "X_train, X_test, Y_train, Y_test = train_test_split(mms_scaled, \n",
        "                                                    Y, \n",
        "                                                    test_size=0.2, \n",
        "                                                    random_state=42)"
      ],
      "metadata": {
        "id": "i5LRzNwisKcG"
      },
      "execution_count": 38,
      "outputs": []
    },
    {
      "cell_type": "code",
      "source": [
        "len(X_train), len(X_test)"
      ],
      "metadata": {
        "id": "UGp51mgdsZBG",
        "colab": {
          "base_uri": "https://localhost:8080/"
        },
        "outputId": "ad890d71-5f3d-48a4-8ab2-9ff2c5f2c2a9"
      },
      "execution_count": 39,
      "outputs": [
        {
          "output_type": "execute_result",
          "data": {
            "text/plain": [
              "(5616, 1405)"
            ]
          },
          "metadata": {},
          "execution_count": 39
        }
      ]
    },
    {
      "cell_type": "code",
      "source": [
        "print(Y_train.value_counts())\n",
        "print(Y_test.value_counts())"
      ],
      "metadata": {
        "colab": {
          "base_uri": "https://localhost:8080/"
        },
        "id": "oAsmsSDq97BQ",
        "outputId": "bc64b1ce-29f0-4a6e-c023-42b92dff607e"
      },
      "execution_count": 40,
      "outputs": [
        {
          "output_type": "stream",
          "name": "stdout",
          "text": [
            "0    4111\n",
            "1    1505\n",
            "Name: Churn, dtype: int64\n",
            "0    1053\n",
            "1     352\n",
            "Name: Churn, dtype: int64\n"
          ]
        }
      ]
    }
  ]
}