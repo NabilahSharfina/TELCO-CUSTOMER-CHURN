{
  "nbformat": 4,
  "nbformat_minor": 0,
  "metadata": {
    "colab": {
      "provenance": [],
      "collapsed_sections": [
        "0g0QhLEFV1OQ",
        "hMllNyv1k-Ol",
        "8V0eENVmVxqq",
        "LqvDfInWTUu4",
        "mL_-ClVAVX6Z",
        "vgcMgesYTPXc",
        "bhsn7L1OTZVd",
        "rjWNjKHO-i8g",
        "HbGwAeK0tBZ0",
        "vECQaGP7AEc3",
        "WTHlYxEIp90h",
        "KXpI6z23cJBr",
        "Qd0jfRYjXjrJ",
        "pJj8duMsqTEH",
        "1rPr_VZbqTEH",
        "VncYsORmqTEI",
        "zHa2G4ipMDtN",
        "kG7fVGmoruqS"
      ],
      "toc_visible": true,
      "mount_file_id": "1yr4J4ge_kP8AlA4sGwW455wRn9jYPcYx",
      "authorship_tag": "ABX9TyPT6GHoS7cdVgvy+zxB2WIt",
      "include_colab_link": true
    },
    "kernelspec": {
      "name": "python3",
      "display_name": "Python 3"
    },
    "language_info": {
      "name": "python"
    }
  },
  "cells": [
    {
      "cell_type": "markdown",
      "metadata": {
        "id": "view-in-github",
        "colab_type": "text"
      },
      "source": [
        "<a href=\"https://colab.research.google.com/github/NabilahSharfina/TELCO-CUSTOMER-CHURN/blob/main/Churn_with_SMOTE.ipynb\" target=\"_parent\"><img src=\"https://colab.research.google.com/assets/colab-badge.svg\" alt=\"Open In Colab\"/></a>"
      ]
    },
    {
      "cell_type": "markdown",
      "source": [
        "<a id=\"1\"></a>\n",
        "# A. Problem Statement\n",
        "\n",
        "<p>\n",
        "    <quote>\n",
        "    \n",
        "    Churn data for a fictional Telecommunications company that\n",
        "    provides phone and internet services to 7,043 customers in\n",
        "    California, and includes details about customer demographics,\n",
        "    location, services, and current status.\n",
        "\n",
        "    Recommended Analysis:\n",
        "    * How many customers joined the company during the last quarter?\n",
        "    * How many customers joined?\n",
        "    * What is the customer profile for a customer that churned, joined, and stayed? Are they different?\n",
        "    * What seem to be the key drivers of customer churn?\n",
        "    * Is the company losing high value customers? If so, how can they retain them?\n",
        "</p>\n",
        "<p>Background Source: <a href=\"https://www.mavenanalytics.io/data-playground\">Latar Belakang Telco Churn</a></p>\n",
        "<br/>\n",
        "<p><strong>There is a big competition between Internet providers. If a providers want to increase its revenue they needs more subscriber but keep existing customer is more important than having new ones. So providers want to know which customer should cancel his service. we call this as churn. if the know who will go, maybe they can catch them with promotions.</strong></p>\n",
        "<p>Dataset Source: <a href=\"https://www.mavenanalytics.io/data-playground\">Maven Analytics</a></p>"
      ],
      "metadata": {
        "id": "0g0QhLEFV1OQ"
      }
    },
    {
      "cell_type": "markdown",
      "metadata": {
        "id": "hMllNyv1k-Ol"
      },
      "source": [
        "# B. Connect Google Drive"
      ]
    },
    {
      "cell_type": "code",
      "execution_count": 1,
      "metadata": {
        "id": "oxgQKZQM5v2a",
        "colab": {
          "base_uri": "https://localhost:8080/"
        },
        "outputId": "dce0c513-dd60-41dd-dd0e-7d0df7fed360"
      },
      "outputs": [
        {
          "output_type": "stream",
          "name": "stdout",
          "text": [
            "Drive already mounted at /content/drive; to attempt to forcibly remount, call drive.mount(\"/content/drive\", force_remount=True).\n"
          ]
        }
      ],
      "source": [
        "# Load data from google drive\n",
        "from google.colab import drive\n",
        "drive.mount('/content/drive')"
      ]
    },
    {
      "cell_type": "markdown",
      "metadata": {
        "id": "xrQRQBkPk1sg"
      },
      "source": [
        "# C. Import Library"
      ]
    },
    {
      "cell_type": "code",
      "execution_count": 2,
      "metadata": {
        "id": "2OlweU5Q7MT8"
      },
      "outputs": [],
      "source": [
        "import math\n",
        "from collections import Counter\n",
        "from pprint import pprint\n",
        "\n",
        "import pandas as pd # for handling and cleaning the dataset\n",
        "import numpy as np # for performing mathematical calculations behind ML algorithms\n",
        "import matplotlib.pyplot as plt # for visualization\n",
        "import seaborn as sns # for visualization\n",
        "\n",
        "# One Hot Encoding: digunakan untuk bukan tipe data ordinal, misal nominal, interval, dan ratio\n",
        "from sklearn.preprocessing import OneHotEncoder\n",
        "# Ordinal Encoding: digunakan untuk tipe data ordinal\n",
        "from sklearn.preprocessing import OrdinalEncoder\n",
        "\n",
        "# Scalling Data\n",
        "from sklearn.preprocessing import MinMaxScaler\n",
        "from sklearn.preprocessing import StandardScaler\n",
        "\n",
        "# Handle imbalance dataset\n",
        "from imblearn.over_sampling import SMOTE\n",
        "\n",
        "# Splitting Data\n",
        "from sklearn.model_selection import train_test_split, cross_val_score, KFold\n",
        "\n",
        "# Modelling\n",
        "from sklearn.ensemble import RandomForestClassifier\n",
        "from sklearn.naive_bayes import GaussianNB\n",
        "\n",
        "# For feature importance\n",
        "from sklearn.datasets import make_classification\n",
        "\n",
        "import sklearn.metrics as metrics\n",
        "from sklearn.metrics import accuracy_score\n",
        "from sklearn.metrics import confusion_matrix\n",
        "from sklearn.metrics import classification_report"
      ]
    },
    {
      "cell_type": "markdown",
      "source": [
        "# 1. Data Preprocessing"
      ],
      "metadata": {
        "id": "8V0eENVmVxqq"
      }
    },
    {
      "cell_type": "markdown",
      "source": [
        "## 1.1 Data Loading"
      ],
      "metadata": {
        "id": "LqvDfInWTUu4"
      }
    },
    {
      "cell_type": "code",
      "source": [
        "df = pd.read_csv(\"/content/drive/MyDrive/ITTP/KULIAH/SEMESTER 7/TUGAS AKHIR 2/IBM Dataset/IBM-Telco-Customer-Churn.csv\")\n",
        "# df.drop('customerID', axis=1, inplace=True)\n",
        "df.head()"
      ],
      "metadata": {
        "colab": {
          "base_uri": "https://localhost:8080/",
          "height": 0
        },
        "id": "mBYNbUhQVus2",
        "outputId": "1328601e-1aa4-4bf3-a033-69cc96bc753b"
      },
      "execution_count": 3,
      "outputs": [
        {
          "output_type": "execute_result",
          "data": {
            "text/plain": [
              "   customerID  gender  SeniorCitizen Partner Dependents  tenure PhoneService  \\\n",
              "0  7590-VHVEG  Female              0     Yes         No       1           No   \n",
              "1  5575-GNVDE    Male              0      No         No      34          Yes   \n",
              "2  3668-QPYBK    Male              0      No         No       2          Yes   \n",
              "3  7795-CFOCW    Male              0      No         No      45           No   \n",
              "4  9237-HQITU  Female              0      No         No       2          Yes   \n",
              "\n",
              "      MultipleLines InternetService OnlineSecurity  ... DeviceProtection  \\\n",
              "0  No phone service             DSL             No  ...               No   \n",
              "1                No             DSL            Yes  ...              Yes   \n",
              "2                No             DSL            Yes  ...               No   \n",
              "3  No phone service             DSL            Yes  ...              Yes   \n",
              "4                No     Fiber optic             No  ...               No   \n",
              "\n",
              "  TechSupport StreamingTV StreamingMovies        Contract PaperlessBilling  \\\n",
              "0          No          No              No  Month-to-month              Yes   \n",
              "1          No          No              No        One year               No   \n",
              "2          No          No              No  Month-to-month              Yes   \n",
              "3         Yes          No              No        One year               No   \n",
              "4          No          No              No  Month-to-month              Yes   \n",
              "\n",
              "               PaymentMethod MonthlyCharges  TotalCharges Churn  \n",
              "0           Electronic check          29.85         29.85    No  \n",
              "1               Mailed check          56.95        1889.5    No  \n",
              "2               Mailed check          53.85        108.15   Yes  \n",
              "3  Bank transfer (automatic)          42.30       1840.75    No  \n",
              "4           Electronic check          70.70        151.65   Yes  \n",
              "\n",
              "[5 rows x 21 columns]"
            ],
            "text/html": [
              "\n",
              "  <div id=\"df-9505b683-7c65-47a9-8cf4-13b6d4b632a3\">\n",
              "    <div class=\"colab-df-container\">\n",
              "      <div>\n",
              "<style scoped>\n",
              "    .dataframe tbody tr th:only-of-type {\n",
              "        vertical-align: middle;\n",
              "    }\n",
              "\n",
              "    .dataframe tbody tr th {\n",
              "        vertical-align: top;\n",
              "    }\n",
              "\n",
              "    .dataframe thead th {\n",
              "        text-align: right;\n",
              "    }\n",
              "</style>\n",
              "<table border=\"1\" class=\"dataframe\">\n",
              "  <thead>\n",
              "    <tr style=\"text-align: right;\">\n",
              "      <th></th>\n",
              "      <th>customerID</th>\n",
              "      <th>gender</th>\n",
              "      <th>SeniorCitizen</th>\n",
              "      <th>Partner</th>\n",
              "      <th>Dependents</th>\n",
              "      <th>tenure</th>\n",
              "      <th>PhoneService</th>\n",
              "      <th>MultipleLines</th>\n",
              "      <th>InternetService</th>\n",
              "      <th>OnlineSecurity</th>\n",
              "      <th>...</th>\n",
              "      <th>DeviceProtection</th>\n",
              "      <th>TechSupport</th>\n",
              "      <th>StreamingTV</th>\n",
              "      <th>StreamingMovies</th>\n",
              "      <th>Contract</th>\n",
              "      <th>PaperlessBilling</th>\n",
              "      <th>PaymentMethod</th>\n",
              "      <th>MonthlyCharges</th>\n",
              "      <th>TotalCharges</th>\n",
              "      <th>Churn</th>\n",
              "    </tr>\n",
              "  </thead>\n",
              "  <tbody>\n",
              "    <tr>\n",
              "      <th>0</th>\n",
              "      <td>7590-VHVEG</td>\n",
              "      <td>Female</td>\n",
              "      <td>0</td>\n",
              "      <td>Yes</td>\n",
              "      <td>No</td>\n",
              "      <td>1</td>\n",
              "      <td>No</td>\n",
              "      <td>No phone service</td>\n",
              "      <td>DSL</td>\n",
              "      <td>No</td>\n",
              "      <td>...</td>\n",
              "      <td>No</td>\n",
              "      <td>No</td>\n",
              "      <td>No</td>\n",
              "      <td>No</td>\n",
              "      <td>Month-to-month</td>\n",
              "      <td>Yes</td>\n",
              "      <td>Electronic check</td>\n",
              "      <td>29.85</td>\n",
              "      <td>29.85</td>\n",
              "      <td>No</td>\n",
              "    </tr>\n",
              "    <tr>\n",
              "      <th>1</th>\n",
              "      <td>5575-GNVDE</td>\n",
              "      <td>Male</td>\n",
              "      <td>0</td>\n",
              "      <td>No</td>\n",
              "      <td>No</td>\n",
              "      <td>34</td>\n",
              "      <td>Yes</td>\n",
              "      <td>No</td>\n",
              "      <td>DSL</td>\n",
              "      <td>Yes</td>\n",
              "      <td>...</td>\n",
              "      <td>Yes</td>\n",
              "      <td>No</td>\n",
              "      <td>No</td>\n",
              "      <td>No</td>\n",
              "      <td>One year</td>\n",
              "      <td>No</td>\n",
              "      <td>Mailed check</td>\n",
              "      <td>56.95</td>\n",
              "      <td>1889.5</td>\n",
              "      <td>No</td>\n",
              "    </tr>\n",
              "    <tr>\n",
              "      <th>2</th>\n",
              "      <td>3668-QPYBK</td>\n",
              "      <td>Male</td>\n",
              "      <td>0</td>\n",
              "      <td>No</td>\n",
              "      <td>No</td>\n",
              "      <td>2</td>\n",
              "      <td>Yes</td>\n",
              "      <td>No</td>\n",
              "      <td>DSL</td>\n",
              "      <td>Yes</td>\n",
              "      <td>...</td>\n",
              "      <td>No</td>\n",
              "      <td>No</td>\n",
              "      <td>No</td>\n",
              "      <td>No</td>\n",
              "      <td>Month-to-month</td>\n",
              "      <td>Yes</td>\n",
              "      <td>Mailed check</td>\n",
              "      <td>53.85</td>\n",
              "      <td>108.15</td>\n",
              "      <td>Yes</td>\n",
              "    </tr>\n",
              "    <tr>\n",
              "      <th>3</th>\n",
              "      <td>7795-CFOCW</td>\n",
              "      <td>Male</td>\n",
              "      <td>0</td>\n",
              "      <td>No</td>\n",
              "      <td>No</td>\n",
              "      <td>45</td>\n",
              "      <td>No</td>\n",
              "      <td>No phone service</td>\n",
              "      <td>DSL</td>\n",
              "      <td>Yes</td>\n",
              "      <td>...</td>\n",
              "      <td>Yes</td>\n",
              "      <td>Yes</td>\n",
              "      <td>No</td>\n",
              "      <td>No</td>\n",
              "      <td>One year</td>\n",
              "      <td>No</td>\n",
              "      <td>Bank transfer (automatic)</td>\n",
              "      <td>42.30</td>\n",
              "      <td>1840.75</td>\n",
              "      <td>No</td>\n",
              "    </tr>\n",
              "    <tr>\n",
              "      <th>4</th>\n",
              "      <td>9237-HQITU</td>\n",
              "      <td>Female</td>\n",
              "      <td>0</td>\n",
              "      <td>No</td>\n",
              "      <td>No</td>\n",
              "      <td>2</td>\n",
              "      <td>Yes</td>\n",
              "      <td>No</td>\n",
              "      <td>Fiber optic</td>\n",
              "      <td>No</td>\n",
              "      <td>...</td>\n",
              "      <td>No</td>\n",
              "      <td>No</td>\n",
              "      <td>No</td>\n",
              "      <td>No</td>\n",
              "      <td>Month-to-month</td>\n",
              "      <td>Yes</td>\n",
              "      <td>Electronic check</td>\n",
              "      <td>70.70</td>\n",
              "      <td>151.65</td>\n",
              "      <td>Yes</td>\n",
              "    </tr>\n",
              "  </tbody>\n",
              "</table>\n",
              "<p>5 rows × 21 columns</p>\n",
              "</div>\n",
              "      <button class=\"colab-df-convert\" onclick=\"convertToInteractive('df-9505b683-7c65-47a9-8cf4-13b6d4b632a3')\"\n",
              "              title=\"Convert this dataframe to an interactive table.\"\n",
              "              style=\"display:none;\">\n",
              "        \n",
              "  <svg xmlns=\"http://www.w3.org/2000/svg\" height=\"24px\"viewBox=\"0 0 24 24\"\n",
              "       width=\"24px\">\n",
              "    <path d=\"M0 0h24v24H0V0z\" fill=\"none\"/>\n",
              "    <path d=\"M18.56 5.44l.94 2.06.94-2.06 2.06-.94-2.06-.94-.94-2.06-.94 2.06-2.06.94zm-11 1L8.5 8.5l.94-2.06 2.06-.94-2.06-.94L8.5 2.5l-.94 2.06-2.06.94zm10 10l.94 2.06.94-2.06 2.06-.94-2.06-.94-.94-2.06-.94 2.06-2.06.94z\"/><path d=\"M17.41 7.96l-1.37-1.37c-.4-.4-.92-.59-1.43-.59-.52 0-1.04.2-1.43.59L10.3 9.45l-7.72 7.72c-.78.78-.78 2.05 0 2.83L4 21.41c.39.39.9.59 1.41.59.51 0 1.02-.2 1.41-.59l7.78-7.78 2.81-2.81c.8-.78.8-2.07 0-2.86zM5.41 20L4 18.59l7.72-7.72 1.47 1.35L5.41 20z\"/>\n",
              "  </svg>\n",
              "      </button>\n",
              "      \n",
              "  <style>\n",
              "    .colab-df-container {\n",
              "      display:flex;\n",
              "      flex-wrap:wrap;\n",
              "      gap: 12px;\n",
              "    }\n",
              "\n",
              "    .colab-df-convert {\n",
              "      background-color: #E8F0FE;\n",
              "      border: none;\n",
              "      border-radius: 50%;\n",
              "      cursor: pointer;\n",
              "      display: none;\n",
              "      fill: #1967D2;\n",
              "      height: 32px;\n",
              "      padding: 0 0 0 0;\n",
              "      width: 32px;\n",
              "    }\n",
              "\n",
              "    .colab-df-convert:hover {\n",
              "      background-color: #E2EBFA;\n",
              "      box-shadow: 0px 1px 2px rgba(60, 64, 67, 0.3), 0px 1px 3px 1px rgba(60, 64, 67, 0.15);\n",
              "      fill: #174EA6;\n",
              "    }\n",
              "\n",
              "    [theme=dark] .colab-df-convert {\n",
              "      background-color: #3B4455;\n",
              "      fill: #D2E3FC;\n",
              "    }\n",
              "\n",
              "    [theme=dark] .colab-df-convert:hover {\n",
              "      background-color: #434B5C;\n",
              "      box-shadow: 0px 1px 3px 1px rgba(0, 0, 0, 0.15);\n",
              "      filter: drop-shadow(0px 1px 2px rgba(0, 0, 0, 0.3));\n",
              "      fill: #FFFFFF;\n",
              "    }\n",
              "  </style>\n",
              "\n",
              "      <script>\n",
              "        const buttonEl =\n",
              "          document.querySelector('#df-9505b683-7c65-47a9-8cf4-13b6d4b632a3 button.colab-df-convert');\n",
              "        buttonEl.style.display =\n",
              "          google.colab.kernel.accessAllowed ? 'block' : 'none';\n",
              "\n",
              "        async function convertToInteractive(key) {\n",
              "          const element = document.querySelector('#df-9505b683-7c65-47a9-8cf4-13b6d4b632a3');\n",
              "          const dataTable =\n",
              "            await google.colab.kernel.invokeFunction('convertToInteractive',\n",
              "                                                     [key], {});\n",
              "          if (!dataTable) return;\n",
              "\n",
              "          const docLinkHtml = 'Like what you see? Visit the ' +\n",
              "            '<a target=\"_blank\" href=https://colab.research.google.com/notebooks/data_table.ipynb>data table notebook</a>'\n",
              "            + ' to learn more about interactive tables.';\n",
              "          element.innerHTML = '';\n",
              "          dataTable['output_type'] = 'display_data';\n",
              "          await google.colab.output.renderOutput(dataTable, element);\n",
              "          const docLink = document.createElement('div');\n",
              "          docLink.innerHTML = docLinkHtml;\n",
              "          element.appendChild(docLink);\n",
              "        }\n",
              "      </script>\n",
              "    </div>\n",
              "  </div>\n",
              "  "
            ]
          },
          "metadata": {},
          "execution_count": 3
        }
      ]
    },
    {
      "cell_type": "markdown",
      "source": [
        "> In the context of customer churn, tenure refers to the length of time that a customer has been a subscriber or a customer of a company. It is typically measured in months.\n",
        "Tenure is an important feature to consider when analyzing customer churn as it can provide insights into how long customers have been engaged with the company and how loyal they are likely to be. Customers with longer tenure may be less likely to leave the company compared to newer customers."
      ],
      "metadata": {
        "id": "Y7m510CL6fQO"
      }
    },
    {
      "cell_type": "code",
      "source": [
        "df.info()"
      ],
      "metadata": {
        "colab": {
          "base_uri": "https://localhost:8080/"
        },
        "id": "PUZKhqFmVzoQ",
        "outputId": "bf514be0-aec7-43c6-cc8c-9166e9156a80"
      },
      "execution_count": 4,
      "outputs": [
        {
          "output_type": "stream",
          "name": "stdout",
          "text": [
            "<class 'pandas.core.frame.DataFrame'>\n",
            "RangeIndex: 7043 entries, 0 to 7042\n",
            "Data columns (total 21 columns):\n",
            " #   Column            Non-Null Count  Dtype  \n",
            "---  ------            --------------  -----  \n",
            " 0   customerID        7043 non-null   object \n",
            " 1   gender            7043 non-null   object \n",
            " 2   SeniorCitizen     7043 non-null   int64  \n",
            " 3   Partner           7043 non-null   object \n",
            " 4   Dependents        7043 non-null   object \n",
            " 5   tenure            7043 non-null   int64  \n",
            " 6   PhoneService      7043 non-null   object \n",
            " 7   MultipleLines     7043 non-null   object \n",
            " 8   InternetService   7043 non-null   object \n",
            " 9   OnlineSecurity    7043 non-null   object \n",
            " 10  OnlineBackup      7043 non-null   object \n",
            " 11  DeviceProtection  7043 non-null   object \n",
            " 12  TechSupport       7043 non-null   object \n",
            " 13  StreamingTV       7043 non-null   object \n",
            " 14  StreamingMovies   7043 non-null   object \n",
            " 15  Contract          7043 non-null   object \n",
            " 16  PaperlessBilling  7043 non-null   object \n",
            " 17  PaymentMethod     7043 non-null   object \n",
            " 18  MonthlyCharges    7043 non-null   float64\n",
            " 19  TotalCharges      7043 non-null   object \n",
            " 20  Churn             7043 non-null   object \n",
            "dtypes: float64(1), int64(2), object(18)\n",
            "memory usage: 1.1+ MB\n"
          ]
        }
      ]
    },
    {
      "cell_type": "code",
      "source": [
        "# This column had missing values represented by ' '\n",
        "# I noticed it when I tried converting it to float \n",
        "# and it gave me an error that it could not convert \"string to float\"\n",
        "df['TotalCharges'] = df['TotalCharges'].replace(' ', np.NaN)\n",
        "df['TotalCharges'] = df['TotalCharges'].astype(float)"
      ],
      "metadata": {
        "id": "2owYMUcY5SoS"
      },
      "execution_count": 5,
      "outputs": []
    },
    {
      "cell_type": "code",
      "source": [
        "df.dtypes.value_counts()"
      ],
      "metadata": {
        "colab": {
          "base_uri": "https://localhost:8080/"
        },
        "id": "kJBIXMb5IHHT",
        "outputId": "074e8bf6-96fa-4282-97d5-001421017e88"
      },
      "execution_count": 6,
      "outputs": [
        {
          "output_type": "execute_result",
          "data": {
            "text/plain": [
              "object     17\n",
              "int64       2\n",
              "float64     2\n",
              "dtype: int64"
            ]
          },
          "metadata": {},
          "execution_count": 6
        }
      ]
    },
    {
      "cell_type": "code",
      "source": [
        "# Melihat apakah ada missing value dari dataset\n",
        "df.isna().sum()"
      ],
      "metadata": {
        "colab": {
          "base_uri": "https://localhost:8080/"
        },
        "id": "v-F8aRC9mI8c",
        "outputId": "12d7e077-96ef-4d31-e3f6-0118c5b812cf"
      },
      "execution_count": 7,
      "outputs": [
        {
          "output_type": "execute_result",
          "data": {
            "text/plain": [
              "customerID           0\n",
              "gender               0\n",
              "SeniorCitizen        0\n",
              "Partner              0\n",
              "Dependents           0\n",
              "tenure               0\n",
              "PhoneService         0\n",
              "MultipleLines        0\n",
              "InternetService      0\n",
              "OnlineSecurity       0\n",
              "OnlineBackup         0\n",
              "DeviceProtection     0\n",
              "TechSupport          0\n",
              "StreamingTV          0\n",
              "StreamingMovies      0\n",
              "Contract             0\n",
              "PaperlessBilling     0\n",
              "PaymentMethod        0\n",
              "MonthlyCharges       0\n",
              "TotalCharges        11\n",
              "Churn                0\n",
              "dtype: int64"
            ]
          },
          "metadata": {},
          "execution_count": 7
        }
      ]
    },
    {
      "cell_type": "code",
      "source": [
        "# Mengisi missing value dengan nilai median\n",
        "df['TotalCharges'] = df['TotalCharges'].fillna(df['TotalCharges'].median())\n",
        "\n",
        "# Melihat apakah ada missing value dari dataset\n",
        "df.isna().sum()"
      ],
      "metadata": {
        "colab": {
          "base_uri": "https://localhost:8080/"
        },
        "id": "WF8liraS669N",
        "outputId": "ed9d4e0b-cc40-46ee-b1da-21114aabb86b"
      },
      "execution_count": 8,
      "outputs": [
        {
          "output_type": "execute_result",
          "data": {
            "text/plain": [
              "customerID          0\n",
              "gender              0\n",
              "SeniorCitizen       0\n",
              "Partner             0\n",
              "Dependents          0\n",
              "tenure              0\n",
              "PhoneService        0\n",
              "MultipleLines       0\n",
              "InternetService     0\n",
              "OnlineSecurity      0\n",
              "OnlineBackup        0\n",
              "DeviceProtection    0\n",
              "TechSupport         0\n",
              "StreamingTV         0\n",
              "StreamingMovies     0\n",
              "Contract            0\n",
              "PaperlessBilling    0\n",
              "PaymentMethod       0\n",
              "MonthlyCharges      0\n",
              "TotalCharges        0\n",
              "Churn               0\n",
              "dtype: int64"
            ]
          },
          "metadata": {},
          "execution_count": 8
        }
      ]
    },
    {
      "cell_type": "code",
      "source": [
        "# Mengecek baris yang duplikat\n",
        "df.duplicated()"
      ],
      "metadata": {
        "colab": {
          "base_uri": "https://localhost:8080/"
        },
        "id": "SVWcYYBEmj9C",
        "outputId": "51761898-45fc-40f9-838d-519f3504275c"
      },
      "execution_count": 9,
      "outputs": [
        {
          "output_type": "execute_result",
          "data": {
            "text/plain": [
              "0       False\n",
              "1       False\n",
              "2       False\n",
              "3       False\n",
              "4       False\n",
              "        ...  \n",
              "7038    False\n",
              "7039    False\n",
              "7040    False\n",
              "7041    False\n",
              "7042    False\n",
              "Length: 7043, dtype: bool"
            ]
          },
          "metadata": {},
          "execution_count": 9
        }
      ]
    },
    {
      "cell_type": "markdown",
      "source": [
        "## 1.2 Data Exploration"
      ],
      "metadata": {
        "id": "mL_-ClVAVX6Z"
      }
    },
    {
      "cell_type": "code",
      "source": [
        "# df['gender'] = df['gender'].map({'Male': 0, 'Female': 1})\n",
        "# df['Churn'] = df['Churn'].map({'No': 0, 'Yes': 1})\n",
        "\n",
        "# df.head()"
      ],
      "metadata": {
        "id": "zNbPAQiDYeei"
      },
      "execution_count": 10,
      "outputs": []
    },
    {
      "cell_type": "code",
      "source": [
        "df.Churn.value_counts()\n",
        "# 0 = No\n",
        "# 1 = Yes"
      ],
      "metadata": {
        "colab": {
          "base_uri": "https://localhost:8080/"
        },
        "id": "kcCwA9SxHCtG",
        "outputId": "98e8684e-b069-4ab4-eeb5-a55897e014bc"
      },
      "execution_count": 11,
      "outputs": [
        {
          "output_type": "execute_result",
          "data": {
            "text/plain": [
              "No     5174\n",
              "Yes    1869\n",
              "Name: Churn, dtype: int64"
            ]
          },
          "metadata": {},
          "execution_count": 11
        }
      ]
    },
    {
      "cell_type": "code",
      "source": [
        "print ('Total Customer Loyal\\t: {}'.format(df.Churn.value_counts()['No']))\n",
        "print ('Total Customer Churn\\t: {}'.format(df.Churn.value_counts()['Yes']))"
      ],
      "metadata": {
        "colab": {
          "base_uri": "https://localhost:8080/"
        },
        "id": "SjvI4PGWe6Na",
        "outputId": "4c2da916-0685-4d75-8fe6-a90c27df78ba"
      },
      "execution_count": 12,
      "outputs": [
        {
          "output_type": "stream",
          "name": "stdout",
          "text": [
            "Total Customer Loyal\t: 5174\n",
            "Total Customer Churn\t: 1869\n"
          ]
        }
      ]
    },
    {
      "cell_type": "code",
      "source": [
        "fig, ax = plt.subplots(figsize=(6, 6))\n",
        "plt.pie(x=df[\"Churn\"].value_counts(),\n",
        "        colors=[\"seagreen\", \"firebrick\"], \n",
        "        labels=[\"Customer Loyal\", \"Customer Churn\"], \n",
        "        shadow = True, \n",
        "        autopct=\"%1.2f%%\",\n",
        "        explode=(0, 0.1)\n",
        "        )\n",
        "\n",
        "plt.show()"
      ],
      "metadata": {
        "colab": {
          "base_uri": "https://localhost:8080/",
          "height": 0
        },
        "id": "U8FvcPCoe6SM",
        "outputId": "45027052-4cbf-4b90-a864-ff0231e13c09"
      },
      "execution_count": 13,
      "outputs": [
        {
          "output_type": "display_data",
          "data": {
            "text/plain": [
              "<Figure size 432x432 with 1 Axes>"
            ],
            "image/png": "[encoded data removed]"
          },
          "metadata": {}
        }
      ]
    },
    {
      "cell_type": "code",
      "source": [
        "df.gender.value_counts()\n",
        "# 0 = Laki-laki\n",
        "# 1 = Perempuan"
      ],
      "metadata": {
        "colab": {
          "base_uri": "https://localhost:8080/"
        },
        "id": "08pDEdLNgX4h",
        "outputId": "8b9faf1c-d3c0-499c-fbc0-3705e9a5e8ca"
      },
      "execution_count": 14,
      "outputs": [
        {
          "output_type": "execute_result",
          "data": {
            "text/plain": [
              "Male      3555\n",
              "Female    3488\n",
              "Name: gender, dtype: int64"
            ]
          },
          "metadata": {},
          "execution_count": 14
        }
      ]
    },
    {
      "cell_type": "code",
      "source": [
        "print ('Total Laki-laki\\t: {}'.format(df.gender.value_counts()['Male']))\n",
        "print ('Total Perempuan\\t: {}'.format(df.gender.value_counts()['Female']))"
      ],
      "metadata": {
        "colab": {
          "base_uri": "https://localhost:8080/"
        },
        "id": "0YgefJnhQ3KD",
        "outputId": "eb0ecc98-95ff-4750-a722-18c99c446d04"
      },
      "execution_count": 15,
      "outputs": [
        {
          "output_type": "stream",
          "name": "stdout",
          "text": [
            "Total Laki-laki\t: 3555\n",
            "Total Perempuan\t: 3488\n"
          ]
        }
      ]
    },
    {
      "cell_type": "code",
      "source": [
        "fig, ax = plt.subplots(figsize=(6, 6))\n",
        "plt.pie(x=df[\"gender\"].value_counts(), \n",
        "        colors=[\"blue\", \"hotpink\"], \n",
        "        labels=[\"Male\", \"Female\"], \n",
        "        shadow = True, \n",
        "        autopct=\"%1.2f%%\", \n",
        "        explode=(0, 0.1)\n",
        "        )\n",
        "\n",
        "plt.show()"
      ],
      "metadata": {
        "colab": {
          "base_uri": "https://localhost:8080/",
          "height": 0
        },
        "id": "VXccrBY_gX7v",
        "outputId": "3b32388a-0f3d-4f02-e823-075a3577a6ed"
      },
      "execution_count": 16,
      "outputs": [
        {
          "output_type": "display_data",
          "data": {
            "text/plain": [
              "<Figure size 432x432 with 1 Axes>"
            ],
            "image/png": "[encoded data removed]"
          },
          "metadata": {}
        }
      ]
    },
    {
      "cell_type": "code",
      "source": [
        "# Grouping\n",
        "group = df.groupby('gender').Churn.value_counts()\n",
        "gender_status = pd.crosstab(df.gender, df.Churn)\n",
        "\n",
        "print(group)\n",
        "gender_status"
      ],
      "metadata": {
        "colab": {
          "base_uri": "https://localhost:8080/",
          "height": 0
        },
        "id": "zzRbI4MOCKs5",
        "outputId": "b00bbf50-c971-4387-b45d-bb13697c9a48"
      },
      "execution_count": 17,
      "outputs": [
        {
          "output_type": "stream",
          "name": "stdout",
          "text": [
            "gender  Churn\n",
            "Female  No       2549\n",
            "        Yes       939\n",
            "Male    No       2625\n",
            "        Yes       930\n",
            "Name: Churn, dtype: int64\n"
          ]
        },
        {
          "output_type": "execute_result",
          "data": {
            "text/plain": [
              "Churn     No  Yes\n",
              "gender           \n",
              "Female  2549  939\n",
              "Male    2625  930"
            ],
            "text/html": [
              "\n",
              "  <div id=\"df-6fe24476-04fe-4563-8795-c47dd73f9672\">\n",
              "    <div class=\"colab-df-container\">\n",
              "      <div>\n",
              "<style scoped>\n",
              "    .dataframe tbody tr th:only-of-type {\n",
              "        vertical-align: middle;\n",
              "    }\n",
              "\n",
              "    .dataframe tbody tr th {\n",
              "        vertical-align: top;\n",
              "    }\n",
              "\n",
              "    .dataframe thead th {\n",
              "        text-align: right;\n",
              "    }\n",
              "</style>\n",
              "<table border=\"1\" class=\"dataframe\">\n",
              "  <thead>\n",
              "    <tr style=\"text-align: right;\">\n",
              "      <th>Churn</th>\n",
              "      <th>No</th>\n",
              "      <th>Yes</th>\n",
              "    </tr>\n",
              "    <tr>\n",
              "      <th>gender</th>\n",
              "      <th></th>\n",
              "      <th></th>\n",
              "    </tr>\n",
              "  </thead>\n",
              "  <tbody>\n",
              "    <tr>\n",
              "      <th>Female</th>\n",
              "      <td>2549</td>\n",
              "      <td>939</td>\n",
              "    </tr>\n",
              "    <tr>\n",
              "      <th>Male</th>\n",
              "      <td>2625</td>\n",
              "      <td>930</td>\n",
              "    </tr>\n",
              "  </tbody>\n",
              "</table>\n",
              "</div>\n",
              "      <button class=\"colab-df-convert\" onclick=\"convertToInteractive('df-6fe24476-04fe-4563-8795-c47dd73f9672')\"\n",
              "              title=\"Convert this dataframe to an interactive table.\"\n",
              "              style=\"display:none;\">\n",
              "        \n",
              "  <svg xmlns=\"http://www.w3.org/2000/svg\" height=\"24px\"viewBox=\"0 0 24 24\"\n",
              "       width=\"24px\">\n",
              "    <path d=\"M0 0h24v24H0V0z\" fill=\"none\"/>\n",
              "    <path d=\"M18.56 5.44l.94 2.06.94-2.06 2.06-.94-2.06-.94-.94-2.06-.94 2.06-2.06.94zm-11 1L8.5 8.5l.94-2.06 2.06-.94-2.06-.94L8.5 2.5l-.94 2.06-2.06.94zm10 10l.94 2.06.94-2.06 2.06-.94-2.06-.94-.94-2.06-.94 2.06-2.06.94z\"/><path d=\"M17.41 7.96l-1.37-1.37c-.4-.4-.92-.59-1.43-.59-.52 0-1.04.2-1.43.59L10.3 9.45l-7.72 7.72c-.78.78-.78 2.05 0 2.83L4 21.41c.39.39.9.59 1.41.59.51 0 1.02-.2 1.41-.59l7.78-7.78 2.81-2.81c.8-.78.8-2.07 0-2.86zM5.41 20L4 18.59l7.72-7.72 1.47 1.35L5.41 20z\"/>\n",
              "  </svg>\n",
              "      </button>\n",
              "      \n",
              "  <style>\n",
              "    .colab-df-container {\n",
              "      display:flex;\n",
              "      flex-wrap:wrap;\n",
              "      gap: 12px;\n",
              "    }\n",
              "\n",
              "    .colab-df-convert {\n",
              "      background-color: #E8F0FE;\n",
              "      border: none;\n",
              "      border-radius: 50%;\n",
              "      cursor: pointer;\n",
              "      display: none;\n",
              "      fill: #1967D2;\n",
              "      height: 32px;\n",
              "      padding: 0 0 0 0;\n",
              "      width: 32px;\n",
              "    }\n",
              "\n",
              "    .colab-df-convert:hover {\n",
              "      background-color: #E2EBFA;\n",
              "      box-shadow: 0px 1px 2px rgba(60, 64, 67, 0.3), 0px 1px 3px 1px rgba(60, 64, 67, 0.15);\n",
              "      fill: #174EA6;\n",
              "    }\n",
              "\n",
              "    [theme=dark] .colab-df-convert {\n",
              "      background-color: #3B4455;\n",
              "      fill: #D2E3FC;\n",
              "    }\n",
              "\n",
              "    [theme=dark] .colab-df-convert:hover {\n",
              "      background-color: #434B5C;\n",
              "      box-shadow: 0px 1px 3px 1px rgba(0, 0, 0, 0.15);\n",
              "      filter: drop-shadow(0px 1px 2px rgba(0, 0, 0, 0.3));\n",
              "      fill: #FFFFFF;\n",
              "    }\n",
              "  </style>\n",
              "\n",
              "      <script>\n",
              "        const buttonEl =\n",
              "          document.querySelector('#df-6fe24476-04fe-4563-8795-c47dd73f9672 button.colab-df-convert');\n",
              "        buttonEl.style.display =\n",
              "          google.colab.kernel.accessAllowed ? 'block' : 'none';\n",
              "\n",
              "        async function convertToInteractive(key) {\n",
              "          const element = document.querySelector('#df-6fe24476-04fe-4563-8795-c47dd73f9672');\n",
              "          const dataTable =\n",
              "            await google.colab.kernel.invokeFunction('convertToInteractive',\n",
              "                                                     [key], {});\n",
              "          if (!dataTable) return;\n",
              "\n",
              "          const docLinkHtml = 'Like what you see? Visit the ' +\n",
              "            '<a target=\"_blank\" href=https://colab.research.google.com/notebooks/data_table.ipynb>data table notebook</a>'\n",
              "            + ' to learn more about interactive tables.';\n",
              "          element.innerHTML = '';\n",
              "          dataTable['output_type'] = 'display_data';\n",
              "          await google.colab.output.renderOutput(dataTable, element);\n",
              "          const docLink = document.createElement('div');\n",
              "          docLink.innerHTML = docLinkHtml;\n",
              "          element.appendChild(docLink);\n",
              "        }\n",
              "      </script>\n",
              "    </div>\n",
              "  </div>\n",
              "  "
            ]
          },
          "metadata": {},
          "execution_count": 17
        }
      ]
    },
    {
      "cell_type": "markdown",
      "source": [
        "## 1.3 Feature Category"
      ],
      "metadata": {
        "id": "vgcMgesYTPXc"
      }
    },
    {
      "cell_type": "code",
      "source": [
        "# Mengetahui kolom apa saja yang termasuk fitur (variabel) numerik/kategoris\n",
        "numerical_features = df.select_dtypes(include=\"number\").columns.tolist()\n",
        "categorical_features = df.select_dtypes(include=\"object\").columns.tolist()\n",
        "\n",
        "print(\"Numerical features:\")\n",
        "pprint(numerical_features)\n",
        "print(\"\\nCategorical features:\")\n",
        "pprint(categorical_features, compact=True)"
      ],
      "metadata": {
        "colab": {
          "base_uri": "https://localhost:8080/"
        },
        "id": "mVRTSp64fNU2",
        "outputId": "7d062ae2-df85-4af5-f1f7-985444cf8596"
      },
      "execution_count": 18,
      "outputs": [
        {
          "output_type": "stream",
          "name": "stdout",
          "text": [
            "Numerical features:\n",
            "['SeniorCitizen', 'tenure', 'MonthlyCharges', 'TotalCharges']\n",
            "\n",
            "Categorical features:\n",
            "['customerID', 'gender', 'Partner', 'Dependents', 'PhoneService',\n",
            " 'MultipleLines', 'InternetService', 'OnlineSecurity', 'OnlineBackup',\n",
            " 'DeviceProtection', 'TechSupport', 'StreamingTV', 'StreamingMovies',\n",
            " 'Contract', 'PaperlessBilling', 'PaymentMethod', 'Churn']\n"
          ]
        }
      ]
    },
    {
      "cell_type": "code",
      "source": [
        "columns = df.columns\n",
        "print(\"********** Numeric field **********n\")\n",
        "for i in range(len(columns)):\n",
        "    if df[columns[i]].dtypes!=object:\n",
        "        print(\"Unique of {} -> {}\".format(columns[i], len(df[columns[i]].unique())))\n",
        "        \n",
        "print(\"\\n********** Categorical field **********n\")\n",
        "for i in range(len(columns)):\n",
        "    if df[columns[i]].dtypes==object:\n",
        "        print(\"Unique of {} -> {}\".format(columns[i], len(df[columns[i]].unique())))"
      ],
      "metadata": {
        "colab": {
          "base_uri": "https://localhost:8080/"
        },
        "id": "g8Cx22lJgRWD",
        "outputId": "a0792abf-d1f0-437f-c9cd-306f42f19a99"
      },
      "execution_count": 19,
      "outputs": [
        {
          "output_type": "stream",
          "name": "stdout",
          "text": [
            "********** Numeric field **********n\n",
            "Unique of SeniorCitizen -> 2\n",
            "Unique of tenure -> 73\n",
            "Unique of MonthlyCharges -> 1585\n",
            "Unique of TotalCharges -> 6531\n",
            "\n",
            "********** Categorical field **********n\n",
            "Unique of customerID -> 7043\n",
            "Unique of gender -> 2\n",
            "Unique of Partner -> 2\n",
            "Unique of Dependents -> 2\n",
            "Unique of PhoneService -> 2\n",
            "Unique of MultipleLines -> 3\n",
            "Unique of InternetService -> 3\n",
            "Unique of OnlineSecurity -> 3\n",
            "Unique of OnlineBackup -> 3\n",
            "Unique of DeviceProtection -> 3\n",
            "Unique of TechSupport -> 3\n",
            "Unique of StreamingTV -> 3\n",
            "Unique of StreamingMovies -> 3\n",
            "Unique of Contract -> 3\n",
            "Unique of PaperlessBilling -> 2\n",
            "Unique of PaymentMethod -> 4\n",
            "Unique of Churn -> 2\n"
          ]
        }
      ]
    },
    {
      "cell_type": "code",
      "source": [
        "for i in range(len(categorical_features)):\n",
        "    print(\"********** {} **********\".format(categorical_features[i]))\n",
        "    print(df[categorical_features[i]].unique(), \"\\n\")"
      ],
      "metadata": {
        "colab": {
          "base_uri": "https://localhost:8080/"
        },
        "id": "_Oq-5VD_hpU_",
        "outputId": "e8965f96-ca68-49f0-d54b-01a627d1f8de"
      },
      "execution_count": 20,
      "outputs": [
        {
          "output_type": "stream",
          "name": "stdout",
          "text": [
            "********** customerID **********\n",
            "['7590-VHVEG' '5575-GNVDE' '3668-QPYBK' ... '4801-JZAZL' '8361-LTMKD'\n",
            " '3186-AJIEK'] \n",
            "\n",
            "********** gender **********\n",
            "['Female' 'Male'] \n",
            "\n",
            "********** Partner **********\n",
            "['Yes' 'No'] \n",
            "\n",
            "********** Dependents **********\n",
            "['No' 'Yes'] \n",
            "\n",
            "********** PhoneService **********\n",
            "['No' 'Yes'] \n",
            "\n",
            "********** MultipleLines **********\n",
            "['No phone service' 'No' 'Yes'] \n",
            "\n",
            "********** InternetService **********\n",
            "['DSL' 'Fiber optic' 'No'] \n",
            "\n",
            "********** OnlineSecurity **********\n",
            "['No' 'Yes' 'No internet service'] \n",
            "\n",
            "********** OnlineBackup **********\n",
            "['Yes' 'No' 'No internet service'] \n",
            "\n",
            "********** DeviceProtection **********\n",
            "['No' 'Yes' 'No internet service'] \n",
            "\n",
            "********** TechSupport **********\n",
            "['No' 'Yes' 'No internet service'] \n",
            "\n",
            "********** StreamingTV **********\n",
            "['No' 'Yes' 'No internet service'] \n",
            "\n",
            "********** StreamingMovies **********\n",
            "['No' 'Yes' 'No internet service'] \n",
            "\n",
            "********** Contract **********\n",
            "['Month-to-month' 'One year' 'Two year'] \n",
            "\n",
            "********** PaperlessBilling **********\n",
            "['Yes' 'No'] \n",
            "\n",
            "********** PaymentMethod **********\n",
            "['Electronic check' 'Mailed check' 'Bank transfer (automatic)'\n",
            " 'Credit card (automatic)'] \n",
            "\n",
            "********** Churn **********\n",
            "['No' 'Yes'] \n",
            "\n"
          ]
        }
      ]
    },
    {
      "cell_type": "code",
      "source": [
        "for i in range(len(numerical_features)):\n",
        "    print(\"********** {} **********\".format(numerical_features[i]))\n",
        "    print(df[numerical_features[i]].unique(), \"\\n\")"
      ],
      "metadata": {
        "colab": {
          "base_uri": "https://localhost:8080/"
        },
        "id": "r8bhdpkyiSID",
        "outputId": "a5cdfec4-fc36-4a4a-b2af-e9c2e4210f1e"
      },
      "execution_count": 21,
      "outputs": [
        {
          "output_type": "stream",
          "name": "stdout",
          "text": [
            "********** SeniorCitizen **********\n",
            "[0 1] \n",
            "\n",
            "********** tenure **********\n",
            "[ 1 34  2 45  8 22 10 28 62 13 16 58 49 25 69 52 71 21 12 30 47 72 17 27\n",
            "  5 46 11 70 63 43 15 60 18 66  9  3 31 50 64 56  7 42 35 48 29 65 38 68\n",
            " 32 55 37 36 41  6  4 33 67 23 57 61 14 20 53 40 59 24 44 19 54 51 26  0\n",
            " 39] \n",
            "\n",
            "********** MonthlyCharges **********\n",
            "[29.85 56.95 53.85 ... 63.1  44.2  78.7 ] \n",
            "\n",
            "********** TotalCharges **********\n",
            "[  29.85 1889.5   108.15 ...  346.45  306.6  6844.5 ] \n",
            "\n"
          ]
        }
      ]
    },
    {
      "cell_type": "markdown",
      "source": [
        "## 1.4 Correlation Data"
      ],
      "metadata": {
        "id": "bhsn7L1OTZVd"
      }
    },
    {
      "cell_type": "code",
      "source": [
        "# Having a look at the correlation matrix\n",
        "fig, ax = plt.subplots(figsize=(10, 8))\n",
        "heatmap = sns.heatmap(df.corr(), annot=True, fmt='.1g', cmap=plt.cm.Blues, cbar=False, linewidths=0.5, linecolor='grey')\n",
        "heatmap.set_title('Correlation Heatmap', fontdict={'fontsize':20}, pad=12);"
      ],
      "metadata": {
        "colab": {
          "base_uri": "https://localhost:8080/",
          "height": 0
        },
        "id": "nQ2juPU1dXiu",
        "outputId": "8385ef6d-3575-4dba-ed23-adc14fdb1b93"
      },
      "execution_count": 22,
      "outputs": [
        {
          "output_type": "display_data",
          "data": {
            "text/plain": [
              "<Figure size 720x576 with 1 Axes>"
            ],
            "image/png": "[encoded data removed]"
          },
          "metadata": {
            "needs_background": "light"
          }
        }
      ]
    },
    {
      "cell_type": "code",
      "source": [
        "plt.figure(figsize=(12, 8))\n",
        "heatmap = sns.heatmap(df.corr(), annot = True)\n",
        "heatmap.set_title('Correlation Heatmap', fontdict={'fontsize':20}, pad=12);"
      ],
      "metadata": {
        "colab": {
          "base_uri": "https://localhost:8080/",
          "height": 0
        },
        "id": "Yzex993Mf1La",
        "outputId": "ed407d78-0354-4912-830f-aba7719ffe04"
      },
      "execution_count": 23,
      "outputs": [
        {
          "output_type": "display_data",
          "data": {
            "text/plain": [
              "<Figure size 864x576 with 2 Axes>"
            ],
            "image/png": "[encoded data removed]"
          },
          "metadata": {
            "needs_background": "light"
          }
        }
      ]
    },
    {
      "cell_type": "code",
      "execution_count": 24,
      "metadata": {
        "execution": {
          "iopub.execute_input": "2022-08-28T11:18:53.930563Z",
          "iopub.status.busy": "2022-08-28T11:18:53.929914Z",
          "iopub.status.idle": "2022-08-28T11:18:55.049485Z",
          "shell.execute_reply": "2022-08-28T11:18:55.048360Z"
        },
        "papermill": {
          "duration": 1.140239,
          "end_time": "2022-08-28T11:18:55.051393",
          "exception": false,
          "start_time": "2022-08-28T11:18:53.911154",
          "status": "completed"
        },
        "tags": [],
        "id": "7d96e261"
      },
      "outputs": [],
      "source": [
        "# fig, ax = plt.subplots(3, 3, figsize = (20, 15))\n",
        "\n",
        "# plt.suptitle('Count plot for various categorical features', fontsize = 30, color= 'teal')\n",
        "\n",
        "# ax1 = sns.countplot(x ='PhoneService', data= data, hue= 'Churn', ax= ax[0, 0], palette= 'spring')\n",
        "# ax1.set(xlabel = 'Phone Service')\n",
        "\n",
        "# ax2 = sns.countplot(x ='MultipleLines', data= data, hue= 'Churn', ax= ax[0, 1], palette= 'winter')\n",
        "# ax2.set(xlabel = 'MultipleLines')\n",
        "\n",
        "# ax3 = sns.countplot(x ='InternetService', data= data, hue= 'Churn', ax= ax[0, 2], palette= 'summer')\n",
        "# ax3.set(xlabel = 'Internet Service')\n",
        "\n",
        "# ax4 = sns.countplot(x ='OnlineSecurity', data= data, hue= 'Churn', ax= ax[1, 0], palette= 'ocean')\n",
        "# ax4.set(xlabel = 'Online Security')\n",
        "\n",
        "# ax5 = sns.countplot(x ='OnlineBackup', data= data, hue= 'Churn', ax= ax[1, 1], palette= 'autumn')\n",
        "# ax5.set(xlabel = 'Online Backup')\n",
        "\n",
        "# ax6 = sns.countplot(x ='DeviceProtection', data= data, hue= 'Churn', ax= ax[1, 2], palette= 'YlGnBu')\n",
        "# ax6.set(xlabel = 'Device Protection')\n",
        "\n",
        "# ax7 = sns.countplot(x ='TechSupport', data= data, hue= 'Churn', ax= ax[2, 0], palette= 'copper')\n",
        "# ax7.set(xlabel = 'Tech support')\n",
        "\n",
        "# ax8 = sns.countplot(x ='StreamingTV', data= data, hue= 'Churn', ax= ax[2, 1], palette= 'plasma')\n",
        "# ax8.set(xlabel = 'Streaming TV')\n",
        "\n",
        "# ax9 = sns.countplot(x ='StreamingMovies', data= data, hue= 'Churn', ax= ax[2, 2], palette= 'bone')\n",
        "# ax9.set(xlabel = 'Streaming Movies')\n",
        "\n",
        "# plt.tight_layout()\n",
        "# plt.show()"
      ]
    },
    {
      "cell_type": "code",
      "source": [
        "fig, ax=plt.subplots(2, 2, figsize=(20, 15)) \n",
        "plt.style.use(\"classic\")\n",
        "\n",
        "sns.histplot(x=df[\"SeniorCitizen\"], hue=df[\"Churn\"], palette=\"dark\", kde=True, ax=ax[0,0]);\n",
        "ax[0,0].set_xlabel(\"SeniorCitizen\", fontsize=15)\n",
        "\n",
        "sns.histplot(x=df[\"tenure\"], hue=df[\"Churn\"], palette=\"viridis\", kde=True, ax=ax[0,1]);\n",
        "ax[0,1].set_xlabel(\"tenure\", fontsize=15)\n",
        "\n",
        "sns.histplot(x=df[\"MonthlyCharges\"], hue=df[\"Churn\"], palette=\"dark\", kde=True, ax=ax[1,0]);\n",
        "ax[1,0].set_xlabel(\"MonthlyCharges\", fontsize=15)\n",
        "\n",
        "sns.histplot(x=df[\"TotalCharges\"], hue=df[\"Churn\"], palette=\"viridis\", kde=True, ax=ax[1,1]);\n",
        "ax[1,1].set_xlabel(\"TotalCharges\", fontsize=15)"
      ],
      "metadata": {
        "colab": {
          "base_uri": "https://localhost:8080/",
          "height": 0
        },
        "id": "zDzL9VNOQiAS",
        "outputId": "5d744afa-a85b-4424-8cfc-0bc6da97f196"
      },
      "execution_count": 25,
      "outputs": [
        {
          "output_type": "execute_result",
          "data": {
            "text/plain": [
              "Text(0.5, 0, 'TotalCharges')"
            ]
          },
          "metadata": {},
          "execution_count": 25
        },
        {
          "output_type": "display_data",
          "data": {
            "text/plain": [
              "<Figure size 1440x1080 with 4 Axes>"
            ],
            "image/png": "[encoded data removed]"
          },
          "metadata": {
            "needs_background": "light"
          }
        }
      ]
    },
    {
      "cell_type": "markdown",
      "source": [
        "## 1.5 Handling Outlier"
      ],
      "metadata": {
        "id": "rjWNjKHO-i8g"
      }
    },
    {
      "cell_type": "code",
      "source": [
        "# Numerical Features\n",
        "plt.figure(figsize=(16, 8), facecolor='white')\n",
        "plotnumber = 1\n",
        "    \n",
        "for feature in numerical_features:\n",
        "    ax = plt.subplot(4, 4, plotnumber)\n",
        "    sns.boxplot(x=feature, data=df);\n",
        "    plt.title(feature, fontsize=12)\n",
        "    plt.xlabel(None)\n",
        "    plt.tight_layout()\n",
        "    plotnumber += 1"
      ],
      "metadata": {
        "colab": {
          "base_uri": "https://localhost:8080/",
          "height": 0
        },
        "id": "B7BqNNGfRhgM",
        "outputId": "b9dfef10-81d9-428b-8590-52f024551408"
      },
      "execution_count": 26,
      "outputs": [
        {
          "output_type": "display_data",
          "data": {
            "text/plain": [
              "<Figure size 1280x640 with 4 Axes>"
            ],
            "image/png": "[encoded data removed]"
          },
          "metadata": {}
        }
      ]
    },
    {
      "cell_type": "markdown",
      "source": [
        "> Ada beberapa cara untuk menghilangkan outliers.\n",
        "* Mengganti nilai outliers menggunakan nilai lower bound dan upper bound.\n",
        "* Capping menggunakan nilai median\n",
        "* Capping menggunakan nilai mean\n",
        "* Capping menggunakan nilai modus\n",
        "\n",
        "> **Referensi:** [handling outlier](https://blog.sanbercode.com/docs/materi-eda/data-type-missing-value-outlier/)"
      ],
      "metadata": {
        "id": "RJOA9h7sgX3G"
      }
    },
    {
      "cell_type": "code",
      "source": [
        "# Membuat function IQR Detection\n",
        "def outlier(data):\n",
        "    q1 = data.quantile(0.25)\n",
        "    q3 = data.quantile(0.75)\n",
        "    iqr = q3 - q1\n",
        "    limit = iqr * 1.5\n",
        "    print(f'IQR: {iqr}')\n",
        "    upperlimit = q3 + limit\n",
        "    lowerlimit = q1 - limit\n",
        "    print(f'Upper Limit: {upperlimit}')\n",
        "    print(f'Lower Limit: {lowerlimit}')\n",
        "\n",
        "# Buang Outlier\n",
        "outlier_feature = [\n",
        "                   'tenure',\n",
        "                   'MonthlyCharges',\n",
        "                   'TotalCharges'\n",
        "                    ]\n",
        "\n",
        "for i in outlier_feature:\n",
        "    print(i)\n",
        "    outlier(df[i])\n",
        "    print()\n",
        "\n",
        "df = df[\n",
        "        (df['tenure'] < 124.0) & \n",
        "        (df['MonthlyCharges'] < 171.375) &\n",
        "        (df['TotalCharges'] < 8887.525)\n",
        "        ]"
      ],
      "metadata": {
        "colab": {
          "base_uri": "https://localhost:8080/"
        },
        "id": "KEDfYGTVRr5Y",
        "outputId": "78192d57-b58a-4553-e48c-e70e683d2897"
      },
      "execution_count": 27,
      "outputs": [
        {
          "output_type": "stream",
          "name": "stdout",
          "text": [
            "tenure\n",
            "IQR: 46.0\n",
            "Upper Limit: 124.0\n",
            "Lower Limit: -60.0\n",
            "\n",
            "MonthlyCharges\n",
            "IQR: 54.349999999999994\n",
            "Upper Limit: 171.375\n",
            "Lower Limit: -46.02499999999999\n",
            "\n",
            "TotalCharges\n",
            "IQR: 3384.375\n",
            "Upper Limit: 8863.1625\n",
            "Lower Limit: -4674.3375\n",
            "\n"
          ]
        }
      ]
    },
    {
      "cell_type": "code",
      "source": [
        "# Clean dataframe from outlier\n",
        "df = df.drop_duplicates()\n",
        "df.info()"
      ],
      "metadata": {
        "id": "2xigv_paTdp9",
        "colab": {
          "base_uri": "https://localhost:8080/"
        },
        "outputId": "a6017e71-e606-428d-abdd-fee4bb05e775"
      },
      "execution_count": 28,
      "outputs": [
        {
          "output_type": "stream",
          "name": "stdout",
          "text": [
            "<class 'pandas.core.frame.DataFrame'>\n",
            "Int64Index: 7043 entries, 0 to 7042\n",
            "Data columns (total 21 columns):\n",
            " #   Column            Non-Null Count  Dtype  \n",
            "---  ------            --------------  -----  \n",
            " 0   customerID        7043 non-null   object \n",
            " 1   gender            7043 non-null   object \n",
            " 2   SeniorCitizen     7043 non-null   int64  \n",
            " 3   Partner           7043 non-null   object \n",
            " 4   Dependents        7043 non-null   object \n",
            " 5   tenure            7043 non-null   int64  \n",
            " 6   PhoneService      7043 non-null   object \n",
            " 7   MultipleLines     7043 non-null   object \n",
            " 8   InternetService   7043 non-null   object \n",
            " 9   OnlineSecurity    7043 non-null   object \n",
            " 10  OnlineBackup      7043 non-null   object \n",
            " 11  DeviceProtection  7043 non-null   object \n",
            " 12  TechSupport       7043 non-null   object \n",
            " 13  StreamingTV       7043 non-null   object \n",
            " 14  StreamingMovies   7043 non-null   object \n",
            " 15  Contract          7043 non-null   object \n",
            " 16  PaperlessBilling  7043 non-null   object \n",
            " 17  PaymentMethod     7043 non-null   object \n",
            " 18  MonthlyCharges    7043 non-null   float64\n",
            " 19  TotalCharges      7043 non-null   float64\n",
            " 20  Churn             7043 non-null   object \n",
            "dtypes: float64(2), int64(2), object(17)\n",
            "memory usage: 1.2+ MB\n"
          ]
        }
      ]
    },
    {
      "cell_type": "markdown",
      "source": [
        "# 4. Split Data"
      ],
      "metadata": {
        "id": "HbGwAeK0tBZ0"
      }
    },
    {
      "cell_type": "code",
      "source": [
        "# Define variable X (Independent variable / features)\n",
        "X = df.drop('Churn', axis=1)\n",
        "\n",
        "# Define variable y (Dependent variable / Target features)\n",
        "Y = df[\"Churn\"]"
      ],
      "metadata": {
        "id": "OVwKkx-EhYqf"
      },
      "execution_count": 29,
      "outputs": []
    },
    {
      "cell_type": "code",
      "source": [
        "X_train, X_test, Y_train, Y_test = train_test_split(X, Y, test_size=0.2, random_state=42)"
      ],
      "metadata": {
        "id": "i5LRzNwisKcG"
      },
      "execution_count": 30,
      "outputs": []
    },
    {
      "cell_type": "markdown",
      "source": [
        "* X_train: Untuk menampung data source yang akan dilatih.\n",
        "* X_test: Untuk menampung data target yang akan dilatih.\n",
        "* Y_train: Untuk menampung data source yang akan digunakan untuk testing.\n",
        "* Y_test: Untuk menampung data target yang akan digunakan untuk testing."
      ],
      "metadata": {
        "id": "660P_ZhA7oZg"
      }
    },
    {
      "cell_type": "code",
      "source": [
        "len(X_train), len(X_test)"
      ],
      "metadata": {
        "id": "UGp51mgdsZBG",
        "colab": {
          "base_uri": "https://localhost:8080/"
        },
        "outputId": "c969edc3-105e-4717-e484-45aee3362448"
      },
      "execution_count": 31,
      "outputs": [
        {
          "output_type": "execute_result",
          "data": {
            "text/plain": [
              "(5634, 1409)"
            ]
          },
          "metadata": {},
          "execution_count": 31
        }
      ]
    },
    {
      "cell_type": "code",
      "source": [
        "print(\"Data Train:\")\n",
        "pprint(Y_train.value_counts())\n",
        "\n",
        "print(\"\\nData Test:\")\n",
        "pprint(Y_test.value_counts())"
      ],
      "metadata": {
        "colab": {
          "base_uri": "https://localhost:8080/"
        },
        "id": "oAsmsSDq97BQ",
        "outputId": "6fec9569-3451-4caf-9d6a-62ef9c03e349"
      },
      "execution_count": 32,
      "outputs": [
        {
          "output_type": "stream",
          "name": "stdout",
          "text": [
            "Data Train:\n",
            "No     4138\n",
            "Yes    1496\n",
            "Name: Churn, dtype: int64\n",
            "\n",
            "Data Test:\n",
            "No     1036\n",
            "Yes     373\n",
            "Name: Churn, dtype: int64\n"
          ]
        }
      ]
    },
    {
      "cell_type": "code",
      "source": [
        "fig, axis = plt.subplots(1, 2, figsize=(14, 6))\n",
        "for idx, label in enumerate([\n",
        "    (Y_train, \"Data Train\"), (Y_test, \"Data Test\")\n",
        "]):\n",
        "    sns.countplot(x=label[0], ax=axis[idx])\n",
        "    axis[idx].set_title(label[1])\n",
        "    axis[idx].grid(False)\n",
        "plt.show()"
      ],
      "metadata": {
        "colab": {
          "base_uri": "https://localhost:8080/",
          "height": 0
        },
        "id": "V_t3BPqrd2tr",
        "outputId": "ee317a8c-f7fc-4546-a606-2cf23277694b"
      },
      "execution_count": 33,
      "outputs": [
        {
          "output_type": "display_data",
          "data": {
            "text/plain": [
              "<Figure size 1120x480 with 2 Axes>"
            ],
            "image/png": "[encoded data removed]"
          },
          "metadata": {}
        }
      ]
    },
    {
      "cell_type": "markdown",
      "source": [
        "# 2. Categorical Encoding"
      ],
      "metadata": {
        "id": "vECQaGP7AEc3"
      }
    },
    {
      "cell_type": "markdown",
      "source": [
        "> **Note:** Jenis-Jenis Tipe Data\n",
        "![Data Types.png](data:image/png;base64,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)"
      ],
      "metadata": {
        "id": "O-OTATefXibJ"
      }
    },
    {
      "cell_type": "markdown",
      "source": [
        "1. Data Nominal: Data nominal adalah data yang dapat diklasifikasikan ke dalam kategori atau label tanpa urutan tertentu. Contoh: jenis kelamin (Pria/Wanita), warna (Merah/Biru/Hijau), dll.\n",
        "2. Data Ordinal: Data ordinal adalah data yang dapat diklasifikasikan ke dalam kategori atau label dengan urutan tertentu. Contoh: tingkat pendidikan (SD/SMP/SMA/Perguruan Tinggi), tingkat kesukaan (Sangat Tidak Suka/Tidak Suka/Netral/Suka/Sangat Suka), dll.\n",
        "3. Data Interval: Data interval adalah data yang dapat diukur dalam skala yang tidak terbatas namun tidak memiliki nilai nol absolut. Contoh: suhu dalam derajat Fahrenheit, skala IQ, dll.\n",
        "4. Data Rasio: Data rasio adalah data yang dapat diukur dalam skala yang tidak terbatas dan memiliki nilai nol absolut. Contoh: berat badan, tinggi badan, dll.\n",
        "\n",
        "> **NOTE:**\n",
        "> Perbedaan utama antara tipe data tersebut terletak pada cara data diukur dan diinterpretasikan. Data nominal hanya dapat di klasifikasikan, data ordinal memiliki urutan, data interval tidak memiliki nilai nol absolut, sementara data rasio memiliki nilai nol absolut sehingga dapat diukur perbandingannya.\n",
        "\n",
        "1. Data kontinu: Data kontinu adalah data yang dapat diukur dalam skala yang tidak terbatas, seperti suhu, berat, tinggi, dll. Data ini dapat dinyatakan dalam bentuk angka decimal. Contoh : suhu tubuh, berat badan, tinggi badan, dll.\n",
        "2. Data diskrit: Data diskrit adalah data yang dapat dihitung dan dinyatakan dalam bentuk angka bulat. Data diskrit dapat diklasifikasikan ke dalam kategori atau label. Contoh : jumlah anak, jenis kelamin, jenis pekerjaan, dll.\n",
        "3. Data binari: Data binari adalah data yang hanya dapat memiliki dua nilai, yaitu 0 atau 1. Data ini sering digunakan dalam klasifikasi biner (binary classification), dimana setiap sampel diklasifikasikan sebagai kategori positif atau negatif. Contoh : status menikah (Menikah/Belum Menikah), status memiliki kartu kredit (ya/tidak), dll.\n",
        "\n",
        "> **NOTE:**\n",
        "> Perbedaan utama antara data kontinu, diskrit dan binari terletak pada cara data diukur dan diinterpretasikan. Data kontinu diukur dalam skala yang tidak terbatas, data diskrit diukur dalam skala yang terbatas dan dapat dihitung, sementara data binari hanya memiliki dua nilai yang mungkin."
      ],
      "metadata": {
        "id": "uei7j3yZXlwo"
      }
    },
    {
      "cell_type": "markdown",
      "source": [
        "* Dilihat dari isi value masing-masing fitur, maka encoding akan terbagi menjadi 2 yaitu: \n",
        "> 1. ***Label Encoding*** untuk fitur kategorik tipe data ordinal seperti `Contract`, `MultipleLines`, dll.\n",
        "> 2. ***One Hot Encoding*** untuk fitur kategorik tipe data nominal, interval, dan rasio seperti `InternetService` dan `PaymentMethod`."
      ],
      "metadata": {
        "id": "NxrbEp6702AI"
      }
    },
    {
      "cell_type": "code",
      "source": [
        "print(\"Jumlah X Train\", X_train.shape)\n",
        "print(\"Jumlah X Test\", X_test.shape)"
      ],
      "metadata": {
        "colab": {
          "base_uri": "https://localhost:8080/"
        },
        "id": "EKagoKIAmcwC",
        "outputId": "e9cecc3f-cc42-4733-8cfe-22a3064726ef"
      },
      "execution_count": 34,
      "outputs": [
        {
          "output_type": "stream",
          "name": "stdout",
          "text": [
            "Jumlah X Train (5634, 20)\n",
            "Jumlah X Test (1409, 20)\n"
          ]
        }
      ]
    },
    {
      "cell_type": "code",
      "source": [
        "# Untuk Uji One Hot Encoding\n",
        "nominal_data = ['gender', 'InternetService', 'PaymentMethod']\n",
        "ordinal_data = X.select_dtypes(include=\"object\").drop(columns=nominal_data).columns.tolist()\n",
        "\n",
        "# Untuk Uji Label Encoding\n",
        "print(\"Nominal Data:\")\n",
        "pprint(nominal_data)\n",
        "print(\"\\nOrdinal Data:\")\n",
        "pprint(ordinal_data, compact=True)"
      ],
      "metadata": {
        "colab": {
          "base_uri": "https://localhost:8080/"
        },
        "id": "Jt5FU74bgkGI",
        "outputId": "e7cf80a9-0d5d-4630-beda-d1a8aab394c2"
      },
      "execution_count": 35,
      "outputs": [
        {
          "output_type": "stream",
          "name": "stdout",
          "text": [
            "Nominal Data:\n",
            "['gender', 'InternetService', 'PaymentMethod']\n",
            "\n",
            "Ordinal Data:\n",
            "['customerID', 'Partner', 'Dependents', 'PhoneService', 'MultipleLines',\n",
            " 'OnlineSecurity', 'OnlineBackup', 'DeviceProtection', 'TechSupport',\n",
            " 'StreamingTV', 'StreamingMovies', 'Contract', 'PaperlessBilling']\n"
          ]
        }
      ]
    },
    {
      "cell_type": "markdown",
      "source": [
        "## a. Data Train"
      ],
      "metadata": {
        "id": "WTHlYxEIp90h"
      }
    },
    {
      "cell_type": "markdown",
      "source": [
        "### 3.1 One Hot Encoding"
      ],
      "metadata": {
        "id": "KXpI6z23cJBr"
      }
    },
    {
      "cell_type": "code",
      "source": [
        "# Encoding pada nominal features\n",
        "onehot = OneHotEncoder()\n",
        "onehot.fit(X_train[nominal_data])\n",
        "\n",
        "ohe_train = pd.DataFrame(\n",
        "                        onehot.transform(X_train[nominal_data]).toarray(),\n",
        "                        columns=onehot.get_feature_names_out()\n",
        "                        )\n",
        "\n",
        "print(\"One Hot matrix:\")\n",
        "ohe_train.head() # Menampilkan dataFrame hasil one hot encoding"
      ],
      "metadata": {
        "colab": {
          "base_uri": "https://localhost:8080/",
          "height": 0
        },
        "id": "4GReu5DRcMzA",
        "outputId": "6add435a-17c2-4e4b-c195-af5bb445b783"
      },
      "execution_count": 36,
      "outputs": [
        {
          "output_type": "stream",
          "name": "stdout",
          "text": [
            "One Hot matrix:\n"
          ]
        },
        {
          "output_type": "execute_result",
          "data": {
            "text/plain": [
              "   gender_Female  gender_Male  InternetService_DSL  \\\n",
              "0            1.0          0.0                  1.0   \n",
              "1            1.0          0.0                  0.0   \n",
              "2            0.0          1.0                  1.0   \n",
              "3            0.0          1.0                  0.0   \n",
              "4            0.0          1.0                  1.0   \n",
              "\n",
              "   InternetService_Fiber optic  InternetService_No  \\\n",
              "0                          0.0                 0.0   \n",
              "1                          1.0                 0.0   \n",
              "2                          0.0                 0.0   \n",
              "3                          1.0                 0.0   \n",
              "4                          0.0                 0.0   \n",
              "\n",
              "   PaymentMethod_Bank transfer (automatic)  \\\n",
              "0                                      0.0   \n",
              "1                                      1.0   \n",
              "2                                      0.0   \n",
              "3                                      0.0   \n",
              "4                                      1.0   \n",
              "\n",
              "   PaymentMethod_Credit card (automatic)  PaymentMethod_Electronic check  \\\n",
              "0                                    0.0                             0.0   \n",
              "1                                    0.0                             0.0   \n",
              "2                                    0.0                             1.0   \n",
              "3                                    0.0                             1.0   \n",
              "4                                    0.0                             0.0   \n",
              "\n",
              "   PaymentMethod_Mailed check  \n",
              "0                         1.0  \n",
              "1                         0.0  \n",
              "2                         0.0  \n",
              "3                         0.0  \n",
              "4                         0.0  "
            ],
            "text/html": [
              "\n",
              "  <div id=\"df-fd44347b-0d3c-4688-b93a-16146a4dad90\">\n",
              "    <div class=\"colab-df-container\">\n",
              "      <div>\n",
              "<style scoped>\n",
              "    .dataframe tbody tr th:only-of-type {\n",
              "        vertical-align: middle;\n",
              "    }\n",
              "\n",
              "    .dataframe tbody tr th {\n",
              "        vertical-align: top;\n",
              "    }\n",
              "\n",
              "    .dataframe thead th {\n",
              "        text-align: right;\n",
              "    }\n",
              "</style>\n",
              "<table border=\"1\" class=\"dataframe\">\n",
              "  <thead>\n",
              "    <tr style=\"text-align: right;\">\n",
              "      <th></th>\n",
              "      <th>gender_Female</th>\n",
              "      <th>gender_Male</th>\n",
              "      <th>InternetService_DSL</th>\n",
              "      <th>InternetService_Fiber optic</th>\n",
              "      <th>InternetService_No</th>\n",
              "      <th>PaymentMethod_Bank transfer (automatic)</th>\n",
              "      <th>PaymentMethod_Credit card (automatic)</th>\n",
              "      <th>PaymentMethod_Electronic check</th>\n",
              "      <th>PaymentMethod_Mailed check</th>\n",
              "    </tr>\n",
              "  </thead>\n",
              "  <tbody>\n",
              "    <tr>\n",
              "      <th>0</th>\n",
              "      <td>1.0</td>\n",
              "      <td>0.0</td>\n",
              "      <td>1.0</td>\n",
              "      <td>0.0</td>\n",
              "      <td>0.0</td>\n",
              "      <td>0.0</td>\n",
              "      <td>0.0</td>\n",
              "      <td>0.0</td>\n",
              "      <td>1.0</td>\n",
              "    </tr>\n",
              "    <tr>\n",
              "      <th>1</th>\n",
              "      <td>1.0</td>\n",
              "      <td>0.0</td>\n",
              "      <td>0.0</td>\n",
              "      <td>1.0</td>\n",
              "      <td>0.0</td>\n",
              "      <td>1.0</td>\n",
              "      <td>0.0</td>\n",
              "      <td>0.0</td>\n",
              "      <td>0.0</td>\n",
              "    </tr>\n",
              "    <tr>\n",
              "      <th>2</th>\n",
              "      <td>0.0</td>\n",
              "      <td>1.0</td>\n",
              "      <td>1.0</td>\n",
              "      <td>0.0</td>\n",
              "      <td>0.0</td>\n",
              "      <td>0.0</td>\n",
              "      <td>0.0</td>\n",
              "      <td>1.0</td>\n",
              "      <td>0.0</td>\n",
              "    </tr>\n",
              "    <tr>\n",
              "      <th>3</th>\n",
              "      <td>0.0</td>\n",
              "      <td>1.0</td>\n",
              "      <td>0.0</td>\n",
              "      <td>1.0</td>\n",
              "      <td>0.0</td>\n",
              "      <td>0.0</td>\n",
              "      <td>0.0</td>\n",
              "      <td>1.0</td>\n",
              "      <td>0.0</td>\n",
              "    </tr>\n",
              "    <tr>\n",
              "      <th>4</th>\n",
              "      <td>0.0</td>\n",
              "      <td>1.0</td>\n",
              "      <td>1.0</td>\n",
              "      <td>0.0</td>\n",
              "      <td>0.0</td>\n",
              "      <td>1.0</td>\n",
              "      <td>0.0</td>\n",
              "      <td>0.0</td>\n",
              "      <td>0.0</td>\n",
              "    </tr>\n",
              "  </tbody>\n",
              "</table>\n",
              "</div>\n",
              "      <button class=\"colab-df-convert\" onclick=\"convertToInteractive('df-fd44347b-0d3c-4688-b93a-16146a4dad90')\"\n",
              "              title=\"Convert this dataframe to an interactive table.\"\n",
              "              style=\"display:none;\">\n",
              "        \n",
              "  <svg xmlns=\"http://www.w3.org/2000/svg\" height=\"24px\"viewBox=\"0 0 24 24\"\n",
              "       width=\"24px\">\n",
              "    <path d=\"M0 0h24v24H0V0z\" fill=\"none\"/>\n",
              "    <path d=\"M18.56 5.44l.94 2.06.94-2.06 2.06-.94-2.06-.94-.94-2.06-.94 2.06-2.06.94zm-11 1L8.5 8.5l.94-2.06 2.06-.94-2.06-.94L8.5 2.5l-.94 2.06-2.06.94zm10 10l.94 2.06.94-2.06 2.06-.94-2.06-.94-.94-2.06-.94 2.06-2.06.94z\"/><path d=\"M17.41 7.96l-1.37-1.37c-.4-.4-.92-.59-1.43-.59-.52 0-1.04.2-1.43.59L10.3 9.45l-7.72 7.72c-.78.78-.78 2.05 0 2.83L4 21.41c.39.39.9.59 1.41.59.51 0 1.02-.2 1.41-.59l7.78-7.78 2.81-2.81c.8-.78.8-2.07 0-2.86zM5.41 20L4 18.59l7.72-7.72 1.47 1.35L5.41 20z\"/>\n",
              "  </svg>\n",
              "      </button>\n",
              "      \n",
              "  <style>\n",
              "    .colab-df-container {\n",
              "      display:flex;\n",
              "      flex-wrap:wrap;\n",
              "      gap: 12px;\n",
              "    }\n",
              "\n",
              "    .colab-df-convert {\n",
              "      background-color: #E8F0FE;\n",
              "      border: none;\n",
              "      border-radius: 50%;\n",
              "      cursor: pointer;\n",
              "      display: none;\n",
              "      fill: #1967D2;\n",
              "      height: 32px;\n",
              "      padding: 0 0 0 0;\n",
              "      width: 32px;\n",
              "    }\n",
              "\n",
              "    .colab-df-convert:hover {\n",
              "      background-color: #E2EBFA;\n",
              "      box-shadow: 0px 1px 2px rgba(60, 64, 67, 0.3), 0px 1px 3px 1px rgba(60, 64, 67, 0.15);\n",
              "      fill: #174EA6;\n",
              "    }\n",
              "\n",
              "    [theme=dark] .colab-df-convert {\n",
              "      background-color: #3B4455;\n",
              "      fill: #D2E3FC;\n",
              "    }\n",
              "\n",
              "    [theme=dark] .colab-df-convert:hover {\n",
              "      background-color: #434B5C;\n",
              "      box-shadow: 0px 1px 3px 1px rgba(0, 0, 0, 0.15);\n",
              "      filter: drop-shadow(0px 1px 2px rgba(0, 0, 0, 0.3));\n",
              "      fill: #FFFFFF;\n",
              "    }\n",
              "  </style>\n",
              "\n",
              "      <script>\n",
              "        const buttonEl =\n",
              "          document.querySelector('#df-fd44347b-0d3c-4688-b93a-16146a4dad90 button.colab-df-convert');\n",
              "        buttonEl.style.display =\n",
              "          google.colab.kernel.accessAllowed ? 'block' : 'none';\n",
              "\n",
              "        async function convertToInteractive(key) {\n",
              "          const element = document.querySelector('#df-fd44347b-0d3c-4688-b93a-16146a4dad90');\n",
              "          const dataTable =\n",
              "            await google.colab.kernel.invokeFunction('convertToInteractive',\n",
              "                                                     [key], {});\n",
              "          if (!dataTable) return;\n",
              "\n",
              "          const docLinkHtml = 'Like what you see? Visit the ' +\n",
              "            '<a target=\"_blank\" href=https://colab.research.google.com/notebooks/data_table.ipynb>data table notebook</a>'\n",
              "            + ' to learn more about interactive tables.';\n",
              "          element.innerHTML = '';\n",
              "          dataTable['output_type'] = 'display_data';\n",
              "          await google.colab.output.renderOutput(dataTable, element);\n",
              "          const docLink = document.createElement('div');\n",
              "          docLink.innerHTML = docLinkHtml;\n",
              "          element.appendChild(docLink);\n",
              "        }\n",
              "      </script>\n",
              "    </div>\n",
              "  </div>\n",
              "  "
            ]
          },
          "metadata": {},
          "execution_count": 36
        }
      ]
    },
    {
      "cell_type": "markdown",
      "source": [
        "### 3.2 Ordinal Encoding"
      ],
      "metadata": {
        "id": "Qd0jfRYjXjrJ"
      }
    },
    {
      "cell_type": "code",
      "source": [
        "# Encoding pada ordinal features\n",
        "ordinal = OrdinalEncoder()\n",
        "ordinal.fit(X_train[ordinal_data])\n",
        "\n",
        "oe_train = pd.DataFrame(\n",
        "                        ordinal.transform(X_train[ordinal_data]),\n",
        "                        columns=ordinal.feature_names_in_\n",
        "                       )\n",
        "\n",
        "print(\"Ordinal matrix:\")\n",
        "oe_train.head() # Menampilkan DataFrame hasil ordinal encoding"
      ],
      "metadata": {
        "colab": {
          "base_uri": "https://localhost:8080/",
          "height": 0
        },
        "id": "BqE7SHWzXl9C",
        "outputId": "d82e0e91-789f-4e79-81a8-92d28bbf751d"
      },
      "execution_count": 37,
      "outputs": [
        {
          "output_type": "stream",
          "name": "stdout",
          "text": [
            "Ordinal matrix:\n"
          ]
        },
        {
          "output_type": "execute_result",
          "data": {
            "text/plain": [
              "   customerID  Partner  Dependents  PhoneService  MultipleLines  \\\n",
              "0      2370.0      0.0         1.0           1.0            0.0   \n",
              "1      3457.0      0.0         0.0           1.0            2.0   \n",
              "2      2149.0      1.0         0.0           0.0            1.0   \n",
              "3      1426.0      0.0         0.0           1.0            0.0   \n",
              "4      1545.0      0.0         1.0           1.0            2.0   \n",
              "\n",
              "   OnlineSecurity  OnlineBackup  DeviceProtection  TechSupport  StreamingTV  \\\n",
              "0             2.0           0.0               2.0          0.0          0.0   \n",
              "1             0.0           2.0               0.0          0.0          2.0   \n",
              "2             0.0           0.0               0.0          0.0          0.0   \n",
              "3             0.0           0.0               0.0          0.0          0.0   \n",
              "4             2.0           2.0               0.0          2.0          0.0   \n",
              "\n",
              "   StreamingMovies  Contract  PaperlessBilling  \n",
              "0              2.0       1.0               0.0  \n",
              "1              2.0       2.0               1.0  \n",
              "2              0.0       0.0               1.0  \n",
              "3              0.0       0.0               1.0  \n",
              "4              0.0       2.0               1.0  "
            ],
            "text/html": [
              "\n",
              "  <div id=\"df-fb98c2f8-ab68-439e-bd28-b27f8cfebbc7\">\n",
              "    <div class=\"colab-df-container\">\n",
              "      <div>\n",
              "<style scoped>\n",
              "    .dataframe tbody tr th:only-of-type {\n",
              "        vertical-align: middle;\n",
              "    }\n",
              "\n",
              "    .dataframe tbody tr th {\n",
              "        vertical-align: top;\n",
              "    }\n",
              "\n",
              "    .dataframe thead th {\n",
              "        text-align: right;\n",
              "    }\n",
              "</style>\n",
              "<table border=\"1\" class=\"dataframe\">\n",
              "  <thead>\n",
              "    <tr style=\"text-align: right;\">\n",
              "      <th></th>\n",
              "      <th>customerID</th>\n",
              "      <th>Partner</th>\n",
              "      <th>Dependents</th>\n",
              "      <th>PhoneService</th>\n",
              "      <th>MultipleLines</th>\n",
              "      <th>OnlineSecurity</th>\n",
              "      <th>OnlineBackup</th>\n",
              "      <th>DeviceProtection</th>\n",
              "      <th>TechSupport</th>\n",
              "      <th>StreamingTV</th>\n",
              "      <th>StreamingMovies</th>\n",
              "      <th>Contract</th>\n",
              "      <th>PaperlessBilling</th>\n",
              "    </tr>\n",
              "  </thead>\n",
              "  <tbody>\n",
              "    <tr>\n",
              "      <th>0</th>\n",
              "      <td>2370.0</td>\n",
              "      <td>0.0</td>\n",
              "      <td>1.0</td>\n",
              "      <td>1.0</td>\n",
              "      <td>0.0</td>\n",
              "      <td>2.0</td>\n",
              "      <td>0.0</td>\n",
              "      <td>2.0</td>\n",
              "      <td>0.0</td>\n",
              "      <td>0.0</td>\n",
              "      <td>2.0</td>\n",
              "      <td>1.0</td>\n",
              "      <td>0.0</td>\n",
              "    </tr>\n",
              "    <tr>\n",
              "      <th>1</th>\n",
              "      <td>3457.0</td>\n",
              "      <td>0.0</td>\n",
              "      <td>0.0</td>\n",
              "      <td>1.0</td>\n",
              "      <td>2.0</td>\n",
              "      <td>0.0</td>\n",
              "      <td>2.0</td>\n",
              "      <td>0.0</td>\n",
              "      <td>0.0</td>\n",
              "      <td>2.0</td>\n",
              "      <td>2.0</td>\n",
              "      <td>2.0</td>\n",
              "      <td>1.0</td>\n",
              "    </tr>\n",
              "    <tr>\n",
              "      <th>2</th>\n",
              "      <td>2149.0</td>\n",
              "      <td>1.0</td>\n",
              "      <td>0.0</td>\n",
              "      <td>0.0</td>\n",
              "      <td>1.0</td>\n",
              "      <td>0.0</td>\n",
              "      <td>0.0</td>\n",
              "      <td>0.0</td>\n",
              "      <td>0.0</td>\n",
              "      <td>0.0</td>\n",
              "      <td>0.0</td>\n",
              "      <td>0.0</td>\n",
              "      <td>1.0</td>\n",
              "    </tr>\n",
              "    <tr>\n",
              "      <th>3</th>\n",
              "      <td>1426.0</td>\n",
              "      <td>0.0</td>\n",
              "      <td>0.0</td>\n",
              "      <td>1.0</td>\n",
              "      <td>0.0</td>\n",
              "      <td>0.0</td>\n",
              "      <td>0.0</td>\n",
              "      <td>0.0</td>\n",
              "      <td>0.0</td>\n",
              "      <td>0.0</td>\n",
              "      <td>0.0</td>\n",
              "      <td>0.0</td>\n",
              "      <td>1.0</td>\n",
              "    </tr>\n",
              "    <tr>\n",
              "      <th>4</th>\n",
              "      <td>1545.0</td>\n",
              "      <td>0.0</td>\n",
              "      <td>1.0</td>\n",
              "      <td>1.0</td>\n",
              "      <td>2.0</td>\n",
              "      <td>2.0</td>\n",
              "      <td>2.0</td>\n",
              "      <td>0.0</td>\n",
              "      <td>2.0</td>\n",
              "      <td>0.0</td>\n",
              "      <td>0.0</td>\n",
              "      <td>2.0</td>\n",
              "      <td>1.0</td>\n",
              "    </tr>\n",
              "  </tbody>\n",
              "</table>\n",
              "</div>\n",
              "      <button class=\"colab-df-convert\" onclick=\"convertToInteractive('df-fb98c2f8-ab68-439e-bd28-b27f8cfebbc7')\"\n",
              "              title=\"Convert this dataframe to an interactive table.\"\n",
              "              style=\"display:none;\">\n",
              "        \n",
              "  <svg xmlns=\"http://www.w3.org/2000/svg\" height=\"24px\"viewBox=\"0 0 24 24\"\n",
              "       width=\"24px\">\n",
              "    <path d=\"M0 0h24v24H0V0z\" fill=\"none\"/>\n",
              "    <path d=\"M18.56 5.44l.94 2.06.94-2.06 2.06-.94-2.06-.94-.94-2.06-.94 2.06-2.06.94zm-11 1L8.5 8.5l.94-2.06 2.06-.94-2.06-.94L8.5 2.5l-.94 2.06-2.06.94zm10 10l.94 2.06.94-2.06 2.06-.94-2.06-.94-.94-2.06-.94 2.06-2.06.94z\"/><path d=\"M17.41 7.96l-1.37-1.37c-.4-.4-.92-.59-1.43-.59-.52 0-1.04.2-1.43.59L10.3 9.45l-7.72 7.72c-.78.78-.78 2.05 0 2.83L4 21.41c.39.39.9.59 1.41.59.51 0 1.02-.2 1.41-.59l7.78-7.78 2.81-2.81c.8-.78.8-2.07 0-2.86zM5.41 20L4 18.59l7.72-7.72 1.47 1.35L5.41 20z\"/>\n",
              "  </svg>\n",
              "      </button>\n",
              "      \n",
              "  <style>\n",
              "    .colab-df-container {\n",
              "      display:flex;\n",
              "      flex-wrap:wrap;\n",
              "      gap: 12px;\n",
              "    }\n",
              "\n",
              "    .colab-df-convert {\n",
              "      background-color: #E8F0FE;\n",
              "      border: none;\n",
              "      border-radius: 50%;\n",
              "      cursor: pointer;\n",
              "      display: none;\n",
              "      fill: #1967D2;\n",
              "      height: 32px;\n",
              "      padding: 0 0 0 0;\n",
              "      width: 32px;\n",
              "    }\n",
              "\n",
              "    .colab-df-convert:hover {\n",
              "      background-color: #E2EBFA;\n",
              "      box-shadow: 0px 1px 2px rgba(60, 64, 67, 0.3), 0px 1px 3px 1px rgba(60, 64, 67, 0.15);\n",
              "      fill: #174EA6;\n",
              "    }\n",
              "\n",
              "    [theme=dark] .colab-df-convert {\n",
              "      background-color: #3B4455;\n",
              "      fill: #D2E3FC;\n",
              "    }\n",
              "\n",
              "    [theme=dark] .colab-df-convert:hover {\n",
              "      background-color: #434B5C;\n",
              "      box-shadow: 0px 1px 3px 1px rgba(0, 0, 0, 0.15);\n",
              "      filter: drop-shadow(0px 1px 2px rgba(0, 0, 0, 0.3));\n",
              "      fill: #FFFFFF;\n",
              "    }\n",
              "  </style>\n",
              "\n",
              "      <script>\n",
              "        const buttonEl =\n",
              "          document.querySelector('#df-fb98c2f8-ab68-439e-bd28-b27f8cfebbc7 button.colab-df-convert');\n",
              "        buttonEl.style.display =\n",
              "          google.colab.kernel.accessAllowed ? 'block' : 'none';\n",
              "\n",
              "        async function convertToInteractive(key) {\n",
              "          const element = document.querySelector('#df-fb98c2f8-ab68-439e-bd28-b27f8cfebbc7');\n",
              "          const dataTable =\n",
              "            await google.colab.kernel.invokeFunction('convertToInteractive',\n",
              "                                                     [key], {});\n",
              "          if (!dataTable) return;\n",
              "\n",
              "          const docLinkHtml = 'Like what you see? Visit the ' +\n",
              "            '<a target=\"_blank\" href=https://colab.research.google.com/notebooks/data_table.ipynb>data table notebook</a>'\n",
              "            + ' to learn more about interactive tables.';\n",
              "          element.innerHTML = '';\n",
              "          dataTable['output_type'] = 'display_data';\n",
              "          await google.colab.output.renderOutput(dataTable, element);\n",
              "          const docLink = document.createElement('div');\n",
              "          docLink.innerHTML = docLinkHtml;\n",
              "          element.appendChild(docLink);\n",
              "        }\n",
              "      </script>\n",
              "    </div>\n",
              "  </div>\n",
              "  "
            ]
          },
          "metadata": {},
          "execution_count": 37
        }
      ]
    },
    {
      "cell_type": "code",
      "source": [
        "X_train_dummy = pd.concat([oe_train, ohe_train], axis=1)\n",
        "\n",
        "X_train_dummy.head()"
      ],
      "metadata": {
        "colab": {
          "base_uri": "https://localhost:8080/",
          "height": 0
        },
        "id": "W29YjgLQTXTF",
        "outputId": "67454c55-6b1f-4f09-82e7-fee584843e93"
      },
      "execution_count": 38,
      "outputs": [
        {
          "output_type": "execute_result",
          "data": {
            "text/plain": [
              "   customerID  Partner  Dependents  PhoneService  MultipleLines  \\\n",
              "0      2370.0      0.0         1.0           1.0            0.0   \n",
              "1      3457.0      0.0         0.0           1.0            2.0   \n",
              "2      2149.0      1.0         0.0           0.0            1.0   \n",
              "3      1426.0      0.0         0.0           1.0            0.0   \n",
              "4      1545.0      0.0         1.0           1.0            2.0   \n",
              "\n",
              "   OnlineSecurity  OnlineBackup  DeviceProtection  TechSupport  StreamingTV  \\\n",
              "0             2.0           0.0               2.0          0.0          0.0   \n",
              "1             0.0           2.0               0.0          0.0          2.0   \n",
              "2             0.0           0.0               0.0          0.0          0.0   \n",
              "3             0.0           0.0               0.0          0.0          0.0   \n",
              "4             2.0           2.0               0.0          2.0          0.0   \n",
              "\n",
              "   ...  PaperlessBilling  gender_Female  gender_Male  InternetService_DSL  \\\n",
              "0  ...               0.0            1.0          0.0                  1.0   \n",
              "1  ...               1.0            1.0          0.0                  0.0   \n",
              "2  ...               1.0            0.0          1.0                  1.0   \n",
              "3  ...               1.0            0.0          1.0                  0.0   \n",
              "4  ...               1.0            0.0          1.0                  1.0   \n",
              "\n",
              "   InternetService_Fiber optic  InternetService_No  \\\n",
              "0                          0.0                 0.0   \n",
              "1                          1.0                 0.0   \n",
              "2                          0.0                 0.0   \n",
              "3                          1.0                 0.0   \n",
              "4                          0.0                 0.0   \n",
              "\n",
              "   PaymentMethod_Bank transfer (automatic)  \\\n",
              "0                                      0.0   \n",
              "1                                      1.0   \n",
              "2                                      0.0   \n",
              "3                                      0.0   \n",
              "4                                      1.0   \n",
              "\n",
              "   PaymentMethod_Credit card (automatic)  PaymentMethod_Electronic check  \\\n",
              "0                                    0.0                             0.0   \n",
              "1                                    0.0                             0.0   \n",
              "2                                    0.0                             1.0   \n",
              "3                                    0.0                             1.0   \n",
              "4                                    0.0                             0.0   \n",
              "\n",
              "   PaymentMethod_Mailed check  \n",
              "0                         1.0  \n",
              "1                         0.0  \n",
              "2                         0.0  \n",
              "3                         0.0  \n",
              "4                         0.0  \n",
              "\n",
              "[5 rows x 22 columns]"
            ],
            "text/html": [
              "\n",
              "  <div id=\"df-dfee3f7b-6e35-4ea7-8d8d-ef62cef2b338\">\n",
              "    <div class=\"colab-df-container\">\n",
              "      <div>\n",
              "<style scoped>\n",
              "    .dataframe tbody tr th:only-of-type {\n",
              "        vertical-align: middle;\n",
              "    }\n",
              "\n",
              "    .dataframe tbody tr th {\n",
              "        vertical-align: top;\n",
              "    }\n",
              "\n",
              "    .dataframe thead th {\n",
              "        text-align: right;\n",
              "    }\n",
              "</style>\n",
              "<table border=\"1\" class=\"dataframe\">\n",
              "  <thead>\n",
              "    <tr style=\"text-align: right;\">\n",
              "      <th></th>\n",
              "      <th>customerID</th>\n",
              "      <th>Partner</th>\n",
              "      <th>Dependents</th>\n",
              "      <th>PhoneService</th>\n",
              "      <th>MultipleLines</th>\n",
              "      <th>OnlineSecurity</th>\n",
              "      <th>OnlineBackup</th>\n",
              "      <th>DeviceProtection</th>\n",
              "      <th>TechSupport</th>\n",
              "      <th>StreamingTV</th>\n",
              "      <th>...</th>\n",
              "      <th>PaperlessBilling</th>\n",
              "      <th>gender_Female</th>\n",
              "      <th>gender_Male</th>\n",
              "      <th>InternetService_DSL</th>\n",
              "      <th>InternetService_Fiber optic</th>\n",
              "      <th>InternetService_No</th>\n",
              "      <th>PaymentMethod_Bank transfer (automatic)</th>\n",
              "      <th>PaymentMethod_Credit card (automatic)</th>\n",
              "      <th>PaymentMethod_Electronic check</th>\n",
              "      <th>PaymentMethod_Mailed check</th>\n",
              "    </tr>\n",
              "  </thead>\n",
              "  <tbody>\n",
              "    <tr>\n",
              "      <th>0</th>\n",
              "      <td>2370.0</td>\n",
              "      <td>0.0</td>\n",
              "      <td>1.0</td>\n",
              "      <td>1.0</td>\n",
              "      <td>0.0</td>\n",
              "      <td>2.0</td>\n",
              "      <td>0.0</td>\n",
              "      <td>2.0</td>\n",
              "      <td>0.0</td>\n",
              "      <td>0.0</td>\n",
              "      <td>...</td>\n",
              "      <td>0.0</td>\n",
              "      <td>1.0</td>\n",
              "      <td>0.0</td>\n",
              "      <td>1.0</td>\n",
              "      <td>0.0</td>\n",
              "      <td>0.0</td>\n",
              "      <td>0.0</td>\n",
              "      <td>0.0</td>\n",
              "      <td>0.0</td>\n",
              "      <td>1.0</td>\n",
              "    </tr>\n",
              "    <tr>\n",
              "      <th>1</th>\n",
              "      <td>3457.0</td>\n",
              "      <td>0.0</td>\n",
              "      <td>0.0</td>\n",
              "      <td>1.0</td>\n",
              "      <td>2.0</td>\n",
              "      <td>0.0</td>\n",
              "      <td>2.0</td>\n",
              "      <td>0.0</td>\n",
              "      <td>0.0</td>\n",
              "      <td>2.0</td>\n",
              "      <td>...</td>\n",
              "      <td>1.0</td>\n",
              "      <td>1.0</td>\n",
              "      <td>0.0</td>\n",
              "      <td>0.0</td>\n",
              "      <td>1.0</td>\n",
              "      <td>0.0</td>\n",
              "      <td>1.0</td>\n",
              "      <td>0.0</td>\n",
              "      <td>0.0</td>\n",
              "      <td>0.0</td>\n",
              "    </tr>\n",
              "    <tr>\n",
              "      <th>2</th>\n",
              "      <td>2149.0</td>\n",
              "      <td>1.0</td>\n",
              "      <td>0.0</td>\n",
              "      <td>0.0</td>\n",
              "      <td>1.0</td>\n",
              "      <td>0.0</td>\n",
              "      <td>0.0</td>\n",
              "      <td>0.0</td>\n",
              "      <td>0.0</td>\n",
              "      <td>0.0</td>\n",
              "      <td>...</td>\n",
              "      <td>1.0</td>\n",
              "      <td>0.0</td>\n",
              "      <td>1.0</td>\n",
              "      <td>1.0</td>\n",
              "      <td>0.0</td>\n",
              "      <td>0.0</td>\n",
              "      <td>0.0</td>\n",
              "      <td>0.0</td>\n",
              "      <td>1.0</td>\n",
              "      <td>0.0</td>\n",
              "    </tr>\n",
              "    <tr>\n",
              "      <th>3</th>\n",
              "      <td>1426.0</td>\n",
              "      <td>0.0</td>\n",
              "      <td>0.0</td>\n",
              "      <td>1.0</td>\n",
              "      <td>0.0</td>\n",
              "      <td>0.0</td>\n",
              "      <td>0.0</td>\n",
              "      <td>0.0</td>\n",
              "      <td>0.0</td>\n",
              "      <td>0.0</td>\n",
              "      <td>...</td>\n",
              "      <td>1.0</td>\n",
              "      <td>0.0</td>\n",
              "      <td>1.0</td>\n",
              "      <td>0.0</td>\n",
              "      <td>1.0</td>\n",
              "      <td>0.0</td>\n",
              "      <td>0.0</td>\n",
              "      <td>0.0</td>\n",
              "      <td>1.0</td>\n",
              "      <td>0.0</td>\n",
              "    </tr>\n",
              "    <tr>\n",
              "      <th>4</th>\n",
              "      <td>1545.0</td>\n",
              "      <td>0.0</td>\n",
              "      <td>1.0</td>\n",
              "      <td>1.0</td>\n",
              "      <td>2.0</td>\n",
              "      <td>2.0</td>\n",
              "      <td>2.0</td>\n",
              "      <td>0.0</td>\n",
              "      <td>2.0</td>\n",
              "      <td>0.0</td>\n",
              "      <td>...</td>\n",
              "      <td>1.0</td>\n",
              "      <td>0.0</td>\n",
              "      <td>1.0</td>\n",
              "      <td>1.0</td>\n",
              "      <td>0.0</td>\n",
              "      <td>0.0</td>\n",
              "      <td>1.0</td>\n",
              "      <td>0.0</td>\n",
              "      <td>0.0</td>\n",
              "      <td>0.0</td>\n",
              "    </tr>\n",
              "  </tbody>\n",
              "</table>\n",
              "<p>5 rows × 22 columns</p>\n",
              "</div>\n",
              "      <button class=\"colab-df-convert\" onclick=\"convertToInteractive('df-dfee3f7b-6e35-4ea7-8d8d-ef62cef2b338')\"\n",
              "              title=\"Convert this dataframe to an interactive table.\"\n",
              "              style=\"display:none;\">\n",
              "        \n",
              "  <svg xmlns=\"http://www.w3.org/2000/svg\" height=\"24px\"viewBox=\"0 0 24 24\"\n",
              "       width=\"24px\">\n",
              "    <path d=\"M0 0h24v24H0V0z\" fill=\"none\"/>\n",
              "    <path d=\"M18.56 5.44l.94 2.06.94-2.06 2.06-.94-2.06-.94-.94-2.06-.94 2.06-2.06.94zm-11 1L8.5 8.5l.94-2.06 2.06-.94-2.06-.94L8.5 2.5l-.94 2.06-2.06.94zm10 10l.94 2.06.94-2.06 2.06-.94-2.06-.94-.94-2.06-.94 2.06-2.06.94z\"/><path d=\"M17.41 7.96l-1.37-1.37c-.4-.4-.92-.59-1.43-.59-.52 0-1.04.2-1.43.59L10.3 9.45l-7.72 7.72c-.78.78-.78 2.05 0 2.83L4 21.41c.39.39.9.59 1.41.59.51 0 1.02-.2 1.41-.59l7.78-7.78 2.81-2.81c.8-.78.8-2.07 0-2.86zM5.41 20L4 18.59l7.72-7.72 1.47 1.35L5.41 20z\"/>\n",
              "  </svg>\n",
              "      </button>\n",
              "      \n",
              "  <style>\n",
              "    .colab-df-container {\n",
              "      display:flex;\n",
              "      flex-wrap:wrap;\n",
              "      gap: 12px;\n",
              "    }\n",
              "\n",
              "    .colab-df-convert {\n",
              "      background-color: #E8F0FE;\n",
              "      border: none;\n",
              "      border-radius: 50%;\n",
              "      cursor: pointer;\n",
              "      display: none;\n",
              "      fill: #1967D2;\n",
              "      height: 32px;\n",
              "      padding: 0 0 0 0;\n",
              "      width: 32px;\n",
              "    }\n",
              "\n",
              "    .colab-df-convert:hover {\n",
              "      background-color: #E2EBFA;\n",
              "      box-shadow: 0px 1px 2px rgba(60, 64, 67, 0.3), 0px 1px 3px 1px rgba(60, 64, 67, 0.15);\n",
              "      fill: #174EA6;\n",
              "    }\n",
              "\n",
              "    [theme=dark] .colab-df-convert {\n",
              "      background-color: #3B4455;\n",
              "      fill: #D2E3FC;\n",
              "    }\n",
              "\n",
              "    [theme=dark] .colab-df-convert:hover {\n",
              "      background-color: #434B5C;\n",
              "      box-shadow: 0px 1px 3px 1px rgba(0, 0, 0, 0.15);\n",
              "      filter: drop-shadow(0px 1px 2px rgba(0, 0, 0, 0.3));\n",
              "      fill: #FFFFFF;\n",
              "    }\n",
              "  </style>\n",
              "\n",
              "      <script>\n",
              "        const buttonEl =\n",
              "          document.querySelector('#df-dfee3f7b-6e35-4ea7-8d8d-ef62cef2b338 button.colab-df-convert');\n",
              "        buttonEl.style.display =\n",
              "          google.colab.kernel.accessAllowed ? 'block' : 'none';\n",
              "\n",
              "        async function convertToInteractive(key) {\n",
              "          const element = document.querySelector('#df-dfee3f7b-6e35-4ea7-8d8d-ef62cef2b338');\n",
              "          const dataTable =\n",
              "            await google.colab.kernel.invokeFunction('convertToInteractive',\n",
              "                                                     [key], {});\n",
              "          if (!dataTable) return;\n",
              "\n",
              "          const docLinkHtml = 'Like what you see? Visit the ' +\n",
              "            '<a target=\"_blank\" href=https://colab.research.google.com/notebooks/data_table.ipynb>data table notebook</a>'\n",
              "            + ' to learn more about interactive tables.';\n",
              "          element.innerHTML = '';\n",
              "          dataTable['output_type'] = 'display_data';\n",
              "          await google.colab.output.renderOutput(dataTable, element);\n",
              "          const docLink = document.createElement('div');\n",
              "          docLink.innerHTML = docLinkHtml;\n",
              "          element.appendChild(docLink);\n",
              "        }\n",
              "      </script>\n",
              "    </div>\n",
              "  </div>\n",
              "  "
            ]
          },
          "metadata": {},
          "execution_count": 38
        }
      ]
    },
    {
      "cell_type": "markdown",
      "source": [
        "## b. Data Test"
      ],
      "metadata": {
        "id": "pJj8duMsqTEH"
      }
    },
    {
      "cell_type": "markdown",
      "source": [
        "### 3.1 One Hot Encoding"
      ],
      "metadata": {
        "id": "1rPr_VZbqTEH"
      }
    },
    {
      "cell_type": "code",
      "source": [
        "# Encoding pada nominal features\n",
        "onehot = OneHotEncoder()\n",
        "onehot.fit(X_test[nominal_data])\n",
        "\n",
        "ohe_test = pd.DataFrame(\n",
        "                        onehot.transform(X_test[nominal_data]).toarray(),\n",
        "                        columns=onehot.get_feature_names_out()\n",
        "                        )\n",
        "\n",
        "print(\"One Hot matrix:\")\n",
        "ohe_test.head() # Menampilkan dataFrame hasil one hot encoding"
      ],
      "metadata": {
        "colab": {
          "base_uri": "https://localhost:8080/",
          "height": 0
        },
        "outputId": "723973c4-5d99-4f23-c198-1904d0e4f79f",
        "id": "msr5WJI0qTEI"
      },
      "execution_count": 39,
      "outputs": [
        {
          "output_type": "stream",
          "name": "stdout",
          "text": [
            "One Hot matrix:\n"
          ]
        },
        {
          "output_type": "execute_result",
          "data": {
            "text/plain": [
              "   gender_Female  gender_Male  InternetService_DSL  \\\n",
              "0            1.0          0.0                  1.0   \n",
              "1            0.0          1.0                  0.0   \n",
              "2            1.0          0.0                  0.0   \n",
              "3            1.0          0.0                  0.0   \n",
              "4            0.0          1.0                  1.0   \n",
              "\n",
              "   InternetService_Fiber optic  InternetService_No  \\\n",
              "0                          0.0                 0.0   \n",
              "1                          0.0                 1.0   \n",
              "2                          0.0                 1.0   \n",
              "3                          1.0                 0.0   \n",
              "4                          0.0                 0.0   \n",
              "\n",
              "   PaymentMethod_Bank transfer (automatic)  \\\n",
              "0                                      0.0   \n",
              "1                                      1.0   \n",
              "2                                      0.0   \n",
              "3                                      0.0   \n",
              "4                                      1.0   \n",
              "\n",
              "   PaymentMethod_Credit card (automatic)  PaymentMethod_Electronic check  \\\n",
              "0                                    0.0                             1.0   \n",
              "1                                    0.0                             0.0   \n",
              "2                                    0.0                             0.0   \n",
              "3                                    0.0                             1.0   \n",
              "4                                    0.0                             0.0   \n",
              "\n",
              "   PaymentMethod_Mailed check  \n",
              "0                         0.0  \n",
              "1                         0.0  \n",
              "2                         1.0  \n",
              "3                         0.0  \n",
              "4                         0.0  "
            ],
            "text/html": [
              "\n",
              "  <div id=\"df-0c4f5a72-0408-4833-83e8-897260d95905\">\n",
              "    <div class=\"colab-df-container\">\n",
              "      <div>\n",
              "<style scoped>\n",
              "    .dataframe tbody tr th:only-of-type {\n",
              "        vertical-align: middle;\n",
              "    }\n",
              "\n",
              "    .dataframe tbody tr th {\n",
              "        vertical-align: top;\n",
              "    }\n",
              "\n",
              "    .dataframe thead th {\n",
              "        text-align: right;\n",
              "    }\n",
              "</style>\n",
              "<table border=\"1\" class=\"dataframe\">\n",
              "  <thead>\n",
              "    <tr style=\"text-align: right;\">\n",
              "      <th></th>\n",
              "      <th>gender_Female</th>\n",
              "      <th>gender_Male</th>\n",
              "      <th>InternetService_DSL</th>\n",
              "      <th>InternetService_Fiber optic</th>\n",
              "      <th>InternetService_No</th>\n",
              "      <th>PaymentMethod_Bank transfer (automatic)</th>\n",
              "      <th>PaymentMethod_Credit card (automatic)</th>\n",
              "      <th>PaymentMethod_Electronic check</th>\n",
              "      <th>PaymentMethod_Mailed check</th>\n",
              "    </tr>\n",
              "  </thead>\n",
              "  <tbody>\n",
              "    <tr>\n",
              "      <th>0</th>\n",
              "      <td>1.0</td>\n",
              "      <td>0.0</td>\n",
              "      <td>1.0</td>\n",
              "      <td>0.0</td>\n",
              "      <td>0.0</td>\n",
              "      <td>0.0</td>\n",
              "      <td>0.0</td>\n",
              "      <td>1.0</td>\n",
              "      <td>0.0</td>\n",
              "    </tr>\n",
              "    <tr>\n",
              "      <th>1</th>\n",
              "      <td>0.0</td>\n",
              "      <td>1.0</td>\n",
              "      <td>0.0</td>\n",
              "      <td>0.0</td>\n",
              "      <td>1.0</td>\n",
              "      <td>1.0</td>\n",
              "      <td>0.0</td>\n",
              "      <td>0.0</td>\n",
              "      <td>0.0</td>\n",
              "    </tr>\n",
              "    <tr>\n",
              "      <th>2</th>\n",
              "      <td>1.0</td>\n",
              "      <td>0.0</td>\n",
              "      <td>0.0</td>\n",
              "      <td>0.0</td>\n",
              "      <td>1.0</td>\n",
              "      <td>0.0</td>\n",
              "      <td>0.0</td>\n",
              "      <td>0.0</td>\n",
              "      <td>1.0</td>\n",
              "    </tr>\n",
              "    <tr>\n",
              "      <th>3</th>\n",
              "      <td>1.0</td>\n",
              "      <td>0.0</td>\n",
              "      <td>0.0</td>\n",
              "      <td>1.0</td>\n",
              "      <td>0.0</td>\n",
              "      <td>0.0</td>\n",
              "      <td>0.0</td>\n",
              "      <td>1.0</td>\n",
              "      <td>0.0</td>\n",
              "    </tr>\n",
              "    <tr>\n",
              "      <th>4</th>\n",
              "      <td>0.0</td>\n",
              "      <td>1.0</td>\n",
              "      <td>1.0</td>\n",
              "      <td>0.0</td>\n",
              "      <td>0.0</td>\n",
              "      <td>1.0</td>\n",
              "      <td>0.0</td>\n",
              "      <td>0.0</td>\n",
              "      <td>0.0</td>\n",
              "    </tr>\n",
              "  </tbody>\n",
              "</table>\n",
              "</div>\n",
              "      <button class=\"colab-df-convert\" onclick=\"convertToInteractive('df-0c4f5a72-0408-4833-83e8-897260d95905')\"\n",
              "              title=\"Convert this dataframe to an interactive table.\"\n",
              "              style=\"display:none;\">\n",
              "        \n",
              "  <svg xmlns=\"http://www.w3.org/2000/svg\" height=\"24px\"viewBox=\"0 0 24 24\"\n",
              "       width=\"24px\">\n",
              "    <path d=\"M0 0h24v24H0V0z\" fill=\"none\"/>\n",
              "    <path d=\"M18.56 5.44l.94 2.06.94-2.06 2.06-.94-2.06-.94-.94-2.06-.94 2.06-2.06.94zm-11 1L8.5 8.5l.94-2.06 2.06-.94-2.06-.94L8.5 2.5l-.94 2.06-2.06.94zm10 10l.94 2.06.94-2.06 2.06-.94-2.06-.94-.94-2.06-.94 2.06-2.06.94z\"/><path d=\"M17.41 7.96l-1.37-1.37c-.4-.4-.92-.59-1.43-.59-.52 0-1.04.2-1.43.59L10.3 9.45l-7.72 7.72c-.78.78-.78 2.05 0 2.83L4 21.41c.39.39.9.59 1.41.59.51 0 1.02-.2 1.41-.59l7.78-7.78 2.81-2.81c.8-.78.8-2.07 0-2.86zM5.41 20L4 18.59l7.72-7.72 1.47 1.35L5.41 20z\"/>\n",
              "  </svg>\n",
              "      </button>\n",
              "      \n",
              "  <style>\n",
              "    .colab-df-container {\n",
              "      display:flex;\n",
              "      flex-wrap:wrap;\n",
              "      gap: 12px;\n",
              "    }\n",
              "\n",
              "    .colab-df-convert {\n",
              "      background-color: #E8F0FE;\n",
              "      border: none;\n",
              "      border-radius: 50%;\n",
              "      cursor: pointer;\n",
              "      display: none;\n",
              "      fill: #1967D2;\n",
              "      height: 32px;\n",
              "      padding: 0 0 0 0;\n",
              "      width: 32px;\n",
              "    }\n",
              "\n",
              "    .colab-df-convert:hover {\n",
              "      background-color: #E2EBFA;\n",
              "      box-shadow: 0px 1px 2px rgba(60, 64, 67, 0.3), 0px 1px 3px 1px rgba(60, 64, 67, 0.15);\n",
              "      fill: #174EA6;\n",
              "    }\n",
              "\n",
              "    [theme=dark] .colab-df-convert {\n",
              "      background-color: #3B4455;\n",
              "      fill: #D2E3FC;\n",
              "    }\n",
              "\n",
              "    [theme=dark] .colab-df-convert:hover {\n",
              "      background-color: #434B5C;\n",
              "      box-shadow: 0px 1px 3px 1px rgba(0, 0, 0, 0.15);\n",
              "      filter: drop-shadow(0px 1px 2px rgba(0, 0, 0, 0.3));\n",
              "      fill: #FFFFFF;\n",
              "    }\n",
              "  </style>\n",
              "\n",
              "      <script>\n",
              "        const buttonEl =\n",
              "          document.querySelector('#df-0c4f5a72-0408-4833-83e8-897260d95905 button.colab-df-convert');\n",
              "        buttonEl.style.display =\n",
              "          google.colab.kernel.accessAllowed ? 'block' : 'none';\n",
              "\n",
              "        async function convertToInteractive(key) {\n",
              "          const element = document.querySelector('#df-0c4f5a72-0408-4833-83e8-897260d95905');\n",
              "          const dataTable =\n",
              "            await google.colab.kernel.invokeFunction('convertToInteractive',\n",
              "                                                     [key], {});\n",
              "          if (!dataTable) return;\n",
              "\n",
              "          const docLinkHtml = 'Like what you see? Visit the ' +\n",
              "            '<a target=\"_blank\" href=https://colab.research.google.com/notebooks/data_table.ipynb>data table notebook</a>'\n",
              "            + ' to learn more about interactive tables.';\n",
              "          element.innerHTML = '';\n",
              "          dataTable['output_type'] = 'display_data';\n",
              "          await google.colab.output.renderOutput(dataTable, element);\n",
              "          const docLink = document.createElement('div');\n",
              "          docLink.innerHTML = docLinkHtml;\n",
              "          element.appendChild(docLink);\n",
              "        }\n",
              "      </script>\n",
              "    </div>\n",
              "  </div>\n",
              "  "
            ]
          },
          "metadata": {},
          "execution_count": 39
        }
      ]
    },
    {
      "cell_type": "markdown",
      "source": [
        "### 3.2 Ordinal Encoding"
      ],
      "metadata": {
        "id": "VncYsORmqTEI"
      }
    },
    {
      "cell_type": "code",
      "source": [
        "# Encoding pada ordinal features\n",
        "ordinal = OrdinalEncoder()\n",
        "ordinal.fit(X_test[ordinal_data])\n",
        "\n",
        "oe_test = pd.DataFrame(\n",
        "                        ordinal.transform(X_test[ordinal_data]),\n",
        "                        columns=ordinal.feature_names_in_\n",
        "                       )\n",
        "\n",
        "print(\"Ordinal matrix:\")\n",
        "oe_test.head() # Menampilkan DataFrame hasil ordinal encoding"
      ],
      "metadata": {
        "colab": {
          "base_uri": "https://localhost:8080/",
          "height": 0
        },
        "outputId": "4b34ad3d-297b-4ca2-d311-b55b06a163aa",
        "id": "uFbSO4fsqTEJ"
      },
      "execution_count": 40,
      "outputs": [
        {
          "output_type": "stream",
          "name": "stdout",
          "text": [
            "Ordinal matrix:\n"
          ]
        },
        {
          "output_type": "execute_result",
          "data": {
            "text/plain": [
              "   customerID  Partner  Dependents  PhoneService  MultipleLines  \\\n",
              "0       135.0      1.0         0.0           0.0            1.0   \n",
              "1        65.0      0.0         0.0           1.0            2.0   \n",
              "2       487.0      1.0         1.0           1.0            0.0   \n",
              "3       953.0      0.0         0.0           1.0            0.0   \n",
              "4      1194.0      0.0         0.0           1.0            0.0   \n",
              "\n",
              "   OnlineSecurity  OnlineBackup  DeviceProtection  TechSupport  StreamingTV  \\\n",
              "0             0.0           0.0               0.0          0.0          0.0   \n",
              "1             1.0           1.0               1.0          1.0          1.0   \n",
              "2             1.0           1.0               1.0          1.0          1.0   \n",
              "3             0.0           0.0               2.0          0.0          0.0   \n",
              "4             0.0           0.0               0.0          2.0          0.0   \n",
              "\n",
              "   StreamingMovies  Contract  PaperlessBilling  \n",
              "0              0.0       0.0               1.0  \n",
              "1              1.0       0.0               1.0  \n",
              "2              1.0       2.0               0.0  \n",
              "3              0.0       0.0               0.0  \n",
              "4              0.0       2.0               0.0  "
            ],
            "text/html": [
              "\n",
              "  <div id=\"df-35b4906d-5223-4d33-a3c5-f611a7b8db62\">\n",
              "    <div class=\"colab-df-container\">\n",
              "      <div>\n",
              "<style scoped>\n",
              "    .dataframe tbody tr th:only-of-type {\n",
              "        vertical-align: middle;\n",
              "    }\n",
              "\n",
              "    .dataframe tbody tr th {\n",
              "        vertical-align: top;\n",
              "    }\n",
              "\n",
              "    .dataframe thead th {\n",
              "        text-align: right;\n",
              "    }\n",
              "</style>\n",
              "<table border=\"1\" class=\"dataframe\">\n",
              "  <thead>\n",
              "    <tr style=\"text-align: right;\">\n",
              "      <th></th>\n",
              "      <th>customerID</th>\n",
              "      <th>Partner</th>\n",
              "      <th>Dependents</th>\n",
              "      <th>PhoneService</th>\n",
              "      <th>MultipleLines</th>\n",
              "      <th>OnlineSecurity</th>\n",
              "      <th>OnlineBackup</th>\n",
              "      <th>DeviceProtection</th>\n",
              "      <th>TechSupport</th>\n",
              "      <th>StreamingTV</th>\n",
              "      <th>StreamingMovies</th>\n",
              "      <th>Contract</th>\n",
              "      <th>PaperlessBilling</th>\n",
              "    </tr>\n",
              "  </thead>\n",
              "  <tbody>\n",
              "    <tr>\n",
              "      <th>0</th>\n",
              "      <td>135.0</td>\n",
              "      <td>1.0</td>\n",
              "      <td>0.0</td>\n",
              "      <td>0.0</td>\n",
              "      <td>1.0</td>\n",
              "      <td>0.0</td>\n",
              "      <td>0.0</td>\n",
              "      <td>0.0</td>\n",
              "      <td>0.0</td>\n",
              "      <td>0.0</td>\n",
              "      <td>0.0</td>\n",
              "      <td>0.0</td>\n",
              "      <td>1.0</td>\n",
              "    </tr>\n",
              "    <tr>\n",
              "      <th>1</th>\n",
              "      <td>65.0</td>\n",
              "      <td>0.0</td>\n",
              "      <td>0.0</td>\n",
              "      <td>1.0</td>\n",
              "      <td>2.0</td>\n",
              "      <td>1.0</td>\n",
              "      <td>1.0</td>\n",
              "      <td>1.0</td>\n",
              "      <td>1.0</td>\n",
              "      <td>1.0</td>\n",
              "      <td>1.0</td>\n",
              "      <td>0.0</td>\n",
              "      <td>1.0</td>\n",
              "    </tr>\n",
              "    <tr>\n",
              "      <th>2</th>\n",
              "      <td>487.0</td>\n",
              "      <td>1.0</td>\n",
              "      <td>1.0</td>\n",
              "      <td>1.0</td>\n",
              "      <td>0.0</td>\n",
              "      <td>1.0</td>\n",
              "      <td>1.0</td>\n",
              "      <td>1.0</td>\n",
              "      <td>1.0</td>\n",
              "      <td>1.0</td>\n",
              "      <td>1.0</td>\n",
              "      <td>2.0</td>\n",
              "      <td>0.0</td>\n",
              "    </tr>\n",
              "    <tr>\n",
              "      <th>3</th>\n",
              "      <td>953.0</td>\n",
              "      <td>0.0</td>\n",
              "      <td>0.0</td>\n",
              "      <td>1.0</td>\n",
              "      <td>0.0</td>\n",
              "      <td>0.0</td>\n",
              "      <td>0.0</td>\n",
              "      <td>2.0</td>\n",
              "      <td>0.0</td>\n",
              "      <td>0.0</td>\n",
              "      <td>0.0</td>\n",
              "      <td>0.0</td>\n",
              "      <td>0.0</td>\n",
              "    </tr>\n",
              "    <tr>\n",
              "      <th>4</th>\n",
              "      <td>1194.0</td>\n",
              "      <td>0.0</td>\n",
              "      <td>0.0</td>\n",
              "      <td>1.0</td>\n",
              "      <td>0.0</td>\n",
              "      <td>0.0</td>\n",
              "      <td>0.0</td>\n",
              "      <td>0.0</td>\n",
              "      <td>2.0</td>\n",
              "      <td>0.0</td>\n",
              "      <td>0.0</td>\n",
              "      <td>2.0</td>\n",
              "      <td>0.0</td>\n",
              "    </tr>\n",
              "  </tbody>\n",
              "</table>\n",
              "</div>\n",
              "      <button class=\"colab-df-convert\" onclick=\"convertToInteractive('df-35b4906d-5223-4d33-a3c5-f611a7b8db62')\"\n",
              "              title=\"Convert this dataframe to an interactive table.\"\n",
              "              style=\"display:none;\">\n",
              "        \n",
              "  <svg xmlns=\"http://www.w3.org/2000/svg\" height=\"24px\"viewBox=\"0 0 24 24\"\n",
              "       width=\"24px\">\n",
              "    <path d=\"M0 0h24v24H0V0z\" fill=\"none\"/>\n",
              "    <path d=\"M18.56 5.44l.94 2.06.94-2.06 2.06-.94-2.06-.94-.94-2.06-.94 2.06-2.06.94zm-11 1L8.5 8.5l.94-2.06 2.06-.94-2.06-.94L8.5 2.5l-.94 2.06-2.06.94zm10 10l.94 2.06.94-2.06 2.06-.94-2.06-.94-.94-2.06-.94 2.06-2.06.94z\"/><path d=\"M17.41 7.96l-1.37-1.37c-.4-.4-.92-.59-1.43-.59-.52 0-1.04.2-1.43.59L10.3 9.45l-7.72 7.72c-.78.78-.78 2.05 0 2.83L4 21.41c.39.39.9.59 1.41.59.51 0 1.02-.2 1.41-.59l7.78-7.78 2.81-2.81c.8-.78.8-2.07 0-2.86zM5.41 20L4 18.59l7.72-7.72 1.47 1.35L5.41 20z\"/>\n",
              "  </svg>\n",
              "      </button>\n",
              "      \n",
              "  <style>\n",
              "    .colab-df-container {\n",
              "      display:flex;\n",
              "      flex-wrap:wrap;\n",
              "      gap: 12px;\n",
              "    }\n",
              "\n",
              "    .colab-df-convert {\n",
              "      background-color: #E8F0FE;\n",
              "      border: none;\n",
              "      border-radius: 50%;\n",
              "      cursor: pointer;\n",
              "      display: none;\n",
              "      fill: #1967D2;\n",
              "      height: 32px;\n",
              "      padding: 0 0 0 0;\n",
              "      width: 32px;\n",
              "    }\n",
              "\n",
              "    .colab-df-convert:hover {\n",
              "      background-color: #E2EBFA;\n",
              "      box-shadow: 0px 1px 2px rgba(60, 64, 67, 0.3), 0px 1px 3px 1px rgba(60, 64, 67, 0.15);\n",
              "      fill: #174EA6;\n",
              "    }\n",
              "\n",
              "    [theme=dark] .colab-df-convert {\n",
              "      background-color: #3B4455;\n",
              "      fill: #D2E3FC;\n",
              "    }\n",
              "\n",
              "    [theme=dark] .colab-df-convert:hover {\n",
              "      background-color: #434B5C;\n",
              "      box-shadow: 0px 1px 3px 1px rgba(0, 0, 0, 0.15);\n",
              "      filter: drop-shadow(0px 1px 2px rgba(0, 0, 0, 0.3));\n",
              "      fill: #FFFFFF;\n",
              "    }\n",
              "  </style>\n",
              "\n",
              "      <script>\n",
              "        const buttonEl =\n",
              "          document.querySelector('#df-35b4906d-5223-4d33-a3c5-f611a7b8db62 button.colab-df-convert');\n",
              "        buttonEl.style.display =\n",
              "          google.colab.kernel.accessAllowed ? 'block' : 'none';\n",
              "\n",
              "        async function convertToInteractive(key) {\n",
              "          const element = document.querySelector('#df-35b4906d-5223-4d33-a3c5-f611a7b8db62');\n",
              "          const dataTable =\n",
              "            await google.colab.kernel.invokeFunction('convertToInteractive',\n",
              "                                                     [key], {});\n",
              "          if (!dataTable) return;\n",
              "\n",
              "          const docLinkHtml = 'Like what you see? Visit the ' +\n",
              "            '<a target=\"_blank\" href=https://colab.research.google.com/notebooks/data_table.ipynb>data table notebook</a>'\n",
              "            + ' to learn more about interactive tables.';\n",
              "          element.innerHTML = '';\n",
              "          dataTable['output_type'] = 'display_data';\n",
              "          await google.colab.output.renderOutput(dataTable, element);\n",
              "          const docLink = document.createElement('div');\n",
              "          docLink.innerHTML = docLinkHtml;\n",
              "          element.appendChild(docLink);\n",
              "        }\n",
              "      </script>\n",
              "    </div>\n",
              "  </div>\n",
              "  "
            ]
          },
          "metadata": {},
          "execution_count": 40
        }
      ]
    },
    {
      "cell_type": "code",
      "source": [
        "X_test_dummy = pd.concat([oe_test, ohe_test], axis=1)\n",
        "\n",
        "X_test_dummy.head()"
      ],
      "metadata": {
        "colab": {
          "base_uri": "https://localhost:8080/",
          "height": 0
        },
        "outputId": "a1e729ac-1eba-48f7-d3b7-ec04c28c4b24",
        "id": "E5sKNnNIqTEJ"
      },
      "execution_count": 41,
      "outputs": [
        {
          "output_type": "execute_result",
          "data": {
            "text/plain": [
              "   customerID  Partner  Dependents  PhoneService  MultipleLines  \\\n",
              "0       135.0      1.0         0.0           0.0            1.0   \n",
              "1        65.0      0.0         0.0           1.0            2.0   \n",
              "2       487.0      1.0         1.0           1.0            0.0   \n",
              "3       953.0      0.0         0.0           1.0            0.0   \n",
              "4      1194.0      0.0         0.0           1.0            0.0   \n",
              "\n",
              "   OnlineSecurity  OnlineBackup  DeviceProtection  TechSupport  StreamingTV  \\\n",
              "0             0.0           0.0               0.0          0.0          0.0   \n",
              "1             1.0           1.0               1.0          1.0          1.0   \n",
              "2             1.0           1.0               1.0          1.0          1.0   \n",
              "3             0.0           0.0               2.0          0.0          0.0   \n",
              "4             0.0           0.0               0.0          2.0          0.0   \n",
              "\n",
              "   ...  PaperlessBilling  gender_Female  gender_Male  InternetService_DSL  \\\n",
              "0  ...               1.0            1.0          0.0                  1.0   \n",
              "1  ...               1.0            0.0          1.0                  0.0   \n",
              "2  ...               0.0            1.0          0.0                  0.0   \n",
              "3  ...               0.0            1.0          0.0                  0.0   \n",
              "4  ...               0.0            0.0          1.0                  1.0   \n",
              "\n",
              "   InternetService_Fiber optic  InternetService_No  \\\n",
              "0                          0.0                 0.0   \n",
              "1                          0.0                 1.0   \n",
              "2                          0.0                 1.0   \n",
              "3                          1.0                 0.0   \n",
              "4                          0.0                 0.0   \n",
              "\n",
              "   PaymentMethod_Bank transfer (automatic)  \\\n",
              "0                                      0.0   \n",
              "1                                      1.0   \n",
              "2                                      0.0   \n",
              "3                                      0.0   \n",
              "4                                      1.0   \n",
              "\n",
              "   PaymentMethod_Credit card (automatic)  PaymentMethod_Electronic check  \\\n",
              "0                                    0.0                             1.0   \n",
              "1                                    0.0                             0.0   \n",
              "2                                    0.0                             0.0   \n",
              "3                                    0.0                             1.0   \n",
              "4                                    0.0                             0.0   \n",
              "\n",
              "   PaymentMethod_Mailed check  \n",
              "0                         0.0  \n",
              "1                         0.0  \n",
              "2                         1.0  \n",
              "3                         0.0  \n",
              "4                         0.0  \n",
              "\n",
              "[5 rows x 22 columns]"
            ],
            "text/html": [
              "\n",
              "  <div id=\"df-24109121-d421-4c4c-886a-526ff5a49620\">\n",
              "    <div class=\"colab-df-container\">\n",
              "      <div>\n",
              "<style scoped>\n",
              "    .dataframe tbody tr th:only-of-type {\n",
              "        vertical-align: middle;\n",
              "    }\n",
              "\n",
              "    .dataframe tbody tr th {\n",
              "        vertical-align: top;\n",
              "    }\n",
              "\n",
              "    .dataframe thead th {\n",
              "        text-align: right;\n",
              "    }\n",
              "</style>\n",
              "<table border=\"1\" class=\"dataframe\">\n",
              "  <thead>\n",
              "    <tr style=\"text-align: right;\">\n",
              "      <th></th>\n",
              "      <th>customerID</th>\n",
              "      <th>Partner</th>\n",
              "      <th>Dependents</th>\n",
              "      <th>PhoneService</th>\n",
              "      <th>MultipleLines</th>\n",
              "      <th>OnlineSecurity</th>\n",
              "      <th>OnlineBackup</th>\n",
              "      <th>DeviceProtection</th>\n",
              "      <th>TechSupport</th>\n",
              "      <th>StreamingTV</th>\n",
              "      <th>...</th>\n",
              "      <th>PaperlessBilling</th>\n",
              "      <th>gender_Female</th>\n",
              "      <th>gender_Male</th>\n",
              "      <th>InternetService_DSL</th>\n",
              "      <th>InternetService_Fiber optic</th>\n",
              "      <th>InternetService_No</th>\n",
              "      <th>PaymentMethod_Bank transfer (automatic)</th>\n",
              "      <th>PaymentMethod_Credit card (automatic)</th>\n",
              "      <th>PaymentMethod_Electronic check</th>\n",
              "      <th>PaymentMethod_Mailed check</th>\n",
              "    </tr>\n",
              "  </thead>\n",
              "  <tbody>\n",
              "    <tr>\n",
              "      <th>0</th>\n",
              "      <td>135.0</td>\n",
              "      <td>1.0</td>\n",
              "      <td>0.0</td>\n",
              "      <td>0.0</td>\n",
              "      <td>1.0</td>\n",
              "      <td>0.0</td>\n",
              "      <td>0.0</td>\n",
              "      <td>0.0</td>\n",
              "      <td>0.0</td>\n",
              "      <td>0.0</td>\n",
              "      <td>...</td>\n",
              "      <td>1.0</td>\n",
              "      <td>1.0</td>\n",
              "      <td>0.0</td>\n",
              "      <td>1.0</td>\n",
              "      <td>0.0</td>\n",
              "      <td>0.0</td>\n",
              "      <td>0.0</td>\n",
              "      <td>0.0</td>\n",
              "      <td>1.0</td>\n",
              "      <td>0.0</td>\n",
              "    </tr>\n",
              "    <tr>\n",
              "      <th>1</th>\n",
              "      <td>65.0</td>\n",
              "      <td>0.0</td>\n",
              "      <td>0.0</td>\n",
              "      <td>1.0</td>\n",
              "      <td>2.0</td>\n",
              "      <td>1.0</td>\n",
              "      <td>1.0</td>\n",
              "      <td>1.0</td>\n",
              "      <td>1.0</td>\n",
              "      <td>1.0</td>\n",
              "      <td>...</td>\n",
              "      <td>1.0</td>\n",
              "      <td>0.0</td>\n",
              "      <td>1.0</td>\n",
              "      <td>0.0</td>\n",
              "      <td>0.0</td>\n",
              "      <td>1.0</td>\n",
              "      <td>1.0</td>\n",
              "      <td>0.0</td>\n",
              "      <td>0.0</td>\n",
              "      <td>0.0</td>\n",
              "    </tr>\n",
              "    <tr>\n",
              "      <th>2</th>\n",
              "      <td>487.0</td>\n",
              "      <td>1.0</td>\n",
              "      <td>1.0</td>\n",
              "      <td>1.0</td>\n",
              "      <td>0.0</td>\n",
              "      <td>1.0</td>\n",
              "      <td>1.0</td>\n",
              "      <td>1.0</td>\n",
              "      <td>1.0</td>\n",
              "      <td>1.0</td>\n",
              "      <td>...</td>\n",
              "      <td>0.0</td>\n",
              "      <td>1.0</td>\n",
              "      <td>0.0</td>\n",
              "      <td>0.0</td>\n",
              "      <td>0.0</td>\n",
              "      <td>1.0</td>\n",
              "      <td>0.0</td>\n",
              "      <td>0.0</td>\n",
              "      <td>0.0</td>\n",
              "      <td>1.0</td>\n",
              "    </tr>\n",
              "    <tr>\n",
              "      <th>3</th>\n",
              "      <td>953.0</td>\n",
              "      <td>0.0</td>\n",
              "      <td>0.0</td>\n",
              "      <td>1.0</td>\n",
              "      <td>0.0</td>\n",
              "      <td>0.0</td>\n",
              "      <td>0.0</td>\n",
              "      <td>2.0</td>\n",
              "      <td>0.0</td>\n",
              "      <td>0.0</td>\n",
              "      <td>...</td>\n",
              "      <td>0.0</td>\n",
              "      <td>1.0</td>\n",
              "      <td>0.0</td>\n",
              "      <td>0.0</td>\n",
              "      <td>1.0</td>\n",
              "      <td>0.0</td>\n",
              "      <td>0.0</td>\n",
              "      <td>0.0</td>\n",
              "      <td>1.0</td>\n",
              "      <td>0.0</td>\n",
              "    </tr>\n",
              "    <tr>\n",
              "      <th>4</th>\n",
              "      <td>1194.0</td>\n",
              "      <td>0.0</td>\n",
              "      <td>0.0</td>\n",
              "      <td>1.0</td>\n",
              "      <td>0.0</td>\n",
              "      <td>0.0</td>\n",
              "      <td>0.0</td>\n",
              "      <td>0.0</td>\n",
              "      <td>2.0</td>\n",
              "      <td>0.0</td>\n",
              "      <td>...</td>\n",
              "      <td>0.0</td>\n",
              "      <td>0.0</td>\n",
              "      <td>1.0</td>\n",
              "      <td>1.0</td>\n",
              "      <td>0.0</td>\n",
              "      <td>0.0</td>\n",
              "      <td>1.0</td>\n",
              "      <td>0.0</td>\n",
              "      <td>0.0</td>\n",
              "      <td>0.0</td>\n",
              "    </tr>\n",
              "  </tbody>\n",
              "</table>\n",
              "<p>5 rows × 22 columns</p>\n",
              "</div>\n",
              "      <button class=\"colab-df-convert\" onclick=\"convertToInteractive('df-24109121-d421-4c4c-886a-526ff5a49620')\"\n",
              "              title=\"Convert this dataframe to an interactive table.\"\n",
              "              style=\"display:none;\">\n",
              "        \n",
              "  <svg xmlns=\"http://www.w3.org/2000/svg\" height=\"24px\"viewBox=\"0 0 24 24\"\n",
              "       width=\"24px\">\n",
              "    <path d=\"M0 0h24v24H0V0z\" fill=\"none\"/>\n",
              "    <path d=\"M18.56 5.44l.94 2.06.94-2.06 2.06-.94-2.06-.94-.94-2.06-.94 2.06-2.06.94zm-11 1L8.5 8.5l.94-2.06 2.06-.94-2.06-.94L8.5 2.5l-.94 2.06-2.06.94zm10 10l.94 2.06.94-2.06 2.06-.94-2.06-.94-.94-2.06-.94 2.06-2.06.94z\"/><path d=\"M17.41 7.96l-1.37-1.37c-.4-.4-.92-.59-1.43-.59-.52 0-1.04.2-1.43.59L10.3 9.45l-7.72 7.72c-.78.78-.78 2.05 0 2.83L4 21.41c.39.39.9.59 1.41.59.51 0 1.02-.2 1.41-.59l7.78-7.78 2.81-2.81c.8-.78.8-2.07 0-2.86zM5.41 20L4 18.59l7.72-7.72 1.47 1.35L5.41 20z\"/>\n",
              "  </svg>\n",
              "      </button>\n",
              "      \n",
              "  <style>\n",
              "    .colab-df-container {\n",
              "      display:flex;\n",
              "      flex-wrap:wrap;\n",
              "      gap: 12px;\n",
              "    }\n",
              "\n",
              "    .colab-df-convert {\n",
              "      background-color: #E8F0FE;\n",
              "      border: none;\n",
              "      border-radius: 50%;\n",
              "      cursor: pointer;\n",
              "      display: none;\n",
              "      fill: #1967D2;\n",
              "      height: 32px;\n",
              "      padding: 0 0 0 0;\n",
              "      width: 32px;\n",
              "    }\n",
              "\n",
              "    .colab-df-convert:hover {\n",
              "      background-color: #E2EBFA;\n",
              "      box-shadow: 0px 1px 2px rgba(60, 64, 67, 0.3), 0px 1px 3px 1px rgba(60, 64, 67, 0.15);\n",
              "      fill: #174EA6;\n",
              "    }\n",
              "\n",
              "    [theme=dark] .colab-df-convert {\n",
              "      background-color: #3B4455;\n",
              "      fill: #D2E3FC;\n",
              "    }\n",
              "\n",
              "    [theme=dark] .colab-df-convert:hover {\n",
              "      background-color: #434B5C;\n",
              "      box-shadow: 0px 1px 3px 1px rgba(0, 0, 0, 0.15);\n",
              "      filter: drop-shadow(0px 1px 2px rgba(0, 0, 0, 0.3));\n",
              "      fill: #FFFFFF;\n",
              "    }\n",
              "  </style>\n",
              "\n",
              "      <script>\n",
              "        const buttonEl =\n",
              "          document.querySelector('#df-24109121-d421-4c4c-886a-526ff5a49620 button.colab-df-convert');\n",
              "        buttonEl.style.display =\n",
              "          google.colab.kernel.accessAllowed ? 'block' : 'none';\n",
              "\n",
              "        async function convertToInteractive(key) {\n",
              "          const element = document.querySelector('#df-24109121-d421-4c4c-886a-526ff5a49620');\n",
              "          const dataTable =\n",
              "            await google.colab.kernel.invokeFunction('convertToInteractive',\n",
              "                                                     [key], {});\n",
              "          if (!dataTable) return;\n",
              "\n",
              "          const docLinkHtml = 'Like what you see? Visit the ' +\n",
              "            '<a target=\"_blank\" href=https://colab.research.google.com/notebooks/data_table.ipynb>data table notebook</a>'\n",
              "            + ' to learn more about interactive tables.';\n",
              "          element.innerHTML = '';\n",
              "          dataTable['output_type'] = 'display_data';\n",
              "          await google.colab.output.renderOutput(dataTable, element);\n",
              "          const docLink = document.createElement('div');\n",
              "          docLink.innerHTML = docLinkHtml;\n",
              "          element.appendChild(docLink);\n",
              "        }\n",
              "      </script>\n",
              "    </div>\n",
              "  </div>\n",
              "  "
            ]
          },
          "metadata": {},
          "execution_count": 41
        }
      ]
    },
    {
      "cell_type": "markdown",
      "source": [
        "# 3. Normalization"
      ],
      "metadata": {
        "id": "zHa2G4ipMDtN"
      }
    },
    {
      "cell_type": "code",
      "source": [
        "# from sklearn.preprocessing import RobustScaler\n",
        "\n",
        "# rs = RobustScaler()\n",
        "# rs_data = rs.fit_transform(df_dummy)\n",
        "# rs_scale = pd.DataFrame(rs_data)\n",
        "# rs_scale.columns = df_dummy.columns"
      ],
      "metadata": {
        "id": "O-6oU_6qR-_U"
      },
      "execution_count": 42,
      "outputs": []
    },
    {
      "cell_type": "code",
      "source": [
        "mms = MinMaxScaler()\n",
        "X_train_scaled = pd.DataFrame(mms.fit_transform(X_train_dummy), columns=X_train_dummy.columns).set_index(X_train_dummy.index)\n",
        "X_test_scaled = pd.DataFrame(mms.fit_transform(X_test_dummy), columns=X_test_dummy.columns).set_index(X_test_dummy.index)"
      ],
      "metadata": {
        "id": "ZNkcIOLNq-uj"
      },
      "execution_count": 43,
      "outputs": []
    },
    {
      "cell_type": "markdown",
      "source": [
        "# 4. Handling Imbalance"
      ],
      "metadata": {
        "id": "kG7fVGmoruqS"
      }
    },
    {
      "cell_type": "code",
      "source": [
        "# Define SMOTE Data Train\n",
        "smote = SMOTE(random_state=42)\n",
        "X_smote_train, Y_smote_train = smote.fit_resample(X_train_scaled, Y_train)\n",
        "\n",
        "print('Original dataset shape is', Counter(Y_train))\n",
        "print('Resample dataset shape is', Counter(Y_smote_train))\n",
        "print(\"\\n==========\")\n",
        "print(X_smote_train.shape)\n",
        "print(Y_smote_train.shape)\n",
        "\n",
        "print(\"\\n********************\")\n",
        "\n",
        "# Define SMOTE Data Test\n",
        "smote = SMOTE(random_state=42)\n",
        "X_smote_test, Y_smote_test = smote.fit_resample(X_test_scaled, Y_test)\n",
        "\n",
        "print('Original dataset shape is', Counter(Y_test))\n",
        "print('Resample dataset shape is', Counter(Y_smote_test))\n",
        "print(\"\\n==========\")\n",
        "print(X_smote_test.shape)\n",
        "print(Y_smote_test.shape)"
      ],
      "metadata": {
        "colab": {
          "base_uri": "https://localhost:8080/"
        },
        "id": "wIkWlqjta8QR",
        "outputId": "793fc44b-3bed-4190-dd61-37e72cf80ea8"
      },
      "execution_count": 44,
      "outputs": [
        {
          "output_type": "stream",
          "name": "stdout",
          "text": [
            "Original dataset shape is Counter({'No': 4138, 'Yes': 1496})\n",
            "Resample dataset shape is Counter({'No': 4138, 'Yes': 4138})\n",
            "\n",
            "==========\n",
            "(8276, 22)\n",
            "(8276,)\n",
            "\n",
            "********************\n",
            "Original dataset shape is Counter({'No': 1036, 'Yes': 373})\n",
            "Resample dataset shape is Counter({'Yes': 1036, 'No': 1036})\n",
            "\n",
            "==========\n",
            "(2072, 22)\n",
            "(2072,)\n"
          ]
        }
      ]
    },
    {
      "cell_type": "code",
      "source": [
        "X_smote_train.info()"
      ],
      "metadata": {
        "colab": {
          "base_uri": "https://localhost:8080/"
        },
        "id": "c3uHLSRo39FB",
        "outputId": "7913df41-a329-4151-ae50-dba33d440dea"
      },
      "execution_count": 45,
      "outputs": [
        {
          "output_type": "stream",
          "name": "stdout",
          "text": [
            "<class 'pandas.core.frame.DataFrame'>\n",
            "RangeIndex: 8276 entries, 0 to 8275\n",
            "Data columns (total 22 columns):\n",
            " #   Column                                   Non-Null Count  Dtype  \n",
            "---  ------                                   --------------  -----  \n",
            " 0   customerID                               8276 non-null   float64\n",
            " 1   Partner                                  8276 non-null   float64\n",
            " 2   Dependents                               8276 non-null   float64\n",
            " 3   PhoneService                             8276 non-null   float64\n",
            " 4   MultipleLines                            8276 non-null   float64\n",
            " 5   OnlineSecurity                           8276 non-null   float64\n",
            " 6   OnlineBackup                             8276 non-null   float64\n",
            " 7   DeviceProtection                         8276 non-null   float64\n",
            " 8   TechSupport                              8276 non-null   float64\n",
            " 9   StreamingTV                              8276 non-null   float64\n",
            " 10  StreamingMovies                          8276 non-null   float64\n",
            " 11  Contract                                 8276 non-null   float64\n",
            " 12  PaperlessBilling                         8276 non-null   float64\n",
            " 13  gender_Female                            8276 non-null   float64\n",
            " 14  gender_Male                              8276 non-null   float64\n",
            " 15  InternetService_DSL                      8276 non-null   float64\n",
            " 16  InternetService_Fiber optic              8276 non-null   float64\n",
            " 17  InternetService_No                       8276 non-null   float64\n",
            " 18  PaymentMethod_Bank transfer (automatic)  8276 non-null   float64\n",
            " 19  PaymentMethod_Credit card (automatic)    8276 non-null   float64\n",
            " 20  PaymentMethod_Electronic check           8276 non-null   float64\n",
            " 21  PaymentMethod_Mailed check               8276 non-null   float64\n",
            "dtypes: float64(22)\n",
            "memory usage: 1.4 MB\n"
          ]
        }
      ]
    },
    {
      "cell_type": "code",
      "source": [
        "X_smote_test.info()"
      ],
      "metadata": {
        "colab": {
          "base_uri": "https://localhost:8080/"
        },
        "id": "7tFCFW4o3-vJ",
        "outputId": "3df16673-dbec-40d7-c6e6-87ca34a73561"
      },
      "execution_count": 46,
      "outputs": [
        {
          "output_type": "stream",
          "name": "stdout",
          "text": [
            "<class 'pandas.core.frame.DataFrame'>\n",
            "RangeIndex: 2072 entries, 0 to 2071\n",
            "Data columns (total 22 columns):\n",
            " #   Column                                   Non-Null Count  Dtype  \n",
            "---  ------                                   --------------  -----  \n",
            " 0   customerID                               2072 non-null   float64\n",
            " 1   Partner                                  2072 non-null   float64\n",
            " 2   Dependents                               2072 non-null   float64\n",
            " 3   PhoneService                             2072 non-null   float64\n",
            " 4   MultipleLines                            2072 non-null   float64\n",
            " 5   OnlineSecurity                           2072 non-null   float64\n",
            " 6   OnlineBackup                             2072 non-null   float64\n",
            " 7   DeviceProtection                         2072 non-null   float64\n",
            " 8   TechSupport                              2072 non-null   float64\n",
            " 9   StreamingTV                              2072 non-null   float64\n",
            " 10  StreamingMovies                          2072 non-null   float64\n",
            " 11  Contract                                 2072 non-null   float64\n",
            " 12  PaperlessBilling                         2072 non-null   float64\n",
            " 13  gender_Female                            2072 non-null   float64\n",
            " 14  gender_Male                              2072 non-null   float64\n",
            " 15  InternetService_DSL                      2072 non-null   float64\n",
            " 16  InternetService_Fiber optic              2072 non-null   float64\n",
            " 17  InternetService_No                       2072 non-null   float64\n",
            " 18  PaymentMethod_Bank transfer (automatic)  2072 non-null   float64\n",
            " 19  PaymentMethod_Credit card (automatic)    2072 non-null   float64\n",
            " 20  PaymentMethod_Electronic check           2072 non-null   float64\n",
            " 21  PaymentMethod_Mailed check               2072 non-null   float64\n",
            "dtypes: float64(22)\n",
            "memory usage: 356.2 KB\n"
          ]
        }
      ]
    },
    {
      "cell_type": "markdown",
      "source": [
        "# 5. Modelling"
      ],
      "metadata": {
        "id": "I7MrZSlT_UPu"
      }
    },
    {
      "cell_type": "markdown",
      "source": [
        "### 6.1 Decision Tree, XGBoost & Naive Bayes"
      ],
      "metadata": {
        "id": "rm25j_90yntv"
      }
    },
    {
      "cell_type": "code",
      "source": [
        "from sklearn.tree import DecisionTreeClassifier\n",
        "from xgboost import XGBClassifier\n",
        "\n",
        "classifier = {\n",
        "    \"Decision Tree\": DecisionTreeClassifier(),\n",
        "    \"XGBoost\": XGBClassifier(),\n",
        "    \"Naive Bayes\": GaussianNB()\n",
        "}"
      ],
      "metadata": {
        "id": "1o0jNsewlBpJ"
      },
      "execution_count": 47,
      "outputs": []
    },
    {
      "cell_type": "code",
      "source": [
        "train_scores = []\n",
        "test_scores = []\n",
        "\n",
        "for key, model in classifier.items():\n",
        "  model.fit(X_smote_train, Y_smote_train)\n",
        "  train_score = model.score(X_smote_train, Y_smote_train)\n",
        "  train_scores.append(train_score)\n",
        "  test_score = model.score(X_smote_test, Y_smote_test)\n",
        "  test_scores.append(test_score)\n",
        "\n",
        "print(\"Hasil Nilai Data Train\\t:\", train_scores)\n",
        "print(\"Hasil Nilai Data Test\\t:\", test_scores)"
      ],
      "metadata": {
        "colab": {
          "base_uri": "https://localhost:8080/"
        },
        "id": "ZmjwvGELt2kH",
        "outputId": "4637b7e3-8b30-4a94-fff9-2f1e6b5bb776"
      },
      "execution_count": 48,
      "outputs": [
        {
          "output_type": "stream",
          "name": "stdout",
          "text": [
            "Hasil Nilai Data Train\t: [1.0, 0.8357902368293861, 0.7547124214596423]\n",
            "Hasil Nilai Data Test\t: [0.7480694980694981, 0.8354247104247104, 0.7755791505791506]\n"
          ]
        }
      ]
    },
    {
      "cell_type": "code",
      "source": [
        "klasifikasi = [\"Decision Tree\", \"XGBoost\", \"Naive Bayes\"]\n",
        "\n",
        "prediksi = pd.DataFrame({\"Metode\": klasifikasi, \"Nilai Data Train\": train_scores, \"Nilai Data Test\": test_scores})\n",
        "prediksi"
      ],
      "metadata": {
        "colab": {
          "base_uri": "https://localhost:8080/",
          "height": 144
        },
        "id": "FilwHljRvA_w",
        "outputId": "4f99b37a-998f-4490-db15-e2d7228c6d0d"
      },
      "execution_count": 49,
      "outputs": [
        {
          "output_type": "execute_result",
          "data": {
            "text/plain": [
              "          Metode  Nilai Data Train  Nilai Data Test\n",
              "0  Decision Tree          1.000000         0.748069\n",
              "1        XGBoost          0.835790         0.835425\n",
              "2    Naive Bayes          0.754712         0.775579"
            ],
            "text/html": [
              "\n",
              "  <div id=\"df-0fa8b86e-f1ee-422b-a2b5-13e7c02e5ec7\">\n",
              "    <div class=\"colab-df-container\">\n",
              "      <div>\n",
              "<style scoped>\n",
              "    .dataframe tbody tr th:only-of-type {\n",
              "        vertical-align: middle;\n",
              "    }\n",
              "\n",
              "    .dataframe tbody tr th {\n",
              "        vertical-align: top;\n",
              "    }\n",
              "\n",
              "    .dataframe thead th {\n",
              "        text-align: right;\n",
              "    }\n",
              "</style>\n",
              "<table border=\"1\" class=\"dataframe\">\n",
              "  <thead>\n",
              "    <tr style=\"text-align: right;\">\n",
              "      <th></th>\n",
              "      <th>Metode</th>\n",
              "      <th>Nilai Data Train</th>\n",
              "      <th>Nilai Data Test</th>\n",
              "    </tr>\n",
              "  </thead>\n",
              "  <tbody>\n",
              "    <tr>\n",
              "      <th>0</th>\n",
              "      <td>Decision Tree</td>\n",
              "      <td>1.000000</td>\n",
              "      <td>0.748069</td>\n",
              "    </tr>\n",
              "    <tr>\n",
              "      <th>1</th>\n",
              "      <td>XGBoost</td>\n",
              "      <td>0.835790</td>\n",
              "      <td>0.835425</td>\n",
              "    </tr>\n",
              "    <tr>\n",
              "      <th>2</th>\n",
              "      <td>Naive Bayes</td>\n",
              "      <td>0.754712</td>\n",
              "      <td>0.775579</td>\n",
              "    </tr>\n",
              "  </tbody>\n",
              "</table>\n",
              "</div>\n",
              "      <button class=\"colab-df-convert\" onclick=\"convertToInteractive('df-0fa8b86e-f1ee-422b-a2b5-13e7c02e5ec7')\"\n",
              "              title=\"Convert this dataframe to an interactive table.\"\n",
              "              style=\"display:none;\">\n",
              "        \n",
              "  <svg xmlns=\"http://www.w3.org/2000/svg\" height=\"24px\"viewBox=\"0 0 24 24\"\n",
              "       width=\"24px\">\n",
              "    <path d=\"M0 0h24v24H0V0z\" fill=\"none\"/>\n",
              "    <path d=\"M18.56 5.44l.94 2.06.94-2.06 2.06-.94-2.06-.94-.94-2.06-.94 2.06-2.06.94zm-11 1L8.5 8.5l.94-2.06 2.06-.94-2.06-.94L8.5 2.5l-.94 2.06-2.06.94zm10 10l.94 2.06.94-2.06 2.06-.94-2.06-.94-.94-2.06-.94 2.06-2.06.94z\"/><path d=\"M17.41 7.96l-1.37-1.37c-.4-.4-.92-.59-1.43-.59-.52 0-1.04.2-1.43.59L10.3 9.45l-7.72 7.72c-.78.78-.78 2.05 0 2.83L4 21.41c.39.39.9.59 1.41.59.51 0 1.02-.2 1.41-.59l7.78-7.78 2.81-2.81c.8-.78.8-2.07 0-2.86zM5.41 20L4 18.59l7.72-7.72 1.47 1.35L5.41 20z\"/>\n",
              "  </svg>\n",
              "      </button>\n",
              "      \n",
              "  <style>\n",
              "    .colab-df-container {\n",
              "      display:flex;\n",
              "      flex-wrap:wrap;\n",
              "      gap: 12px;\n",
              "    }\n",
              "\n",
              "    .colab-df-convert {\n",
              "      background-color: #E8F0FE;\n",
              "      border: none;\n",
              "      border-radius: 50%;\n",
              "      cursor: pointer;\n",
              "      display: none;\n",
              "      fill: #1967D2;\n",
              "      height: 32px;\n",
              "      padding: 0 0 0 0;\n",
              "      width: 32px;\n",
              "    }\n",
              "\n",
              "    .colab-df-convert:hover {\n",
              "      background-color: #E2EBFA;\n",
              "      box-shadow: 0px 1px 2px rgba(60, 64, 67, 0.3), 0px 1px 3px 1px rgba(60, 64, 67, 0.15);\n",
              "      fill: #174EA6;\n",
              "    }\n",
              "\n",
              "    [theme=dark] .colab-df-convert {\n",
              "      background-color: #3B4455;\n",
              "      fill: #D2E3FC;\n",
              "    }\n",
              "\n",
              "    [theme=dark] .colab-df-convert:hover {\n",
              "      background-color: #434B5C;\n",
              "      box-shadow: 0px 1px 3px 1px rgba(0, 0, 0, 0.15);\n",
              "      filter: drop-shadow(0px 1px 2px rgba(0, 0, 0, 0.3));\n",
              "      fill: #FFFFFF;\n",
              "    }\n",
              "  </style>\n",
              "\n",
              "      <script>\n",
              "        const buttonEl =\n",
              "          document.querySelector('#df-0fa8b86e-f1ee-422b-a2b5-13e7c02e5ec7 button.colab-df-convert');\n",
              "        buttonEl.style.display =\n",
              "          google.colab.kernel.accessAllowed ? 'block' : 'none';\n",
              "\n",
              "        async function convertToInteractive(key) {\n",
              "          const element = document.querySelector('#df-0fa8b86e-f1ee-422b-a2b5-13e7c02e5ec7');\n",
              "          const dataTable =\n",
              "            await google.colab.kernel.invokeFunction('convertToInteractive',\n",
              "                                                     [key], {});\n",
              "          if (!dataTable) return;\n",
              "\n",
              "          const docLinkHtml = 'Like what you see? Visit the ' +\n",
              "            '<a target=\"_blank\" href=https://colab.research.google.com/notebooks/data_table.ipynb>data table notebook</a>'\n",
              "            + ' to learn more about interactive tables.';\n",
              "          element.innerHTML = '';\n",
              "          dataTable['output_type'] = 'display_data';\n",
              "          await google.colab.output.renderOutput(dataTable, element);\n",
              "          const docLink = document.createElement('div');\n",
              "          docLink.innerHTML = docLinkHtml;\n",
              "          element.appendChild(docLink);\n",
              "        }\n",
              "      </script>\n",
              "    </div>\n",
              "  </div>\n",
              "  "
            ]
          },
          "metadata": {},
          "execution_count": 49
        }
      ]
    },
    {
      "cell_type": "markdown",
      "source": [
        "## 6.2 Decision Tree"
      ],
      "metadata": {
        "id": "YJj9Ufx9u2Ai"
      }
    },
    {
      "cell_type": "code",
      "source": [
        "model_dtc = DecisionTreeClassifier()\n",
        "Y_predict_dtc = model_dtc.fit(X_smote_train, Y_smote_train).predict(X_smote_test)"
      ],
      "metadata": {
        "id": "pMTJQWMcu2Os"
      },
      "execution_count": 50,
      "outputs": []
    },
    {
      "cell_type": "code",
      "source": [
        "print(confusion_matrix(Y_smote_test, Y_predict_dtc))\n",
        "print(classification_report(Y_smote_test, Y_predict_dtc, target_names=['No', 'Yes']))"
      ],
      "metadata": {
        "colab": {
          "base_uri": "https://localhost:8080/"
        },
        "id": "eslqKCCAvCw3",
        "outputId": "023f3c67-7a30-46b8-f256-920fe1472bc5"
      },
      "execution_count": 51,
      "outputs": [
        {
          "output_type": "stream",
          "name": "stdout",
          "text": [
            "[[804 232]\n",
            " [298 738]]\n",
            "              precision    recall  f1-score   support\n",
            "\n",
            "          No       0.73      0.78      0.75      1036\n",
            "         Yes       0.76      0.71      0.74      1036\n",
            "\n",
            "    accuracy                           0.74      2072\n",
            "   macro avg       0.75      0.74      0.74      2072\n",
            "weighted avg       0.75      0.74      0.74      2072\n",
            "\n"
          ]
        }
      ]
    },
    {
      "cell_type": "code",
      "source": [
        "print(\"Training Accuracy\\t:\", model_dtc.score(X_smote_train, Y_smote_train)*100)\n",
        "print(\"Testing Accuracy\\t:\", model_dtc.score(X_smote_test, Y_smote_test)*100)"
      ],
      "metadata": {
        "colab": {
          "base_uri": "https://localhost:8080/"
        },
        "id": "dXwrJhAixXFb",
        "outputId": "27ef1157-d010-4b4b-ffaf-fe98d58cca00"
      },
      "execution_count": 52,
      "outputs": [
        {
          "output_type": "stream",
          "name": "stdout",
          "text": [
            "Training Accuracy\t: 100.0\n",
            "Testing Accuracy\t: 74.42084942084942\n"
          ]
        }
      ]
    },
    {
      "cell_type": "markdown",
      "source": [
        "## 6.3 XGBoost"
      ],
      "metadata": {
        "id": "PFFXSf9orLnW"
      }
    },
    {
      "cell_type": "code",
      "source": [
        "model_xgb = XGBClassifier(\n",
        "    seed=30,\n",
        "    n_estimators=50,\n",
        "    min_child_weight=3,\n",
        "    learning_rate=0.3,\n",
        "    gamma=10,\n",
        "    colsample_bytree=0.5,\n",
        "    subsample=1,\n",
        "    max_depth=20,\n",
        "    eval_metric=\"logloss\",\n",
        "    use_label_encoder=False\n",
        ")\n",
        "Y_predict_xgb = model_xgb.fit(X_smote_train, Y_smote_train).predict(X_smote_test)"
      ],
      "metadata": {
        "id": "RNWakG6mrL0R"
      },
      "execution_count": 53,
      "outputs": []
    },
    {
      "cell_type": "code",
      "source": [
        "print(confusion_matrix(Y_smote_test, Y_predict_xgb))\n",
        "print(classification_report(Y_smote_test, Y_predict_xgb, target_names=['No', 'Yes']))"
      ],
      "metadata": {
        "colab": {
          "base_uri": "https://localhost:8080/"
        },
        "outputId": "3ef7f6f4-8f86-4151-af02-85879dd2664b",
        "id": "roCRElctwCON"
      },
      "execution_count": 54,
      "outputs": [
        {
          "output_type": "stream",
          "name": "stdout",
          "text": [
            "[[868 168]\n",
            " [149 887]]\n",
            "              precision    recall  f1-score   support\n",
            "\n",
            "          No       0.85      0.84      0.85      1036\n",
            "         Yes       0.84      0.86      0.85      1036\n",
            "\n",
            "    accuracy                           0.85      2072\n",
            "   macro avg       0.85      0.85      0.85      2072\n",
            "weighted avg       0.85      0.85      0.85      2072\n",
            "\n"
          ]
        }
      ]
    },
    {
      "cell_type": "code",
      "source": [
        "print(\"Training Accuracy\\t:\", model_xgb.score(X_smote_train, Y_smote_train)*100)\n",
        "print(\"Testing Accuracy\\t:\", model_xgb.score(X_smote_test, Y_smote_test)*100)"
      ],
      "metadata": {
        "colab": {
          "base_uri": "https://localhost:8080/"
        },
        "id": "NwgaZFL8xdOn",
        "outputId": "f47c7ee8-9f6f-4f7b-ac69-4f6786272462"
      },
      "execution_count": 55,
      "outputs": [
        {
          "output_type": "stream",
          "name": "stdout",
          "text": [
            "Training Accuracy\t: 84.95650072498792\n",
            "Testing Accuracy\t: 84.7007722007722\n"
          ]
        }
      ]
    },
    {
      "cell_type": "markdown",
      "source": [
        "## 6.4 Naive Bayes (Confusion Matrix)"
      ],
      "metadata": {
        "id": "BZsKOz4UpAYN"
      }
    },
    {
      "cell_type": "code",
      "source": [
        "nbc = GaussianNB()\n",
        "nbc.fit(X_smote_train, Y_smote_train)"
      ],
      "metadata": {
        "colab": {
          "base_uri": "https://localhost:8080/"
        },
        "id": "wb6hD7FvpAiv",
        "outputId": "b0f40a84-e38c-44a9-b597-836f4fae9728"
      },
      "execution_count": 56,
      "outputs": [
        {
          "output_type": "execute_result",
          "data": {
            "text/plain": [
              "GaussianNB()"
            ]
          },
          "metadata": {},
          "execution_count": 56
        }
      ]
    },
    {
      "cell_type": "code",
      "source": [
        "Y_pred_nbc = nbc.predict(X_smote_test)\n",
        "\n",
        "cm = confusion_matrix(Y_smote_test, Y_pred_nbc)\n",
        "print(cm)\n",
        "# sns.heatmap(cm, annot=True, cmap=plt.cm.Blues)\n",
        "\n",
        "# plt.xlabel('Predicted Label')\n",
        "# plt.ylabel('Actual Label')\n",
        "# plt.title(\"Confusion Matrix Random Forest with SMOTE\", fontsize=14, fontname=\"Helvetica\")"
      ],
      "metadata": {
        "colab": {
          "base_uri": "https://localhost:8080/"
        },
        "id": "OTzVTRbipTNx",
        "outputId": "67193b18-9a72-4295-8d3d-0ad6c87d7959"
      },
      "execution_count": 57,
      "outputs": [
        {
          "output_type": "stream",
          "name": "stdout",
          "text": [
            "[[751 285]\n",
            " [180 856]]\n"
          ]
        }
      ]
    },
    {
      "cell_type": "code",
      "execution_count": 58,
      "metadata": {
        "execution": {
          "iopub.execute_input": "2021-09-25T11:36:33.152992Z",
          "iopub.status.busy": "2021-09-25T11:36:33.152314Z",
          "iopub.status.idle": "2021-09-25T11:36:33.161724Z",
          "shell.execute_reply": "2021-09-25T11:36:33.161167Z",
          "shell.execute_reply.started": "2021-09-25T11:34:02.151528Z"
        },
        "papermill": {
          "duration": 0.080279,
          "end_time": "2021-09-25T11:36:33.161878",
          "exception": false,
          "start_time": "2021-09-25T11:36:33.081599",
          "status": "completed"
        },
        "tags": [],
        "outputId": "bf21df6c-2f3f-4a3a-8534-3f55b1bd2ee5",
        "colab": {
          "base_uri": "https://localhost:8080/"
        },
        "id": "-iPtmhqTqblB"
      },
      "outputs": [
        {
          "output_type": "stream",
          "name": "stdout",
          "text": [
            "              precision    recall  f1-score   support\n",
            "\n",
            "          No       0.81      0.72      0.76      1036\n",
            "         Yes       0.75      0.83      0.79      1036\n",
            "\n",
            "    accuracy                           0.78      2072\n",
            "   macro avg       0.78      0.78      0.78      2072\n",
            "weighted avg       0.78      0.78      0.78      2072\n",
            "\n"
          ]
        }
      ],
      "source": [
        "print(metrics.classification_report(Y_smote_test, Y_pred_nbc))"
      ]
    },
    {
      "cell_type": "code",
      "source": [
        "print(\"Training Accuracy\\t:\", nbc.score(X_smote_train, Y_smote_train)*100)\n",
        "print(\"Testing Accuracy\\t:\", nbc.score(X_smote_test, Y_smote_test)*100)"
      ],
      "metadata": {
        "colab": {
          "base_uri": "https://localhost:8080/"
        },
        "outputId": "86b7668f-afcf-445e-ffde-0ed77323501a",
        "id": "6tBgQx2_qbk_"
      },
      "execution_count": 59,
      "outputs": [
        {
          "output_type": "stream",
          "name": "stdout",
          "text": [
            "Training Accuracy\t: 75.47124214596424\n",
            "Testing Accuracy\t: 77.55791505791507\n"
          ]
        }
      ]
    },
    {
      "cell_type": "markdown",
      "source": [
        "## 6.5 Random Forest"
      ],
      "metadata": {
        "id": "85FdBiS784Z5"
      }
    },
    {
      "cell_type": "code",
      "execution_count": 60,
      "metadata": {
        "execution": {
          "iopub.execute_input": "2021-09-25T11:36:32.126495Z",
          "iopub.status.busy": "2021-09-25T11:36:32.125853Z",
          "iopub.status.idle": "2021-09-25T11:36:32.453531Z",
          "shell.execute_reply": "2021-09-25T11:36:32.453036Z",
          "shell.execute_reply.started": "2021-09-25T11:34:01.445906Z"
        },
        "papermill": {
          "duration": 0.405915,
          "end_time": "2021-09-25T11:36:32.453669",
          "exception": false,
          "start_time": "2021-09-25T11:36:32.047754",
          "status": "completed"
        },
        "tags": [],
        "outputId": "b2dcb9d9-48e8-4c90-f3f5-c24c86779c25",
        "colab": {
          "base_uri": "https://localhost:8080/"
        },
        "id": "--XTtsqJTvHS"
      },
      "outputs": [
        {
          "output_type": "execute_result",
          "data": {
            "text/plain": [
              "RandomForestClassifier(n_estimators=200, random_state=42)"
            ]
          },
          "metadata": {},
          "execution_count": 60
        }
      ],
      "source": [
        "model_rfc = RandomForestClassifier(n_estimators=200, random_state=42)\n",
        "model_rfc.fit(X_smote_train, Y_smote_train)"
      ]
    },
    {
      "cell_type": "code",
      "execution_count": 61,
      "metadata": {
        "execution": {
          "iopub.execute_input": "2021-09-25T11:36:32.748873Z",
          "iopub.status.busy": "2021-09-25T11:36:32.747654Z",
          "iopub.status.idle": "2021-09-25T11:36:33.013412Z",
          "shell.execute_reply": "2021-09-25T11:36:33.013913Z",
          "shell.execute_reply.started": "2021-09-25T11:34:01.849554Z"
        },
        "papermill": {
          "duration": 0.340846,
          "end_time": "2021-09-25T11:36:33.014091",
          "exception": false,
          "start_time": "2021-09-25T11:36:32.673245",
          "status": "completed"
        },
        "tags": [],
        "outputId": "b3234d1b-7580-47f5-eedf-866c10f9d7b6",
        "colab": {
          "base_uri": "https://localhost:8080/"
        },
        "id": "tdfsnniaTvHT"
      },
      "outputs": [
        {
          "output_type": "stream",
          "name": "stdout",
          "text": [
            "[[866 170]\n",
            " [272 764]]\n"
          ]
        }
      ],
      "source": [
        "# Confusion Matrix of Random Forest Classifier\n",
        "Y_pred_rfc = model_rfc.predict(X_smote_test)\n",
        "\n",
        "cm = confusion_matrix(Y_smote_test, Y_pred_rfc)\n",
        "print(cm)\n",
        "# sns.heatmap(cm, annot=True, cmap=plt.cm.Blues)\n",
        "\n",
        "# plt.xlabel('Predicted Label')\n",
        "# plt.ylabel('Actual Label')\n",
        "# plt.title(\"Confusion Matrix Random Forest with SMOTE\", fontsize=14, fontname=\"Helvetica\")"
      ]
    },
    {
      "cell_type": "code",
      "execution_count": 62,
      "metadata": {
        "execution": {
          "iopub.execute_input": "2021-09-25T11:36:33.152992Z",
          "iopub.status.busy": "2021-09-25T11:36:33.152314Z",
          "iopub.status.idle": "2021-09-25T11:36:33.161724Z",
          "shell.execute_reply": "2021-09-25T11:36:33.161167Z",
          "shell.execute_reply.started": "2021-09-25T11:34:02.151528Z"
        },
        "papermill": {
          "duration": 0.080279,
          "end_time": "2021-09-25T11:36:33.161878",
          "exception": false,
          "start_time": "2021-09-25T11:36:33.081599",
          "status": "completed"
        },
        "tags": [],
        "outputId": "3fe75bd0-60f5-4df7-feef-6bdda7d19dc7",
        "colab": {
          "base_uri": "https://localhost:8080/"
        },
        "id": "sjguOM37TvHT"
      },
      "outputs": [
        {
          "output_type": "stream",
          "name": "stdout",
          "text": [
            "              precision    recall  f1-score   support\n",
            "\n",
            "          No       0.76      0.84      0.80      1036\n",
            "         Yes       0.82      0.74      0.78      1036\n",
            "\n",
            "    accuracy                           0.79      2072\n",
            "   macro avg       0.79      0.79      0.79      2072\n",
            "weighted avg       0.79      0.79      0.79      2072\n",
            "\n"
          ]
        }
      ],
      "source": [
        "print(metrics.classification_report(Y_smote_test, Y_pred_rfc))"
      ]
    },
    {
      "cell_type": "code",
      "source": [
        "print(\"Training Accuracy\\t:\", model_rfc.score(X_smote_train, Y_smote_train)*100)\n",
        "print(\"Testing Accuracy\\t:\", model_rfc.score(X_smote_test, Y_smote_test)*100)"
      ],
      "metadata": {
        "colab": {
          "base_uri": "https://localhost:8080/"
        },
        "outputId": "185a0c5a-34a2-429c-d382-501290b0421f",
        "id": "v_ojXn7DTvHT"
      },
      "execution_count": 63,
      "outputs": [
        {
          "output_type": "stream",
          "name": "stdout",
          "text": [
            "Training Accuracy\t: 100.0\n",
            "Testing Accuracy\t: 78.66795366795367\n"
          ]
        }
      ]
    },
    {
      "cell_type": "markdown",
      "source": [
        "## 6.6 LightGBM"
      ],
      "metadata": {
        "id": "MawM-h0Q5ZOV"
      }
    },
    {
      "cell_type": "code",
      "source": [
        "!pip install lightgbm\n",
        "import lightgbm as lgbm"
      ],
      "metadata": {
        "colab": {
          "base_uri": "https://localhost:8080/"
        },
        "id": "RP4CRoHgdIJr",
        "outputId": "77a546b4-9208-4e5b-cea2-b3a779a3f2db"
      },
      "execution_count": 64,
      "outputs": [
        {
          "output_type": "stream",
          "name": "stdout",
          "text": [
            "Looking in indexes: https://pypi.org/simple, https://us-python.pkg.dev/colab-wheels/public/simple/\n",
            "Requirement already satisfied: lightgbm in /usr/local/lib/python3.8/dist-packages (2.2.3)\n",
            "Requirement already satisfied: scikit-learn in /usr/local/lib/python3.8/dist-packages (from lightgbm) (1.0.2)\n",
            "Requirement already satisfied: numpy in /usr/local/lib/python3.8/dist-packages (from lightgbm) (1.21.6)\n",
            "Requirement already satisfied: scipy in /usr/local/lib/python3.8/dist-packages (from lightgbm) (1.7.3)\n",
            "Requirement already satisfied: joblib>=0.11 in /usr/local/lib/python3.8/dist-packages (from scikit-learn->lightgbm) (1.2.0)\n",
            "Requirement already satisfied: threadpoolctl>=2.0.0 in /usr/local/lib/python3.8/dist-packages (from scikit-learn->lightgbm) (3.1.0)\n"
          ]
        }
      ]
    },
    {
      "cell_type": "code",
      "source": [
        "model_lgbm = lgbm.LGBMClassifier()\n",
        "model_lgbm.fit(X_smote_train, Y_smote_train)"
      ],
      "metadata": {
        "colab": {
          "base_uri": "https://localhost:8080/"
        },
        "outputId": "bd1c17a6-bca9-473e-e427-f878d8eb89ab",
        "id": "CRGZKRcQ6QlN"
      },
      "execution_count": 65,
      "outputs": [
        {
          "output_type": "execute_result",
          "data": {
            "text/plain": [
              "LGBMClassifier()"
            ]
          },
          "metadata": {},
          "execution_count": 65
        }
      ]
    },
    {
      "cell_type": "code",
      "source": [
        "Y_train_lgbm = model_lgbm.predict(X_smote_train)\n",
        "Y_test_lgbm = model_lgbm.predict(X_smote_test)"
      ],
      "metadata": {
        "id": "gCj6tPFrdnRL"
      },
      "execution_count": 77,
      "outputs": []
    },
    {
      "cell_type": "code",
      "source": [
        "# Evaluation Metrics\n",
        "def classification_eval (aktual, prediksi, name):\n",
        "    cm = confusion_matrix(aktual, prediksi)\n",
        "    tp = cm[1][1]\n",
        "    tn = cm[0][0]\n",
        "    fp = cm[0][1]\n",
        "    fn = cm[1][0]\n",
        "    \n",
        "    accuracy = round((tp + tn) / (tp + tn + fp + fn) * 100, 2)\n",
        "    precision = round((tp) / (tp + fp) * 100, 2)\n",
        "    recall = round((tp) / (tp + fn) * 100, 2)\n",
        "    f1_score = round((2 * (precision * recall) / (precision + recall)))\n",
        "    \n",
        "    print('Evaluation Model:', name)\n",
        "    print(cm)\n",
        "    print('Accuracy   :', accuracy, '%')\n",
        "    print('Precision  :', precision, '%')\n",
        "    print('Recall     :', recall, '%')\n",
        "    print('F1_Score   :', f1_score, '%')"
      ],
      "metadata": {
        "id": "HQ2e7jAT6wBN"
      },
      "execution_count": 80,
      "outputs": []
    },
    {
      "cell_type": "code",
      "source": [
        "classification_eval(Y_smote_test, Y_test_lgbm, 'LightGBM Testing')"
      ],
      "metadata": {
        "colab": {
          "base_uri": "https://localhost:8080/"
        },
        "id": "dRe7kwyd6_W1",
        "outputId": "54fdff0d-745e-42a8-ac7a-dc6b991725d4"
      },
      "execution_count": 82,
      "outputs": [
        {
          "output_type": "stream",
          "name": "stdout",
          "text": [
            "Evaluation Model: LightGBM Testing\n",
            "[[872 164]\n",
            " [158 878]]\n",
            "Accuracy   : 84.46 %\n",
            "Precision  : 84.26 %\n",
            "Recall     : 84.75 %\n",
            "F1_Score   : 85 %\n"
          ]
        }
      ]
    },
    {
      "cell_type": "code",
      "source": [
        "print(confusion_matrix(Y_smote_test, Y_test_lgbm))\n",
        "print(classification_report(Y_smote_test, Y_test_lgbm, target_names=['No', 'Yes']))"
      ],
      "metadata": {
        "colab": {
          "base_uri": "https://localhost:8080/"
        },
        "outputId": "8e136bb8-904f-4f0f-8aff-2195f26e2029",
        "id": "lalKurJX6AQG"
      },
      "execution_count": 70,
      "outputs": [
        {
          "output_type": "stream",
          "name": "stdout",
          "text": [
            "[[872 164]\n",
            " [158 878]]\n",
            "              precision    recall  f1-score   support\n",
            "\n",
            "          No       0.85      0.84      0.84      1036\n",
            "         Yes       0.84      0.85      0.85      1036\n",
            "\n",
            "    accuracy                           0.84      2072\n",
            "   macro avg       0.84      0.84      0.84      2072\n",
            "weighted avg       0.84      0.84      0.84      2072\n",
            "\n"
          ]
        }
      ]
    },
    {
      "cell_type": "code",
      "source": [
        "print(\"Training Accuracy\\t:\", model_lgbm.score(X_smote_train, Y_smote_train)*100)\n",
        "print(\"Testing Accuracy\\t:\", model_lgbm.score(X_smote_test, Y_smote_test)*100)"
      ],
      "metadata": {
        "colab": {
          "base_uri": "https://localhost:8080/"
        },
        "outputId": "b0672380-4bce-4078-8b93-b05f1996d943",
        "id": "iVxEE7Gn6AQH"
      },
      "execution_count": 71,
      "outputs": [
        {
          "output_type": "stream",
          "name": "stdout",
          "text": [
            "Training Accuracy\t: 88.7989366843886\n",
            "Testing Accuracy\t: 84.45945945945947\n"
          ]
        }
      ]
    },
    {
      "cell_type": "markdown",
      "source": [
        "# EVALUATION"
      ],
      "metadata": {
        "id": "S5VcpvIA4pBK"
      }
    },
    {
      "cell_type": "code",
      "execution_count": 72,
      "metadata": {
        "execution": {
          "iopub.execute_input": "2022-08-28T11:18:56.779329Z",
          "iopub.status.busy": "2022-08-28T11:18:56.778996Z",
          "iopub.status.idle": "2022-08-28T11:18:56.787680Z",
          "shell.execute_reply": "2022-08-28T11:18:56.786740Z"
        },
        "papermill": {
          "duration": 0.031652,
          "end_time": "2022-08-28T11:18:56.789176",
          "exception": false,
          "start_time": "2022-08-28T11:18:56.757524",
          "status": "completed"
        },
        "tags": [],
        "id": "c12c5455",
        "colab": {
          "base_uri": "https://localhost:8080/"
        },
        "outputId": "ae476414-9a49-4e3f-f053-5f813e74b6fe"
      },
      "outputs": [
        {
          "output_type": "stream",
          "name": "stdout",
          "text": [
            "Looking in indexes: https://pypi.org/simple, https://us-python.pkg.dev/colab-wheels/public/simple/\n",
            "Requirement already satisfied: catboost in /usr/local/lib/python3.8/dist-packages (1.1.1)\n",
            "Requirement already satisfied: scipy in /usr/local/lib/python3.8/dist-packages (from catboost) (1.7.3)\n",
            "Requirement already satisfied: six in /usr/local/lib/python3.8/dist-packages (from catboost) (1.15.0)\n",
            "Requirement already satisfied: plotly in /usr/local/lib/python3.8/dist-packages (from catboost) (5.5.0)\n",
            "Requirement already satisfied: numpy>=1.16.0 in /usr/local/lib/python3.8/dist-packages (from catboost) (1.21.6)\n",
            "Requirement already satisfied: matplotlib in /usr/local/lib/python3.8/dist-packages (from catboost) (3.2.2)\n",
            "Requirement already satisfied: pandas>=0.24.0 in /usr/local/lib/python3.8/dist-packages (from catboost) (1.3.5)\n",
            "Requirement already satisfied: graphviz in /usr/local/lib/python3.8/dist-packages (from catboost) (0.10.1)\n",
            "Requirement already satisfied: python-dateutil>=2.7.3 in /usr/local/lib/python3.8/dist-packages (from pandas>=0.24.0->catboost) (2.8.2)\n",
            "Requirement already satisfied: pytz>=2017.3 in /usr/local/lib/python3.8/dist-packages (from pandas>=0.24.0->catboost) (2022.7)\n",
            "Requirement already satisfied: pyparsing!=2.0.4,!=2.1.2,!=2.1.6,>=2.0.1 in /usr/local/lib/python3.8/dist-packages (from matplotlib->catboost) (3.0.9)\n",
            "Requirement already satisfied: kiwisolver>=1.0.1 in /usr/local/lib/python3.8/dist-packages (from matplotlib->catboost) (1.4.4)\n",
            "Requirement already satisfied: cycler>=0.10 in /usr/local/lib/python3.8/dist-packages (from matplotlib->catboost) (0.11.0)\n",
            "Requirement already satisfied: tenacity>=6.2.0 in /usr/local/lib/python3.8/dist-packages (from plotly->catboost) (8.1.0)\n"
          ]
        }
      ],
      "source": [
        "from sklearn.linear_model import LogisticRegression\n",
        "from sklearn.neighbors import KNeighborsClassifier\n",
        "from sklearn.naive_bayes import GaussianNB\n",
        "from sklearn.ensemble import RandomForestClassifier, GradientBoostingClassifier\n",
        "\n",
        "from xgboost import XGBClassifier\n",
        "!pip install catboost\n",
        "from catboost import CatBoostClassifier"
      ]
    },
    {
      "cell_type": "code",
      "source": [
        "models = {\n",
        "    'logistic regression' : LogisticRegression(),\n",
        "    'xgboost' : XGBClassifier(),\n",
        "    'catboost' : CatBoostClassifier(verbose=0),\n",
        "    'gradient boosing' : GradientBoostingClassifier(),\n",
        "    'naive bayes' : GaussianNB(),\n",
        "    'random forest' : RandomForestClassifier()\n",
        "}"
      ],
      "metadata": {
        "id": "gFdELxPB30PU"
      },
      "execution_count": 73,
      "outputs": []
    },
    {
      "cell_type": "code",
      "execution_count": 74,
      "metadata": {
        "_kg_hide-input": false,
        "execution": {
          "iopub.execute_input": "2022-08-28T11:18:56.830933Z",
          "iopub.status.busy": "2022-08-28T11:18:56.830442Z",
          "iopub.status.idle": "2022-08-28T11:19:01.825745Z",
          "shell.execute_reply": "2022-08-28T11:19:01.824085Z"
        },
        "papermill": {
          "duration": 5.018644,
          "end_time": "2022-08-28T11:19:01.827887",
          "exception": false,
          "start_time": "2022-08-28T11:18:56.809243",
          "status": "completed"
        },
        "tags": [],
        "id": "457220f6",
        "outputId": "be3a0539-1543-412c-e414-aac5c1f418f5",
        "colab": {
          "base_uri": "https://localhost:8080/"
        }
      },
      "outputs": [
        {
          "output_type": "stream",
          "name": "stdout",
          "text": [
            "logistic regression trained\n",
            "xgboost trained\n",
            "catboost trained\n",
            "gradient boosing trained\n",
            "naive bayes trained\n",
            "random forest trained\n"
          ]
        }
      ],
      "source": [
        "for name, model in models.items():\n",
        "    model.fit(X_smote_train, Y_smote_train)\n",
        "    print(f'{name} trained')"
      ]
    },
    {
      "cell_type": "code",
      "execution_count": 75,
      "metadata": {
        "execution": {
          "iopub.execute_input": "2022-08-28T11:19:01.912198Z",
          "iopub.status.busy": "2022-08-28T11:19:01.911854Z",
          "iopub.status.idle": "2022-08-28T11:19:45.055502Z",
          "shell.execute_reply": "2022-08-28T11:19:45.053978Z"
        },
        "papermill": {
          "duration": 43.167699,
          "end_time": "2022-08-28T11:19:45.058030",
          "exception": false,
          "start_time": "2022-08-28T11:19:01.890331",
          "status": "completed"
        },
        "tags": [],
        "id": "51a11044",
        "colab": {
          "base_uri": "https://localhost:8080/"
        },
        "outputId": "baf6088c-56d7-4e27-933b-1383cb963681"
      },
      "outputs": [
        {
          "output_type": "stream",
          "name": "stderr",
          "text": [
            "/usr/local/lib/python3.8/dist-packages/sklearn/model_selection/_validation.py:770: UserWarning: Scoring failed. The score on this train-test partition for these parameters will be set to nan. Details: \n",
            "Traceback (most recent call last):\n",
            "  File \"/usr/local/lib/python3.8/dist-packages/sklearn/model_selection/_validation.py\", line 761, in _score\n",
            "    scores = scorer(estimator, X_test, y_test)\n",
            "  File \"/usr/local/lib/python3.8/dist-packages/sklearn/metrics/_scorer.py\", line 103, in __call__\n",
            "    score = scorer._score(cached_call, estimator, *args, **kwargs)\n",
            "  File \"/usr/local/lib/python3.8/dist-packages/sklearn/metrics/_scorer.py\", line 381, in _score\n",
            "    return self._sign * self._score_func(y, y_pred, **self._kwargs)\n",
            "  File \"/usr/local/lib/python3.8/dist-packages/sklearn/metrics/_ranking.py\", line 567, in roc_auc_score\n",
            "    return _average_binary_score(\n",
            "  File \"/usr/local/lib/python3.8/dist-packages/sklearn/metrics/_base.py\", line 75, in _average_binary_score\n",
            "    return binary_metric(y_true, y_score, sample_weight=sample_weight)\n",
            "  File \"/usr/local/lib/python3.8/dist-packages/sklearn/metrics/_ranking.py\", line 337, in _binary_roc_auc_score\n",
            "    raise ValueError(\n",
            "ValueError: Only one class present in y_true. ROC AUC score is not defined in that case.\n",
            "\n",
            "  warnings.warn(\n",
            "/usr/local/lib/python3.8/dist-packages/sklearn/model_selection/_validation.py:770: UserWarning: Scoring failed. The score on this train-test partition for these parameters will be set to nan. Details: \n",
            "Traceback (most recent call last):\n",
            "  File \"/usr/local/lib/python3.8/dist-packages/sklearn/model_selection/_validation.py\", line 761, in _score\n",
            "    scores = scorer(estimator, X_test, y_test)\n",
            "  File \"/usr/local/lib/python3.8/dist-packages/sklearn/metrics/_scorer.py\", line 103, in __call__\n",
            "    score = scorer._score(cached_call, estimator, *args, **kwargs)\n",
            "  File \"/usr/local/lib/python3.8/dist-packages/sklearn/metrics/_scorer.py\", line 381, in _score\n",
            "    return self._sign * self._score_func(y, y_pred, **self._kwargs)\n",
            "  File \"/usr/local/lib/python3.8/dist-packages/sklearn/metrics/_ranking.py\", line 567, in roc_auc_score\n",
            "    return _average_binary_score(\n",
            "  File \"/usr/local/lib/python3.8/dist-packages/sklearn/metrics/_base.py\", line 75, in _average_binary_score\n",
            "    return binary_metric(y_true, y_score, sample_weight=sample_weight)\n",
            "  File \"/usr/local/lib/python3.8/dist-packages/sklearn/metrics/_ranking.py\", line 337, in _binary_roc_auc_score\n",
            "    raise ValueError(\n",
            "ValueError: Only one class present in y_true. ROC AUC score is not defined in that case.\n",
            "\n",
            "  warnings.warn(\n",
            "/usr/local/lib/python3.8/dist-packages/sklearn/model_selection/_validation.py:770: UserWarning: Scoring failed. The score on this train-test partition for these parameters will be set to nan. Details: \n",
            "Traceback (most recent call last):\n",
            "  File \"/usr/local/lib/python3.8/dist-packages/sklearn/model_selection/_validation.py\", line 761, in _score\n",
            "    scores = scorer(estimator, X_test, y_test)\n",
            "  File \"/usr/local/lib/python3.8/dist-packages/sklearn/metrics/_scorer.py\", line 103, in __call__\n",
            "    score = scorer._score(cached_call, estimator, *args, **kwargs)\n",
            "  File \"/usr/local/lib/python3.8/dist-packages/sklearn/metrics/_scorer.py\", line 381, in _score\n",
            "    return self._sign * self._score_func(y, y_pred, **self._kwargs)\n",
            "  File \"/usr/local/lib/python3.8/dist-packages/sklearn/metrics/_ranking.py\", line 567, in roc_auc_score\n",
            "    return _average_binary_score(\n",
            "  File \"/usr/local/lib/python3.8/dist-packages/sklearn/metrics/_base.py\", line 75, in _average_binary_score\n",
            "    return binary_metric(y_true, y_score, sample_weight=sample_weight)\n",
            "  File \"/usr/local/lib/python3.8/dist-packages/sklearn/metrics/_ranking.py\", line 337, in _binary_roc_auc_score\n",
            "    raise ValueError(\n",
            "ValueError: Only one class present in y_true. ROC AUC score is not defined in that case.\n",
            "\n",
            "  warnings.warn(\n",
            "/usr/local/lib/python3.8/dist-packages/sklearn/model_selection/_validation.py:770: UserWarning: Scoring failed. The score on this train-test partition for these parameters will be set to nan. Details: \n",
            "Traceback (most recent call last):\n",
            "  File \"/usr/local/lib/python3.8/dist-packages/sklearn/model_selection/_validation.py\", line 761, in _score\n",
            "    scores = scorer(estimator, X_test, y_test)\n",
            "  File \"/usr/local/lib/python3.8/dist-packages/sklearn/metrics/_scorer.py\", line 103, in __call__\n",
            "    score = scorer._score(cached_call, estimator, *args, **kwargs)\n",
            "  File \"/usr/local/lib/python3.8/dist-packages/sklearn/metrics/_scorer.py\", line 381, in _score\n",
            "    return self._sign * self._score_func(y, y_pred, **self._kwargs)\n",
            "  File \"/usr/local/lib/python3.8/dist-packages/sklearn/metrics/_ranking.py\", line 567, in roc_auc_score\n",
            "    return _average_binary_score(\n",
            "  File \"/usr/local/lib/python3.8/dist-packages/sklearn/metrics/_base.py\", line 75, in _average_binary_score\n",
            "    return binary_metric(y_true, y_score, sample_weight=sample_weight)\n",
            "  File \"/usr/local/lib/python3.8/dist-packages/sklearn/metrics/_ranking.py\", line 337, in _binary_roc_auc_score\n",
            "    raise ValueError(\n",
            "ValueError: Only one class present in y_true. ROC AUC score is not defined in that case.\n",
            "\n",
            "  warnings.warn(\n",
            "/usr/local/lib/python3.8/dist-packages/sklearn/model_selection/_validation.py:770: UserWarning: Scoring failed. The score on this train-test partition for these parameters will be set to nan. Details: \n",
            "Traceback (most recent call last):\n",
            "  File \"/usr/local/lib/python3.8/dist-packages/sklearn/model_selection/_validation.py\", line 761, in _score\n",
            "    scores = scorer(estimator, X_test, y_test)\n",
            "  File \"/usr/local/lib/python3.8/dist-packages/sklearn/metrics/_scorer.py\", line 103, in __call__\n",
            "    score = scorer._score(cached_call, estimator, *args, **kwargs)\n",
            "  File \"/usr/local/lib/python3.8/dist-packages/sklearn/metrics/_scorer.py\", line 381, in _score\n",
            "    return self._sign * self._score_func(y, y_pred, **self._kwargs)\n",
            "  File \"/usr/local/lib/python3.8/dist-packages/sklearn/metrics/_ranking.py\", line 567, in roc_auc_score\n",
            "    return _average_binary_score(\n",
            "  File \"/usr/local/lib/python3.8/dist-packages/sklearn/metrics/_base.py\", line 75, in _average_binary_score\n",
            "    return binary_metric(y_true, y_score, sample_weight=sample_weight)\n",
            "  File \"/usr/local/lib/python3.8/dist-packages/sklearn/metrics/_ranking.py\", line 337, in _binary_roc_auc_score\n",
            "    raise ValueError(\n",
            "ValueError: Only one class present in y_true. ROC AUC score is not defined in that case.\n",
            "\n",
            "  warnings.warn(\n",
            "/usr/local/lib/python3.8/dist-packages/sklearn/model_selection/_validation.py:770: UserWarning: Scoring failed. The score on this train-test partition for these parameters will be set to nan. Details: \n",
            "Traceback (most recent call last):\n",
            "  File \"/usr/local/lib/python3.8/dist-packages/sklearn/model_selection/_validation.py\", line 761, in _score\n",
            "    scores = scorer(estimator, X_test, y_test)\n",
            "  File \"/usr/local/lib/python3.8/dist-packages/sklearn/metrics/_scorer.py\", line 103, in __call__\n",
            "    score = scorer._score(cached_call, estimator, *args, **kwargs)\n",
            "  File \"/usr/local/lib/python3.8/dist-packages/sklearn/metrics/_scorer.py\", line 381, in _score\n",
            "    return self._sign * self._score_func(y, y_pred, **self._kwargs)\n",
            "  File \"/usr/local/lib/python3.8/dist-packages/sklearn/metrics/_ranking.py\", line 567, in roc_auc_score\n",
            "    return _average_binary_score(\n",
            "  File \"/usr/local/lib/python3.8/dist-packages/sklearn/metrics/_base.py\", line 75, in _average_binary_score\n",
            "    return binary_metric(y_true, y_score, sample_weight=sample_weight)\n",
            "  File \"/usr/local/lib/python3.8/dist-packages/sklearn/metrics/_ranking.py\", line 337, in _binary_roc_auc_score\n",
            "    raise ValueError(\n",
            "ValueError: Only one class present in y_true. ROC AUC score is not defined in that case.\n",
            "\n",
            "  warnings.warn(\n",
            "/usr/local/lib/python3.8/dist-packages/sklearn/model_selection/_validation.py:770: UserWarning: Scoring failed. The score on this train-test partition for these parameters will be set to nan. Details: \n",
            "Traceback (most recent call last):\n",
            "  File \"/usr/local/lib/python3.8/dist-packages/sklearn/model_selection/_validation.py\", line 761, in _score\n",
            "    scores = scorer(estimator, X_test, y_test)\n",
            "  File \"/usr/local/lib/python3.8/dist-packages/sklearn/metrics/_scorer.py\", line 103, in __call__\n",
            "    score = scorer._score(cached_call, estimator, *args, **kwargs)\n",
            "  File \"/usr/local/lib/python3.8/dist-packages/sklearn/metrics/_scorer.py\", line 381, in _score\n",
            "    return self._sign * self._score_func(y, y_pred, **self._kwargs)\n",
            "  File \"/usr/local/lib/python3.8/dist-packages/sklearn/metrics/_ranking.py\", line 567, in roc_auc_score\n",
            "    return _average_binary_score(\n",
            "  File \"/usr/local/lib/python3.8/dist-packages/sklearn/metrics/_base.py\", line 75, in _average_binary_score\n",
            "    return binary_metric(y_true, y_score, sample_weight=sample_weight)\n",
            "  File \"/usr/local/lib/python3.8/dist-packages/sklearn/metrics/_ranking.py\", line 337, in _binary_roc_auc_score\n",
            "    raise ValueError(\n",
            "ValueError: Only one class present in y_true. ROC AUC score is not defined in that case.\n",
            "\n",
            "  warnings.warn(\n",
            "/usr/local/lib/python3.8/dist-packages/sklearn/model_selection/_validation.py:770: UserWarning: Scoring failed. The score on this train-test partition for these parameters will be set to nan. Details: \n",
            "Traceback (most recent call last):\n",
            "  File \"/usr/local/lib/python3.8/dist-packages/sklearn/model_selection/_validation.py\", line 761, in _score\n",
            "    scores = scorer(estimator, X_test, y_test)\n",
            "  File \"/usr/local/lib/python3.8/dist-packages/sklearn/metrics/_scorer.py\", line 103, in __call__\n",
            "    score = scorer._score(cached_call, estimator, *args, **kwargs)\n",
            "  File \"/usr/local/lib/python3.8/dist-packages/sklearn/metrics/_scorer.py\", line 381, in _score\n",
            "    return self._sign * self._score_func(y, y_pred, **self._kwargs)\n",
            "  File \"/usr/local/lib/python3.8/dist-packages/sklearn/metrics/_ranking.py\", line 567, in roc_auc_score\n",
            "    return _average_binary_score(\n",
            "  File \"/usr/local/lib/python3.8/dist-packages/sklearn/metrics/_base.py\", line 75, in _average_binary_score\n",
            "    return binary_metric(y_true, y_score, sample_weight=sample_weight)\n",
            "  File \"/usr/local/lib/python3.8/dist-packages/sklearn/metrics/_ranking.py\", line 337, in _binary_roc_auc_score\n",
            "    raise ValueError(\n",
            "ValueError: Only one class present in y_true. ROC AUC score is not defined in that case.\n",
            "\n",
            "  warnings.warn(\n",
            "/usr/local/lib/python3.8/dist-packages/sklearn/model_selection/_validation.py:770: UserWarning: Scoring failed. The score on this train-test partition for these parameters will be set to nan. Details: \n",
            "Traceback (most recent call last):\n",
            "  File \"/usr/local/lib/python3.8/dist-packages/sklearn/model_selection/_validation.py\", line 761, in _score\n",
            "    scores = scorer(estimator, X_test, y_test)\n",
            "  File \"/usr/local/lib/python3.8/dist-packages/sklearn/metrics/_scorer.py\", line 103, in __call__\n",
            "    score = scorer._score(cached_call, estimator, *args, **kwargs)\n",
            "  File \"/usr/local/lib/python3.8/dist-packages/sklearn/metrics/_scorer.py\", line 381, in _score\n",
            "    return self._sign * self._score_func(y, y_pred, **self._kwargs)\n",
            "  File \"/usr/local/lib/python3.8/dist-packages/sklearn/metrics/_ranking.py\", line 567, in roc_auc_score\n",
            "    return _average_binary_score(\n",
            "  File \"/usr/local/lib/python3.8/dist-packages/sklearn/metrics/_base.py\", line 75, in _average_binary_score\n",
            "    return binary_metric(y_true, y_score, sample_weight=sample_weight)\n",
            "  File \"/usr/local/lib/python3.8/dist-packages/sklearn/metrics/_ranking.py\", line 337, in _binary_roc_auc_score\n",
            "    raise ValueError(\n",
            "ValueError: Only one class present in y_true. ROC AUC score is not defined in that case.\n",
            "\n",
            "  warnings.warn(\n",
            "/usr/local/lib/python3.8/dist-packages/sklearn/model_selection/_validation.py:770: UserWarning: Scoring failed. The score on this train-test partition for these parameters will be set to nan. Details: \n",
            "Traceback (most recent call last):\n",
            "  File \"/usr/local/lib/python3.8/dist-packages/sklearn/model_selection/_validation.py\", line 761, in _score\n",
            "    scores = scorer(estimator, X_test, y_test)\n",
            "  File \"/usr/local/lib/python3.8/dist-packages/sklearn/metrics/_scorer.py\", line 103, in __call__\n",
            "    score = scorer._score(cached_call, estimator, *args, **kwargs)\n",
            "  File \"/usr/local/lib/python3.8/dist-packages/sklearn/metrics/_scorer.py\", line 381, in _score\n",
            "    return self._sign * self._score_func(y, y_pred, **self._kwargs)\n",
            "  File \"/usr/local/lib/python3.8/dist-packages/sklearn/metrics/_ranking.py\", line 567, in roc_auc_score\n",
            "    return _average_binary_score(\n",
            "  File \"/usr/local/lib/python3.8/dist-packages/sklearn/metrics/_base.py\", line 75, in _average_binary_score\n",
            "    return binary_metric(y_true, y_score, sample_weight=sample_weight)\n",
            "  File \"/usr/local/lib/python3.8/dist-packages/sklearn/metrics/_ranking.py\", line 337, in _binary_roc_auc_score\n",
            "    raise ValueError(\n",
            "ValueError: Only one class present in y_true. ROC AUC score is not defined in that case.\n",
            "\n",
            "  warnings.warn(\n",
            "/usr/local/lib/python3.8/dist-packages/sklearn/model_selection/_validation.py:770: UserWarning: Scoring failed. The score on this train-test partition for these parameters will be set to nan. Details: \n",
            "Traceback (most recent call last):\n",
            "  File \"/usr/local/lib/python3.8/dist-packages/sklearn/model_selection/_validation.py\", line 761, in _score\n",
            "    scores = scorer(estimator, X_test, y_test)\n",
            "  File \"/usr/local/lib/python3.8/dist-packages/sklearn/metrics/_scorer.py\", line 103, in __call__\n",
            "    score = scorer._score(cached_call, estimator, *args, **kwargs)\n",
            "  File \"/usr/local/lib/python3.8/dist-packages/sklearn/metrics/_scorer.py\", line 381, in _score\n",
            "    return self._sign * self._score_func(y, y_pred, **self._kwargs)\n",
            "  File \"/usr/local/lib/python3.8/dist-packages/sklearn/metrics/_ranking.py\", line 567, in roc_auc_score\n",
            "    return _average_binary_score(\n",
            "  File \"/usr/local/lib/python3.8/dist-packages/sklearn/metrics/_base.py\", line 75, in _average_binary_score\n",
            "    return binary_metric(y_true, y_score, sample_weight=sample_weight)\n",
            "  File \"/usr/local/lib/python3.8/dist-packages/sklearn/metrics/_ranking.py\", line 337, in _binary_roc_auc_score\n",
            "    raise ValueError(\n",
            "ValueError: Only one class present in y_true. ROC AUC score is not defined in that case.\n",
            "\n",
            "  warnings.warn(\n",
            "/usr/local/lib/python3.8/dist-packages/sklearn/model_selection/_validation.py:770: UserWarning: Scoring failed. The score on this train-test partition for these parameters will be set to nan. Details: \n",
            "Traceback (most recent call last):\n",
            "  File \"/usr/local/lib/python3.8/dist-packages/sklearn/model_selection/_validation.py\", line 761, in _score\n",
            "    scores = scorer(estimator, X_test, y_test)\n",
            "  File \"/usr/local/lib/python3.8/dist-packages/sklearn/metrics/_scorer.py\", line 103, in __call__\n",
            "    score = scorer._score(cached_call, estimator, *args, **kwargs)\n",
            "  File \"/usr/local/lib/python3.8/dist-packages/sklearn/metrics/_scorer.py\", line 381, in _score\n",
            "    return self._sign * self._score_func(y, y_pred, **self._kwargs)\n",
            "  File \"/usr/local/lib/python3.8/dist-packages/sklearn/metrics/_ranking.py\", line 567, in roc_auc_score\n",
            "    return _average_binary_score(\n",
            "  File \"/usr/local/lib/python3.8/dist-packages/sklearn/metrics/_base.py\", line 75, in _average_binary_score\n",
            "    return binary_metric(y_true, y_score, sample_weight=sample_weight)\n",
            "  File \"/usr/local/lib/python3.8/dist-packages/sklearn/metrics/_ranking.py\", line 337, in _binary_roc_auc_score\n",
            "    raise ValueError(\n",
            "ValueError: Only one class present in y_true. ROC AUC score is not defined in that case.\n",
            "\n",
            "  warnings.warn(\n",
            "/usr/local/lib/python3.8/dist-packages/sklearn/model_selection/_validation.py:770: UserWarning: Scoring failed. The score on this train-test partition for these parameters will be set to nan. Details: \n",
            "Traceback (most recent call last):\n",
            "  File \"/usr/local/lib/python3.8/dist-packages/sklearn/model_selection/_validation.py\", line 761, in _score\n",
            "    scores = scorer(estimator, X_test, y_test)\n",
            "  File \"/usr/local/lib/python3.8/dist-packages/sklearn/metrics/_scorer.py\", line 103, in __call__\n",
            "    score = scorer._score(cached_call, estimator, *args, **kwargs)\n",
            "  File \"/usr/local/lib/python3.8/dist-packages/sklearn/metrics/_scorer.py\", line 381, in _score\n",
            "    return self._sign * self._score_func(y, y_pred, **self._kwargs)\n",
            "  File \"/usr/local/lib/python3.8/dist-packages/sklearn/metrics/_ranking.py\", line 567, in roc_auc_score\n",
            "    return _average_binary_score(\n",
            "  File \"/usr/local/lib/python3.8/dist-packages/sklearn/metrics/_base.py\", line 75, in _average_binary_score\n",
            "    return binary_metric(y_true, y_score, sample_weight=sample_weight)\n",
            "  File \"/usr/local/lib/python3.8/dist-packages/sklearn/metrics/_ranking.py\", line 337, in _binary_roc_auc_score\n",
            "    raise ValueError(\n",
            "ValueError: Only one class present in y_true. ROC AUC score is not defined in that case.\n",
            "\n",
            "  warnings.warn(\n",
            "/usr/local/lib/python3.8/dist-packages/sklearn/model_selection/_validation.py:770: UserWarning: Scoring failed. The score on this train-test partition for these parameters will be set to nan. Details: \n",
            "Traceback (most recent call last):\n",
            "  File \"/usr/local/lib/python3.8/dist-packages/sklearn/model_selection/_validation.py\", line 761, in _score\n",
            "    scores = scorer(estimator, X_test, y_test)\n",
            "  File \"/usr/local/lib/python3.8/dist-packages/sklearn/metrics/_scorer.py\", line 103, in __call__\n",
            "    score = scorer._score(cached_call, estimator, *args, **kwargs)\n",
            "  File \"/usr/local/lib/python3.8/dist-packages/sklearn/metrics/_scorer.py\", line 381, in _score\n",
            "    return self._sign * self._score_func(y, y_pred, **self._kwargs)\n",
            "  File \"/usr/local/lib/python3.8/dist-packages/sklearn/metrics/_ranking.py\", line 567, in roc_auc_score\n",
            "    return _average_binary_score(\n",
            "  File \"/usr/local/lib/python3.8/dist-packages/sklearn/metrics/_base.py\", line 75, in _average_binary_score\n",
            "    return binary_metric(y_true, y_score, sample_weight=sample_weight)\n",
            "  File \"/usr/local/lib/python3.8/dist-packages/sklearn/metrics/_ranking.py\", line 337, in _binary_roc_auc_score\n",
            "    raise ValueError(\n",
            "ValueError: Only one class present in y_true. ROC AUC score is not defined in that case.\n",
            "\n",
            "  warnings.warn(\n",
            "/usr/local/lib/python3.8/dist-packages/sklearn/model_selection/_validation.py:770: UserWarning: Scoring failed. The score on this train-test partition for these parameters will be set to nan. Details: \n",
            "Traceback (most recent call last):\n",
            "  File \"/usr/local/lib/python3.8/dist-packages/sklearn/model_selection/_validation.py\", line 761, in _score\n",
            "    scores = scorer(estimator, X_test, y_test)\n",
            "  File \"/usr/local/lib/python3.8/dist-packages/sklearn/metrics/_scorer.py\", line 103, in __call__\n",
            "    score = scorer._score(cached_call, estimator, *args, **kwargs)\n",
            "  File \"/usr/local/lib/python3.8/dist-packages/sklearn/metrics/_scorer.py\", line 381, in _score\n",
            "    return self._sign * self._score_func(y, y_pred, **self._kwargs)\n",
            "  File \"/usr/local/lib/python3.8/dist-packages/sklearn/metrics/_ranking.py\", line 567, in roc_auc_score\n",
            "    return _average_binary_score(\n",
            "  File \"/usr/local/lib/python3.8/dist-packages/sklearn/metrics/_base.py\", line 75, in _average_binary_score\n",
            "    return binary_metric(y_true, y_score, sample_weight=sample_weight)\n",
            "  File \"/usr/local/lib/python3.8/dist-packages/sklearn/metrics/_ranking.py\", line 337, in _binary_roc_auc_score\n",
            "    raise ValueError(\n",
            "ValueError: Only one class present in y_true. ROC AUC score is not defined in that case.\n",
            "\n",
            "  warnings.warn(\n",
            "/usr/local/lib/python3.8/dist-packages/sklearn/model_selection/_validation.py:770: UserWarning: Scoring failed. The score on this train-test partition for these parameters will be set to nan. Details: \n",
            "Traceback (most recent call last):\n",
            "  File \"/usr/local/lib/python3.8/dist-packages/sklearn/model_selection/_validation.py\", line 761, in _score\n",
            "    scores = scorer(estimator, X_test, y_test)\n",
            "  File \"/usr/local/lib/python3.8/dist-packages/sklearn/metrics/_scorer.py\", line 103, in __call__\n",
            "    score = scorer._score(cached_call, estimator, *args, **kwargs)\n",
            "  File \"/usr/local/lib/python3.8/dist-packages/sklearn/metrics/_scorer.py\", line 381, in _score\n",
            "    return self._sign * self._score_func(y, y_pred, **self._kwargs)\n",
            "  File \"/usr/local/lib/python3.8/dist-packages/sklearn/metrics/_ranking.py\", line 567, in roc_auc_score\n",
            "    return _average_binary_score(\n",
            "  File \"/usr/local/lib/python3.8/dist-packages/sklearn/metrics/_base.py\", line 75, in _average_binary_score\n",
            "    return binary_metric(y_true, y_score, sample_weight=sample_weight)\n",
            "  File \"/usr/local/lib/python3.8/dist-packages/sklearn/metrics/_ranking.py\", line 337, in _binary_roc_auc_score\n",
            "    raise ValueError(\n",
            "ValueError: Only one class present in y_true. ROC AUC score is not defined in that case.\n",
            "\n",
            "  warnings.warn(\n",
            "/usr/local/lib/python3.8/dist-packages/sklearn/model_selection/_validation.py:770: UserWarning: Scoring failed. The score on this train-test partition for these parameters will be set to nan. Details: \n",
            "Traceback (most recent call last):\n",
            "  File \"/usr/local/lib/python3.8/dist-packages/sklearn/model_selection/_validation.py\", line 761, in _score\n",
            "    scores = scorer(estimator, X_test, y_test)\n",
            "  File \"/usr/local/lib/python3.8/dist-packages/sklearn/metrics/_scorer.py\", line 103, in __call__\n",
            "    score = scorer._score(cached_call, estimator, *args, **kwargs)\n",
            "  File \"/usr/local/lib/python3.8/dist-packages/sklearn/metrics/_scorer.py\", line 381, in _score\n",
            "    return self._sign * self._score_func(y, y_pred, **self._kwargs)\n",
            "  File \"/usr/local/lib/python3.8/dist-packages/sklearn/metrics/_ranking.py\", line 567, in roc_auc_score\n",
            "    return _average_binary_score(\n",
            "  File \"/usr/local/lib/python3.8/dist-packages/sklearn/metrics/_base.py\", line 75, in _average_binary_score\n",
            "    return binary_metric(y_true, y_score, sample_weight=sample_weight)\n",
            "  File \"/usr/local/lib/python3.8/dist-packages/sklearn/metrics/_ranking.py\", line 337, in _binary_roc_auc_score\n",
            "    raise ValueError(\n",
            "ValueError: Only one class present in y_true. ROC AUC score is not defined in that case.\n",
            "\n",
            "  warnings.warn(\n",
            "/usr/local/lib/python3.8/dist-packages/sklearn/model_selection/_validation.py:770: UserWarning: Scoring failed. The score on this train-test partition for these parameters will be set to nan. Details: \n",
            "Traceback (most recent call last):\n",
            "  File \"/usr/local/lib/python3.8/dist-packages/sklearn/model_selection/_validation.py\", line 761, in _score\n",
            "    scores = scorer(estimator, X_test, y_test)\n",
            "  File \"/usr/local/lib/python3.8/dist-packages/sklearn/metrics/_scorer.py\", line 103, in __call__\n",
            "    score = scorer._score(cached_call, estimator, *args, **kwargs)\n",
            "  File \"/usr/local/lib/python3.8/dist-packages/sklearn/metrics/_scorer.py\", line 381, in _score\n",
            "    return self._sign * self._score_func(y, y_pred, **self._kwargs)\n",
            "  File \"/usr/local/lib/python3.8/dist-packages/sklearn/metrics/_ranking.py\", line 567, in roc_auc_score\n",
            "    return _average_binary_score(\n",
            "  File \"/usr/local/lib/python3.8/dist-packages/sklearn/metrics/_base.py\", line 75, in _average_binary_score\n",
            "    return binary_metric(y_true, y_score, sample_weight=sample_weight)\n",
            "  File \"/usr/local/lib/python3.8/dist-packages/sklearn/metrics/_ranking.py\", line 337, in _binary_roc_auc_score\n",
            "    raise ValueError(\n",
            "ValueError: Only one class present in y_true. ROC AUC score is not defined in that case.\n",
            "\n",
            "  warnings.warn(\n"
          ]
        }
      ],
      "source": [
        "results = {}\n",
        "\n",
        "kf = KFold(n_splits= 10)\n",
        "\n",
        "for name, model in models.items():\n",
        "    result = cross_val_score(model, X_smote_train, Y_smote_train, scoring= 'roc_auc', cv= kf)\n",
        "    results[name] = result"
      ]
    },
    {
      "cell_type": "code",
      "execution_count": 76,
      "metadata": {
        "execution": {
          "iopub.execute_input": "2022-08-28T11:19:45.100602Z",
          "iopub.status.busy": "2022-08-28T11:19:45.100278Z",
          "iopub.status.idle": "2022-08-28T11:19:45.104885Z",
          "shell.execute_reply": "2022-08-28T11:19:45.104250Z"
        },
        "papermill": {
          "duration": 0.027916,
          "end_time": "2022-08-28T11:19:45.106445",
          "exception": false,
          "start_time": "2022-08-28T11:19:45.078529",
          "status": "completed"
        },
        "tags": [],
        "id": "1db60d9a",
        "outputId": "bf20fc60-6c57-4b6b-b32a-02779c455316",
        "colab": {
          "base_uri": "https://localhost:8080/"
        }
      },
      "outputs": [
        {
          "output_type": "stream",
          "name": "stdout",
          "text": [
            "********************\n",
            "logistic regression : nan\n",
            "********************\n",
            "xgboost : nan\n",
            "********************\n",
            "catboost : nan\n",
            "********************\n",
            "gradient boosing : nan\n",
            "********************\n",
            "naive bayes : nan\n",
            "********************\n",
            "random forest : nan\n"
          ]
        }
      ],
      "source": [
        "for name, result in results.items():\n",
        "    print(\"********************\")\n",
        "    print(f'{name} : {np.mean(result)}')"
      ]
    }
  ]
}